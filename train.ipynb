{
 "cells": [
  {
   "cell_type": "code",
   "execution_count": 1,
   "metadata": {},
   "outputs": [
    {
     "name": "stderr",
     "output_type": "stream",
     "text": [
      "/home/janis/.local/lib/python3.10/site-packages/tqdm/auto.py:21: TqdmWarning: IProgress not found. Please update jupyter and ipywidgets. See https://ipywidgets.readthedocs.io/en/stable/user_install.html\n",
      "  from .autonotebook import tqdm as notebook_tqdm\n",
      "2023-08-16 19:05:15,228\tINFO util.py:159 -- Missing packages: ['ipywidgets']. Run `pip install -U ipywidgets`, then restart the notebook server for rich notebook output.\n",
      "2023-08-16 19:05:15,276\tINFO util.py:159 -- Missing packages: ['ipywidgets']. Run `pip install -U ipywidgets`, then restart the notebook server for rich notebook output.\n",
      "2023-08-16 19:05:15,349\tINFO util.py:159 -- Missing packages: ['ipywidgets']. Run `pip install -U ipywidgets`, then restart the notebook server for rich notebook output.\n"
     ]
    }
   ],
   "source": [
    "from dataloaders import data_set,data_dict\n",
    "import torch\n",
    "import yaml\n",
    "import os\n",
    "import torch.nn as nn\n",
    "\n",
    "import torch\n",
    "import torch.optim as optim\n",
    "\n",
    "from dataloaders import data_set,data_dict\n",
    "from models.model_builder import model_builder\n",
    "import pandas as pd\n",
    "\n",
    "import numpy as np\n",
    "\n",
    "import ray\n",
    "from ray import tune, air\n",
    "from ray.air import session, Checkpoint\n",
    "from ray.tune.examples.mnist_pytorch import ConvNet, get_data_loaders, test\n",
    "from ray.tune.schedulers import PopulationBasedTraining\n",
    "\n",
    "import random\n",
    "from ray.tune.schedulers.pb2 import PB2\n",
    "\n",
    "from pbtexperiment import train\n",
    "from analysis import cal_test_accuracy"
   ]
  },
  {
   "cell_type": "code",
   "execution_count": 2,
   "metadata": {},
   "outputs": [],
   "source": [
    "config_path = os.path.abspath('configs/data.yaml')\n",
    "model_config = os.path.abspath('configs/model.yaml')\n",
    "root_path = os.path.abspath(\"datasets\")\n",
    "to_save_path = os.path.abspath(\"ISWC2022LearnableFilter/Run_logs\")   \n",
    "freq_save_path = os.path.abspath(\"ISWC2022LearnableFilter/Freq_data\")\n",
    "window_save_path = os.path.abspath(\"ISWC2022LearnableFilter/Sliding_window\")\n",
    "\n",
    "class dotdict(dict):\n",
    "    \"\"\"dot.notation access to dictionary attributes\"\"\"\n",
    "    def __getattr__(self, attr):\n",
    "        if attr.startswith('__'):\n",
    "            raise AttributeError(\"Should not start with __\")\n",
    "        return self.get(attr)\n",
    "    #__getattr__ = dict.get\n",
    "    __setattr__ = dict.__setitem__\n",
    "    __delattr__ = dict.__delitem__\n",
    "\n",
    "def get_args():\n",
    "    args = dotdict()   \n",
    "    \n",
    "    \n",
    "    args.training_iterations = 100\n",
    "    args.restore = False\n",
    "    args.perturbation_interval = 3\n",
    "    args.trials = 16\n",
    "    args.scheduler = \"pbt\"\n",
    "    args.storage_path = \"/home/janis/PopulationBasedTraining/RayTuneResults/oppo/pbt\"\n",
    "    args.cpu_per_trial = 1\n",
    "    args.gpu_per_trial = 0.2\n",
    "    args.synch = True\n",
    "    #exploit \n",
    "    args.quantile_fraction = 0.25\n",
    "    \n",
    "    #only pbt\n",
    "    args.resample_probability = 0.2\n",
    "    args.burn_in_period = 0\n",
    "    \n",
    "\n",
    "    args.seed = 1\n",
    "\n",
    "    # TODO change the path as relative path\n",
    "    args.to_save_path     = to_save_path\n",
    "    args.freq_save_path   = freq_save_path\n",
    "    args.window_save_path = window_save_path\n",
    "    args.root_path        = root_path\n",
    "\n",
    "    args.drop_transition  = False\n",
    "    args.datanorm_type    = \"standardization\" # None ,\"standardization\", \"minmax\"\n",
    "\n",
    "    args.batch_size       = 256                                                    \n",
    "    args.shuffle          = True\n",
    "    args.drop_last        = False\n",
    "    args.train_vali_quote = 0.90                                           \n",
    "\n",
    "\n",
    "    # training setting \n",
    "    #args.train_epochs            = 150\n",
    "\n",
    "    args.learning_rate           = 0.001  \n",
    "    args.learning_rate_patience  = 5\n",
    "    args.learning_rate_factor    = 0.1\n",
    "\n",
    "\n",
    "    args.early_stop_patience     = 15\n",
    "\n",
    "    #args.use_gpu                 = True if torch.cuda.is_available() else False\n",
    "    #args.gpu                     = 0\n",
    "    #args.use_multi_gpu           = False\n",
    "\n",
    "    args.optimizer               = \"Adam\"\n",
    "    args.criterion               = \"CrossEntropy\"\n",
    "\n",
    "    args.data_name                        =  \"oppo\"\n",
    "    args.use_vali_keys = True\n",
    "    \n",
    "\n",
    "    args.wavelet_filtering                = False\n",
    "    args.wavelet_filtering_regularization = False\n",
    "    args.wavelet_filtering_finetuning     = False\n",
    "\n",
    "\n",
    "    args.difference       = False \n",
    "    args.filtering        = False\n",
    "    args.magnitude        = False\n",
    "    args.weighted_sampler = False\n",
    "\n",
    "    args.pos_select       = None\n",
    "    args.sensor_select    = None\n",
    "\n",
    "\n",
    "    args.representation_type = \"time\"\n",
    "    #args.exp_mode            = \"LOCV\"\n",
    "    args.exp_mode            = \"Given\"\n",
    "\n",
    "  #  if args.data_name      ==  \"skodar\":\n",
    "  #      args.exp_mode            = \"SOCV\"\n",
    "\n",
    "    config_file = open(config_path, mode='r')\n",
    "    data_config = yaml.load(config_file, Loader=yaml.FullLoader)\n",
    "    config = data_config[args.data_name]\n",
    "\n",
    "    args.root_path       = os.path.join(args.root_path,config[\"filename\"])\n",
    "    args.sampling_freq   = config[\"sampling_freq\"]\n",
    "    args.num_classes     =  config[\"num_classes\"]\n",
    "    window_seconds       = config[\"window_seconds\"]\n",
    "    args.windowsize      =   int(window_seconds * args.sampling_freq) \n",
    "    args.input_length    =  args.windowsize\n",
    "    # input information\n",
    "    args.c_in            = config[\"num_channels\"]\n",
    "\n",
    "    if args.wavelet_filtering :\n",
    "        \n",
    "        if args.windowsize%2==1:\n",
    "            N_ds = int(torch.log2(torch.tensor(args.windowsize-1)).floor()) - 2\n",
    "        else:\n",
    "            N_ds = int(torch.log2(torch.tensor(args.windowsize)).floor()) - 2\n",
    "\n",
    "        args.f_in            =  args.number_wavelet_filtering*N_ds+1\n",
    "    else:\n",
    "        args.f_in            =  1\n",
    "\n",
    "\n",
    "    args.filter_scaling_factor = 0.25\n",
    "    args.model_type            = \"deepconvlstm\"\n",
    "    args.model_config = model_config\n",
    "\n",
    "    #args.random_augmentation_prob = 0.5\n",
    "    #args.mixup_probability  = 0.5\n",
    "    #args.random_aug_first = True\n",
    "    args.mixup_alpha  = 0.4\n",
    "    args.mixup_argmax = True\n",
    "\n",
    "    args.max_aug = 3\n",
    "\n",
    "    args.random_augmentation_config = {\"jitter\":True,\n",
    "                                    \"moving_average\":True,\n",
    "                                    \"magnitude_scaling\":True,\n",
    "                                    \"magnitude_warp\":True,\n",
    "                                    \"magnitude_shift\":True,\n",
    "                                    \"time_warp\":True,\n",
    "                                    \"window_warp\":True,\n",
    "                                    \"window_slice\":True,\n",
    "                                    \"random_sampling\":True,\n",
    "                                    \"slope_adding\":True\n",
    "                                    }\n",
    "    random_augmentation_nr = 0\n",
    "    for key in args.random_augmentation_config.keys():\n",
    "        if args.random_augmentation_config[key]==1:\n",
    "            random_augmentation_nr = random_augmentation_nr+1\n",
    "    args.random_augmentation_nr = random_augmentation_nr\n",
    "\n",
    "    return args"
   ]
  },
  {
   "cell_type": "code",
   "execution_count": 3,
   "metadata": {},
   "outputs": [
    {
     "data": {
      "text/html": [
       "<div class=\"tuneStatus\">\n",
       "  <div style=\"display: flex;flex-direction: row\">\n",
       "    <div style=\"display: flex;flex-direction: column;\">\n",
       "      <h3>Tune Status</h3>\n",
       "      <table>\n",
       "<tbody>\n",
       "<tr><td>Current time:</td><td>2023-08-16 21:57:11</td></tr>\n",
       "<tr><td>Running for: </td><td>02:51:36.18        </td></tr>\n",
       "<tr><td>Memory:      </td><td>28.8/31.1 GiB      </td></tr>\n",
       "</tbody>\n",
       "</table>\n",
       "    </div>\n",
       "    <div class=\"vDivider\"></div>\n",
       "    <div class=\"systemInfo\">\n",
       "      <h3>System Info</h3>\n",
       "      PopulationBasedTraining: 28 checkpoints, 28 perturbs<br>Logical resource usage: 5.0/24 CPUs, 1.0/1 GPUs (0.0/1.0 accelerator_type:G)\n",
       "    </div>\n",
       "    <div class=\"vDivider\"></div>\n",
       "<div class=\"messages\">\n",
       "  <h3>Messages</h3>\n",
       "  : ***LOW MEMORY*** less than 10% of the memory on this node is available for use. This can cause unexpected crashes. Consider reducing the memory used by your application or reducing the Ray object store size by setting `object_store_memory` when calling `ray.init`.\n",
       "  \n",
       "  \n",
       "</div>\n",
       "<style>\n",
       ".messages {\n",
       "  color: var(--jp-ui-font-color1);\n",
       "  display: flex;\n",
       "  flex-direction: column;\n",
       "  padding-left: 1em;\n",
       "  overflow-y: auto;\n",
       "}\n",
       ".messages h3 {\n",
       "  font-weight: bold;\n",
       "}\n",
       ".vDivider {\n",
       "  border-left-width: var(--jp-border-width);\n",
       "  border-left-color: var(--jp-border-color0);\n",
       "  border-left-style: solid;\n",
       "  margin: 0.5em 1em 0.5em 1em;\n",
       "}\n",
       "</style>\n",
       "\n",
       "  </div>\n",
       "  <div class=\"hDivider\"></div>\n",
       "  <div class=\"trialStatus\">\n",
       "    <h3>Trial Status</h3>\n",
       "    <table>\n",
       "<thead>\n",
       "<tr><th>Trial name           </th><th>status  </th><th>loc                </th><th style=\"text-align: right;\">  mixup_probability</th><th>random_aug_first  </th><th style=\"text-align: right;\">    random_augmentation_\n",
       "prob</th><th style=\"text-align: right;\">     acc</th><th style=\"text-align: right;\">  iter</th><th style=\"text-align: right;\">  total time (s)</th><th style=\"text-align: right;\">  total_loss</th><th style=\"text-align: right;\">    random_augmentation_\n",
       "prob</th><th style=\"text-align: right;\">  mixup_probability</th></tr>\n",
       "</thead>\n",
       "<tbody>\n",
       "<tr><td>train_net_1dddc_00007</td><td>RUNNING </td><td>10.10.253.254:23390</td><td style=\"text-align: right;\">                0.7</td><td>True              </td><td style=\"text-align: right;\">0  </td><td style=\"text-align: right;\">0.899395</td><td style=\"text-align: right;\">    22</td><td style=\"text-align: right;\">         3094.98</td><td style=\"text-align: right;\">    0.304689</td><td style=\"text-align: right;\">0  </td><td style=\"text-align: right;\">                0.7</td></tr>\n",
       "<tr><td>train_net_1dddc_00008</td><td>RUNNING </td><td>10.10.253.254:26724</td><td style=\"text-align: right;\">                0.8</td><td>True              </td><td style=\"text-align: right;\">0.1</td><td style=\"text-align: right;\">0.89334 </td><td style=\"text-align: right;\">    22</td><td style=\"text-align: right;\">         3074.91</td><td style=\"text-align: right;\">    0.311311</td><td style=\"text-align: right;\">0.1</td><td style=\"text-align: right;\">                0.8</td></tr>\n",
       "<tr><td>train_net_1dddc_00009</td><td>RUNNING </td><td>10.10.253.254:26598</td><td style=\"text-align: right;\">                0.6</td><td>True              </td><td style=\"text-align: right;\">0.2</td><td style=\"text-align: right;\">0.892408</td><td style=\"text-align: right;\">    22</td><td style=\"text-align: right;\">         3809.61</td><td style=\"text-align: right;\">    0.334653</td><td style=\"text-align: right;\">0.2</td><td style=\"text-align: right;\">                0.6</td></tr>\n",
       "<tr><td>train_net_1dddc_00010</td><td>RUNNING </td><td>10.10.253.254:26676</td><td style=\"text-align: right;\">                0.8</td><td>True              </td><td style=\"text-align: right;\">0.4</td><td style=\"text-align: right;\">0.894271</td><td style=\"text-align: right;\">    22</td><td style=\"text-align: right;\">         2411.87</td><td style=\"text-align: right;\">    0.317241</td><td style=\"text-align: right;\">0.4</td><td style=\"text-align: right;\">                0.8</td></tr>\n",
       "<tr><td>train_net_1dddc_00011</td><td>RUNNING </td><td>10.10.253.254:23305</td><td style=\"text-align: right;\">                1  </td><td>True              </td><td style=\"text-align: right;\">0.4</td><td style=\"text-align: right;\">0.896134</td><td style=\"text-align: right;\">    21</td><td style=\"text-align: right;\">         2278.19</td><td style=\"text-align: right;\">    0.319482</td><td style=\"text-align: right;\">0.5</td><td style=\"text-align: right;\">                0.9</td></tr>\n",
       "<tr><td>train_net_1dddc_00000</td><td>PAUSED  </td><td>10.10.253.254:23390</td><td style=\"text-align: right;\">                0.5</td><td>True              </td><td style=\"text-align: right;\">0  </td><td style=\"text-align: right;\">0.891011</td><td style=\"text-align: right;\">    24</td><td style=\"text-align: right;\">         3579.23</td><td style=\"text-align: right;\">    0.307465</td><td style=\"text-align: right;\">0  </td><td style=\"text-align: right;\">                0.5</td></tr>\n",
       "<tr><td>train_net_1dddc_00001</td><td>PAUSED  </td><td>10.10.253.254:26598</td><td style=\"text-align: right;\">                0.9</td><td>True              </td><td style=\"text-align: right;\">0  </td><td style=\"text-align: right;\">0.8966  </td><td style=\"text-align: right;\">    24</td><td style=\"text-align: right;\">         3587.98</td><td style=\"text-align: right;\">    0.312521</td><td style=\"text-align: right;\">0  </td><td style=\"text-align: right;\">                0.9</td></tr>\n",
       "<tr><td>train_net_1dddc_00002</td><td>PAUSED  </td><td>10.10.253.254:26676</td><td style=\"text-align: right;\">                0.3</td><td>True              </td><td style=\"text-align: right;\">0.3</td><td style=\"text-align: right;\">0.895203</td><td style=\"text-align: right;\">    24</td><td style=\"text-align: right;\">         3832.85</td><td style=\"text-align: right;\">    0.308168</td><td style=\"text-align: right;\">0.3</td><td style=\"text-align: right;\">                0.3</td></tr>\n",
       "<tr><td>train_net_1dddc_00003</td><td>PAUSED  </td><td>10.10.253.254:26724</td><td style=\"text-align: right;\">                0.9</td><td>True              </td><td style=\"text-align: right;\">0  </td><td style=\"text-align: right;\">0.901258</td><td style=\"text-align: right;\">    24</td><td style=\"text-align: right;\">         3585.18</td><td style=\"text-align: right;\">    0.304483</td><td style=\"text-align: right;\">0  </td><td style=\"text-align: right;\">                0.9</td></tr>\n",
       "<tr><td>train_net_1dddc_00004</td><td>PAUSED  </td><td>10.10.253.254:26768</td><td style=\"text-align: right;\">                1  </td><td>True              </td><td style=\"text-align: right;\">0.6</td><td style=\"text-align: right;\">0.894737</td><td style=\"text-align: right;\">    24</td><td style=\"text-align: right;\">         2151.59</td><td style=\"text-align: right;\">    0.309296</td><td style=\"text-align: right;\">0.6</td><td style=\"text-align: right;\">                1  </td></tr>\n",
       "<tr><td>train_net_1dddc_00005</td><td>PAUSED  </td><td>10.10.253.254:26768</td><td style=\"text-align: right;\">                1  </td><td>True              </td><td style=\"text-align: right;\">0.1</td><td style=\"text-align: right;\">0.894271</td><td style=\"text-align: right;\">    24</td><td style=\"text-align: right;\">         3390.57</td><td style=\"text-align: right;\">    0.314305</td><td style=\"text-align: right;\">0.1</td><td style=\"text-align: right;\">                1  </td></tr>\n",
       "<tr><td>train_net_1dddc_00006</td><td>PAUSED  </td><td>10.10.253.254:26676</td><td style=\"text-align: right;\">                0.9</td><td>True              </td><td style=\"text-align: right;\">0.5</td><td style=\"text-align: right;\">0.896134</td><td style=\"text-align: right;\">    24</td><td style=\"text-align: right;\">         2560.8 </td><td style=\"text-align: right;\">    0.337545</td><td style=\"text-align: right;\">0.5</td><td style=\"text-align: right;\">                0.9</td></tr>\n",
       "<tr><td>train_net_1dddc_00013</td><td>PAUSED  </td><td>10.10.253.254:21282</td><td style=\"text-align: right;\">                0.3</td><td>True              </td><td style=\"text-align: right;\">0.8</td><td style=\"text-align: right;\">0.89334 </td><td style=\"text-align: right;\">    21</td><td style=\"text-align: right;\">         1480.73</td><td style=\"text-align: right;\">    0.334711</td><td style=\"text-align: right;\">0.8</td><td style=\"text-align: right;\">                0.3</td></tr>\n",
       "<tr><td>train_net_1dddc_00014</td><td>PAUSED  </td><td>10.10.253.254:21282</td><td style=\"text-align: right;\">                0.9</td><td>True              </td><td style=\"text-align: right;\">0.5</td><td style=\"text-align: right;\">0.890079</td><td style=\"text-align: right;\">    21</td><td style=\"text-align: right;\">         2138.89</td><td style=\"text-align: right;\">    0.326918</td><td style=\"text-align: right;\">0.5</td><td style=\"text-align: right;\">                0.9</td></tr>\n",
       "<tr><td>train_net_1dddc_00015</td><td>PAUSED  </td><td>10.10.253.254:23390</td><td style=\"text-align: right;\">                0.4</td><td>True              </td><td style=\"text-align: right;\">0.2</td><td style=\"text-align: right;\">0.891942</td><td style=\"text-align: right;\">    21</td><td style=\"text-align: right;\">         3376.91</td><td style=\"text-align: right;\">    0.326004</td><td style=\"text-align: right;\">0.2</td><td style=\"text-align: right;\">                0.4</td></tr>\n",
       "<tr><td>train_net_1dddc_00012</td><td>PENDING </td><td>10.10.253.254:23305</td><td style=\"text-align: right;\">                0.9</td><td>True              </td><td style=\"text-align: right;\">0.5</td><td style=\"text-align: right;\">0.896134</td><td style=\"text-align: right;\">    21</td><td style=\"text-align: right;\">         2278.19</td><td style=\"text-align: right;\">    0.319482</td><td style=\"text-align: right;\">0.5</td><td style=\"text-align: right;\">                0.9</td></tr>\n",
       "</tbody>\n",
       "</table>\n",
       "  </div>\n",
       "</div>\n",
       "<style>\n",
       ".tuneStatus {\n",
       "  color: var(--jp-ui-font-color1);\n",
       "}\n",
       ".tuneStatus .systemInfo {\n",
       "  display: flex;\n",
       "  flex-direction: column;\n",
       "}\n",
       ".tuneStatus td {\n",
       "  white-space: nowrap;\n",
       "}\n",
       ".tuneStatus .trialStatus {\n",
       "  display: flex;\n",
       "  flex-direction: column;\n",
       "}\n",
       ".tuneStatus h3 {\n",
       "  font-weight: bold;\n",
       "}\n",
       ".tuneStatus .hDivider {\n",
       "  border-bottom-width: var(--jp-border-width);\n",
       "  border-bottom-color: var(--jp-border-color0);\n",
       "  border-bottom-style: solid;\n",
       "}\n",
       ".tuneStatus .vDivider {\n",
       "  border-left-width: var(--jp-border-width);\n",
       "  border-left-color: var(--jp-border-color0);\n",
       "  border-left-style: solid;\n",
       "  margin: 0.5em 1em 0.5em 1em;\n",
       "}\n",
       "</style>\n"
      ],
      "text/plain": [
       "<IPython.core.display.HTML object>"
      ]
     },
     "metadata": {},
     "output_type": "display_data"
    },
    {
     "name": "stdout",
     "output_type": "stream",
     "text": [
      "\u001b[2m\u001b[36m(train_net pid=9921)\u001b[0m /tmp/ray/session_2023-08-16_19-05-30_904053_8929/runtime_resources/working_dir_files/_ray_pkg_f201ed243ee42fb4\n",
      "\u001b[2m\u001b[36m(train_net pid=9921)\u001b[0m Train data number :  47869\n",
      "\u001b[2m\u001b[36m(train_net pid=9921)\u001b[0m The number of classes is :  18\n",
      "\u001b[2m\u001b[36m(train_net pid=9921)\u001b[0m The input_length  is :  30\n",
      "\u001b[2m\u001b[36m(train_net pid=9921)\u001b[0m The channel_in is :  77\n",
      "\u001b[2m\u001b[36m(train_net pid=9921)\u001b[0m Validation data number :  2147\n",
      "\u001b[2m\u001b[36m(train_net pid=9921)\u001b[0m Build the DeepConvLSTM model!\n",
      "\u001b[2m\u001b[36m(train_net pid=9924)\u001b[0m new best score!!!!\n",
      "\u001b[2m\u001b[36m(train_net pid=9924)\u001b[0m /tmp/ray/session_2023-08-16_19-05-30_904053_8929/runtime_resources/working_dir_files/_ray_pkg_f201ed243ee42fb4\u001b[32m [repeated 4x across cluster] (Ray deduplicates logs by default. Set RAY_DEDUP_LOGS=0 to disable log deduplication, or see https://docs.ray.io/en/master/ray-observability/ray-logging.html#log-deduplication for more options.)\u001b[0m\n",
      "\u001b[2m\u001b[36m(train_net pid=9924)\u001b[0m Train data number :  47869\u001b[32m [repeated 4x across cluster]\u001b[0m\n",
      "\u001b[2m\u001b[36m(train_net pid=9924)\u001b[0m The number of classes is :  18\u001b[32m [repeated 4x across cluster]\u001b[0m\n",
      "\u001b[2m\u001b[36m(train_net pid=9924)\u001b[0m The input_length  is :  30\u001b[32m [repeated 4x across cluster]\u001b[0m\n",
      "\u001b[2m\u001b[36m(train_net pid=9924)\u001b[0m The channel_in is :  77\u001b[32m [repeated 4x across cluster]\u001b[0m\n",
      "\u001b[2m\u001b[36m(train_net pid=9924)\u001b[0m Validation data number :  2147\u001b[32m [repeated 4x across cluster]\u001b[0m\n",
      "\u001b[2m\u001b[36m(train_net pid=9924)\u001b[0m Build the DeepConvLSTM model!\u001b[32m [repeated 4x across cluster]\u001b[0m\n",
      "\u001b[2m\u001b[36m(train_net pid=9924)\u001b[0m new best score!!!!\n",
      "\u001b[2m\u001b[36m(train_net pid=9924)\u001b[0m /tmp/ray/session_2023-08-16_19-05-30_904053_8929/runtime_resources/working_dir_files/_ray_pkg_f201ed243ee42fb4\n",
      "\u001b[2m\u001b[36m(train_net pid=9924)\u001b[0m Train data number :  47869\n",
      "\u001b[2m\u001b[36m(train_net pid=9924)\u001b[0m The number of classes is :  18\n",
      "\u001b[2m\u001b[36m(train_net pid=9924)\u001b[0m The input_length  is :  30\n",
      "\u001b[2m\u001b[36m(train_net pid=9924)\u001b[0m The channel_in is :  77\n",
      "\u001b[2m\u001b[36m(train_net pid=9924)\u001b[0m Validation data number :  2147\n",
      "\u001b[2m\u001b[36m(train_net pid=9924)\u001b[0m Build the DeepConvLSTM model!\n",
      "\u001b[2m\u001b[36m(train_net pid=9921)\u001b[0m new best score!!!!\n",
      "\u001b[2m\u001b[36m(train_net pid=9921)\u001b[0m new best score!!!!\n",
      "\u001b[2m\u001b[36m(train_net pid=9921)\u001b[0m /tmp/ray/session_2023-08-16_19-05-30_904053_8929/runtime_resources/working_dir_files/_ray_pkg_f201ed243ee42fb4\n",
      "\u001b[2m\u001b[36m(train_net pid=9921)\u001b[0m Train data number :  47869\n",
      "\u001b[2m\u001b[36m(train_net pid=9921)\u001b[0m The number of classes is :  18\n",
      "\u001b[2m\u001b[36m(train_net pid=9921)\u001b[0m The input_length  is :  30\n",
      "\u001b[2m\u001b[36m(train_net pid=9921)\u001b[0m The channel_in is :  77\n",
      "\u001b[2m\u001b[36m(train_net pid=9921)\u001b[0m Validation data number :  2147\n",
      "\u001b[2m\u001b[36m(train_net pid=9921)\u001b[0m Build the DeepConvLSTM model!\n",
      "\u001b[2m\u001b[36m(train_net pid=9921)\u001b[0m new best score!!!!\n",
      "\u001b[2m\u001b[36m(train_net pid=9931)\u001b[0m new best score!!!!\n",
      "\u001b[2m\u001b[36m(train_net pid=9921)\u001b[0m new best score!!!!\n",
      "\u001b[2m\u001b[36m(train_net pid=9921)\u001b[0m /tmp/ray/session_2023-08-16_19-05-30_904053_8929/runtime_resources/working_dir_files/_ray_pkg_f201ed243ee42fb4\n",
      "\u001b[2m\u001b[36m(train_net pid=9921)\u001b[0m Train data number :  47869\n",
      "\u001b[2m\u001b[36m(train_net pid=9921)\u001b[0m The number of classes is :  18\n",
      "\u001b[2m\u001b[36m(train_net pid=9921)\u001b[0m The input_length  is :  30\n",
      "\u001b[2m\u001b[36m(train_net pid=9921)\u001b[0m The channel_in is :  77\n",
      "\u001b[2m\u001b[36m(train_net pid=9921)\u001b[0m Validation data number :  2147\n",
      "\u001b[2m\u001b[36m(train_net pid=9921)\u001b[0m Build the DeepConvLSTM model!\n",
      "\u001b[2m\u001b[36m(train_net pid=9922)\u001b[0m new best score!!!!\n",
      "\u001b[2m\u001b[36m(train_net pid=9931)\u001b[0m new best score!!!!\n",
      "\u001b[2m\u001b[36m(train_net pid=9931)\u001b[0m /tmp/ray/session_2023-08-16_19-05-30_904053_8929/runtime_resources/working_dir_files/_ray_pkg_f201ed243ee42fb4\n",
      "\u001b[2m\u001b[36m(train_net pid=9931)\u001b[0m Train data number :  47869\n",
      "\u001b[2m\u001b[36m(train_net pid=9931)\u001b[0m The number of classes is :  18\n",
      "\u001b[2m\u001b[36m(train_net pid=9931)\u001b[0m The input_length  is :  30\n",
      "\u001b[2m\u001b[36m(train_net pid=9931)\u001b[0m The channel_in is :  77\n",
      "\u001b[2m\u001b[36m(train_net pid=9931)\u001b[0m Validation data number :  2147\n",
      "\u001b[2m\u001b[36m(train_net pid=9931)\u001b[0m Build the DeepConvLSTM model!\n",
      "\u001b[2m\u001b[36m(train_net pid=9923)\u001b[0m new best score!!!!\n",
      "\u001b[2m\u001b[36m(train_net pid=9924)\u001b[0m new best score!!!!\n",
      "\u001b[2m\u001b[36m(train_net pid=9922)\u001b[0m new best score!!!!\n",
      "\u001b[2m\u001b[36m(train_net pid=9922)\u001b[0m /tmp/ray/session_2023-08-16_19-05-30_904053_8929/runtime_resources/working_dir_files/_ray_pkg_f201ed243ee42fb4\n",
      "\u001b[2m\u001b[36m(train_net pid=9922)\u001b[0m Train data number :  47869\n",
      "\u001b[2m\u001b[36m(train_net pid=9922)\u001b[0m The number of classes is :  18\n",
      "\u001b[2m\u001b[36m(train_net pid=9922)\u001b[0m The input_length  is :  30\n",
      "\u001b[2m\u001b[36m(train_net pid=9922)\u001b[0m The channel_in is :  77\n",
      "\u001b[2m\u001b[36m(train_net pid=9922)\u001b[0m Validation data number :  2147\n",
      "\u001b[2m\u001b[36m(train_net pid=9922)\u001b[0m Build the DeepConvLSTM model!\n",
      "\u001b[2m\u001b[36m(train_net pid=9924)\u001b[0m new best score!!!!\n",
      "\u001b[2m\u001b[36m(train_net pid=9924)\u001b[0m /tmp/ray/session_2023-08-16_19-05-30_904053_8929/runtime_resources/working_dir_files/_ray_pkg_f201ed243ee42fb4\n",
      "\u001b[2m\u001b[36m(train_net pid=9924)\u001b[0m Train data number :  47869\n",
      "\u001b[2m\u001b[36m(train_net pid=9924)\u001b[0m The number of classes is :  18\n",
      "\u001b[2m\u001b[36m(train_net pid=9924)\u001b[0m The input_length  is :  30\n",
      "\u001b[2m\u001b[36m(train_net pid=9924)\u001b[0m The channel_in is :  77\n",
      "\u001b[2m\u001b[36m(train_net pid=9924)\u001b[0m Validation data number :  2147\n",
      "\u001b[2m\u001b[36m(train_net pid=9924)\u001b[0m Build the DeepConvLSTM model!\n",
      "\u001b[2m\u001b[36m(train_net pid=9923)\u001b[0m new best score!!!!\n",
      "\u001b[2m\u001b[36m(train_net pid=9923)\u001b[0m /tmp/ray/session_2023-08-16_19-05-30_904053_8929/runtime_resources/working_dir_files/_ray_pkg_f201ed243ee42fb4\n",
      "\u001b[2m\u001b[36m(train_net pid=9923)\u001b[0m Train data number :  47869\n",
      "\u001b[2m\u001b[36m(train_net pid=9923)\u001b[0m The number of classes is :  18\n",
      "\u001b[2m\u001b[36m(train_net pid=9923)\u001b[0m The input_length  is :  30\n",
      "\u001b[2m\u001b[36m(train_net pid=9923)\u001b[0m The channel_in is :  77\n",
      "\u001b[2m\u001b[36m(train_net pid=9923)\u001b[0m Validation data number :  2147\n",
      "\u001b[2m\u001b[36m(train_net pid=9923)\u001b[0m Build the DeepConvLSTM model!\n",
      "\u001b[2m\u001b[36m(train_net pid=9921)\u001b[0m new best score!!!!\n",
      "\u001b[2m\u001b[36m(train_net pid=9931)\u001b[0m new best score!!!!\n",
      "\u001b[2m\u001b[36m(train_net pid=9922)\u001b[0m new best score!!!!\n",
      "\u001b[2m\u001b[36m(train_net pid=9921)\u001b[0m new best score!!!!\u001b[32m [repeated 2x across cluster]\u001b[0m\n",
      "\u001b[2m\u001b[36m(train_net pid=9921)\u001b[0m /tmp/ray/session_2023-08-16_19-05-30_904053_8929/runtime_resources/working_dir_files/_ray_pkg_f201ed243ee42fb4\n",
      "\u001b[2m\u001b[36m(train_net pid=9921)\u001b[0m Train data number :  47869\n",
      "\u001b[2m\u001b[36m(train_net pid=9921)\u001b[0m The number of classes is :  18\n",
      "\u001b[2m\u001b[36m(train_net pid=9921)\u001b[0m The input_length  is :  30\n",
      "\u001b[2m\u001b[36m(train_net pid=9921)\u001b[0m The channel_in is :  77\n",
      "\u001b[2m\u001b[36m(train_net pid=9921)\u001b[0m Validation data number :  2147\n",
      "\u001b[2m\u001b[36m(train_net pid=9921)\u001b[0m Build the DeepConvLSTM model!\n",
      "\u001b[2m\u001b[36m(train_net pid=9931)\u001b[0m new best score!!!!\n",
      "\u001b[2m\u001b[36m(train_net pid=9931)\u001b[0m /tmp/ray/session_2023-08-16_19-05-30_904053_8929/runtime_resources/working_dir_files/_ray_pkg_f201ed243ee42fb4\n",
      "\u001b[2m\u001b[36m(train_net pid=9931)\u001b[0m Train data number :  47869\n",
      "\u001b[2m\u001b[36m(train_net pid=9931)\u001b[0m The number of classes is :  18\n",
      "\u001b[2m\u001b[36m(train_net pid=9931)\u001b[0m The input_length  is :  30\n",
      "\u001b[2m\u001b[36m(train_net pid=9931)\u001b[0m The channel_in is :  77\n",
      "\u001b[2m\u001b[36m(train_net pid=9931)\u001b[0m Validation data number :  2147\n",
      "\u001b[2m\u001b[36m(train_net pid=9931)\u001b[0m Build the DeepConvLSTM model!\n",
      "\u001b[2m\u001b[36m(train_net pid=9924)\u001b[0m new best score!!!!\n",
      "\u001b[2m\u001b[36m(train_net pid=9924)\u001b[0m /tmp/ray/session_2023-08-16_19-05-30_904053_8929/runtime_resources/working_dir_files/_ray_pkg_f201ed243ee42fb4\n",
      "\u001b[2m\u001b[36m(train_net pid=9924)\u001b[0m Train data number :  47869\n",
      "\u001b[2m\u001b[36m(train_net pid=9924)\u001b[0m The number of classes is :  18\n",
      "\u001b[2m\u001b[36m(train_net pid=9924)\u001b[0m The input_length  is :  30\n",
      "\u001b[2m\u001b[36m(train_net pid=9924)\u001b[0m The channel_in is :  77\n",
      "\u001b[2m\u001b[36m(train_net pid=9924)\u001b[0m Validation data number :  2147\n",
      "\u001b[2m\u001b[36m(train_net pid=9924)\u001b[0m Build the DeepConvLSTM model!\n",
      "\u001b[2m\u001b[36m(train_net pid=9924)\u001b[0m new best score!!!!\n",
      "\u001b[2m\u001b[36m(train_net pid=9924)\u001b[0m new best score!!!!\n",
      "\u001b[2m\u001b[36m(train_net pid=9924)\u001b[0m /tmp/ray/session_2023-08-16_19-05-30_904053_8929/runtime_resources/working_dir_files/_ray_pkg_f201ed243ee42fb4\n",
      "\u001b[2m\u001b[36m(train_net pid=9924)\u001b[0m Train data number :  47869\n",
      "\u001b[2m\u001b[36m(train_net pid=9924)\u001b[0m The number of classes is :  18\n",
      "\u001b[2m\u001b[36m(train_net pid=9924)\u001b[0m The input_length  is :  30\n",
      "\u001b[2m\u001b[36m(train_net pid=9924)\u001b[0m The channel_in is :  77\n",
      "\u001b[2m\u001b[36m(train_net pid=9924)\u001b[0m Validation data number :  2147\n",
      "\u001b[2m\u001b[36m(train_net pid=9924)\u001b[0m Build the DeepConvLSTM model!\n",
      "\u001b[2m\u001b[36m(train_net pid=9922)\u001b[0m new best score!!!!\n",
      "\u001b[2m\u001b[36m(train_net pid=9923)\u001b[0m new best score!!!!\n",
      "\u001b[2m\u001b[36m(train_net pid=9921)\u001b[0m new best score!!!!\n",
      "\u001b[2m\u001b[36m(train_net pid=9924)\u001b[0m new best score!!!!\n",
      "\u001b[2m\u001b[36m(train_net pid=9923)\u001b[0m new best score!!!!\n",
      "\u001b[2m\u001b[36m(train_net pid=9921)\u001b[0m new best score!!!!\n",
      "\u001b[2m\u001b[36m(train_net pid=9931)\u001b[0m new best score!!!!\n",
      "\u001b[2m\u001b[36m(train_net pid=9924)\u001b[0m new best score!!!!\n"
     ]
    },
    {
     "name": "stderr",
     "output_type": "stream",
     "text": [
      "2023-08-16 19:26:12,718\tINFO pbt.py:809 -- \n",
      "\n",
      "[PopulationBasedTraining] [Exploit] Cloning trial 1dddc_00004 (score = 0.846297) into trial 1dddc_00002 (score = 0.803912)\n",
      "\n",
      "2023-08-16 19:26:12,719\tINFO pbt.py:836 -- \n",
      "\n",
      "[PopulationBasedTraining] [Explore] Perturbed the hyperparameter config of trial1dddc_00002:\n",
      "random_augmentation_prob : 0.6000000000000001 --- (shift right) --> 0.7000000000000001\n",
      "mixup_probability : 1.0 --- (resample) --> 0.7000000000000001\n",
      "\n",
      "2023-08-16 19:26:12,831\tINFO pbt.py:809 -- \n",
      "\n",
      "[PopulationBasedTraining] [Exploit] Cloning trial 1dddc_00006 (score = 0.855147) into trial 1dddc_00011 (score = 0.816022)\n",
      "\n",
      "2023-08-16 19:26:12,832\tINFO pbt.py:836 -- \n",
      "\n",
      "[PopulationBasedTraining] [Explore] Perturbed the hyperparameter config of trial1dddc_00011:\n",
      "random_augmentation_prob : 1.0 --- (resample) --> 0.4\n",
      "mixup_probability : 0.7000000000000001 --- (shift right) --> 0.8\n",
      "\n",
      "2023-08-16 19:26:12,937\tINFO pbt.py:809 -- \n",
      "\n",
      "[PopulationBasedTraining] [Exploit] Cloning trial 1dddc_00003 (score = 0.836050) into trial 1dddc_00013 (score = 0.818351)\n",
      "\n",
      "2023-08-16 19:26:12,937\tINFO pbt.py:836 -- \n",
      "\n",
      "[PopulationBasedTraining] [Explore] Perturbed the hyperparameter config of trial1dddc_00013:\n",
      "random_augmentation_prob : 0.9 --- (shift left) --> 0.8\n",
      "mixup_probability : 0.2 --- (shift right) --> 0.30000000000000004\n",
      "\n"
     ]
    },
    {
     "name": "stdout",
     "output_type": "stream",
     "text": [
      "\u001b[2m\u001b[36m(train_net pid=9931)\u001b[0m new best score!!!!\n"
     ]
    },
    {
     "name": "stderr",
     "output_type": "stream",
     "text": [
      "2023-08-16 19:26:13,162\tINFO pbt.py:809 -- \n",
      "\n",
      "[PopulationBasedTraining] [Exploit] Cloning trial 1dddc_00004 (score = 0.846297) into trial 1dddc_00014 (score = 0.822543)\n",
      "\n",
      "2023-08-16 19:26:13,163\tINFO pbt.py:836 -- \n",
      "\n",
      "[PopulationBasedTraining] [Explore] Perturbed the hyperparameter config of trial1dddc_00014:\n",
      "random_augmentation_prob : 0.6000000000000001 --- (shift left) --> 0.5\n",
      "mixup_probability : 1.0 --- (shift left) --> 0.9\n",
      "\n",
      "2023-08-16 19:26:13,268\tWARNING util.py:315 -- The `scheduler.on_trial_result` operation took 0.550 s, which may be a performance bottleneck.\n",
      "2023-08-16 19:26:13,269\tWARNING util.py:315 -- The `process_trial_result` operation took 0.551 s, which may be a performance bottleneck.\n",
      "2023-08-16 19:26:13,269\tWARNING util.py:315 -- Processing trial results took 0.551 s, which may be a performance bottleneck. Please consider reporting results less frequently to Ray Tune.\n",
      "2023-08-16 19:26:13,270\tWARNING util.py:315 -- The `process_trial_result` operation took 0.552 s, which may be a performance bottleneck.\n",
      "\u001b[2m\u001b[36m(train_net pid=11806)\u001b[0m Restored on 10.10.253.254 from checkpoint: /home/janis/PopulationBasedTraining/RayTuneResults/oppo/pbt/oppo_test_data_as_validation_perturbation_3_1/train_net_1dddc_00000_0_mixup_probability=0.1000,random_aug_first=False,random_augmentation_prob=0.8000_2023-08-16_19-05-35/checkpoint_tmpe6c6d6\n",
      "\u001b[2m\u001b[36m(train_net pid=11806)\u001b[0m Current state after restoring: {'_iteration': 3, '_timesteps_total': None, '_time_total': 143.20961618423462, '_episodes_total': None}\n"
     ]
    },
    {
     "name": "stdout",
     "output_type": "stream",
     "text": [
      "\u001b[2m\u001b[36m(train_net pid=11806)\u001b[0m /tmp/ray/session_2023-08-16_19-05-30_904053_8929/runtime_resources/working_dir_files/_ray_pkg_f201ed243ee42fb4\n",
      "\u001b[2m\u001b[36m(train_net pid=11806)\u001b[0m Train data number :  47869\n",
      "\u001b[2m\u001b[36m(train_net pid=11806)\u001b[0m The number of classes is :  18\n",
      "\u001b[2m\u001b[36m(train_net pid=11806)\u001b[0m The input_length  is :  30\n",
      "\u001b[2m\u001b[36m(train_net pid=11806)\u001b[0m The channel_in is :  77\n",
      "\u001b[2m\u001b[36m(train_net pid=11806)\u001b[0m Validation data number :  2147\n",
      "\u001b[2m\u001b[36m(train_net pid=11806)\u001b[0m Build the DeepConvLSTM model!\n"
     ]
    },
    {
     "name": "stderr",
     "output_type": "stream",
     "text": [
      "\u001b[2m\u001b[36m(train_net pid=11935)\u001b[0m Restored on 10.10.253.254 from checkpoint: /home/janis/PopulationBasedTraining/RayTuneResults/oppo/pbt/oppo_test_data_as_validation_perturbation_3_1/train_net_1dddc_00003_3_mixup_probability=0.2000,random_aug_first=True,random_augmentation_prob=0.9000_2023-08-16_19-05-35/checkpoint_tmp3673a4\u001b[32m [repeated 3x across cluster]\u001b[0m\n",
      "\u001b[2m\u001b[36m(train_net pid=11935)\u001b[0m Current state after restoring: {'_iteration': 3, '_timesteps_total': None, '_time_total': 84.42066669464111, '_episodes_total': None}\u001b[32m [repeated 3x across cluster]\u001b[0m\n"
     ]
    },
    {
     "name": "stdout",
     "output_type": "stream",
     "text": [
      "\u001b[2m\u001b[36m(train_net pid=11935)\u001b[0m /tmp/ray/session_2023-08-16_19-05-30_904053_8929/runtime_resources/working_dir_files/_ray_pkg_f201ed243ee42fb4\u001b[32m [repeated 3x across cluster]\u001b[0m\n",
      "\u001b[2m\u001b[36m(train_net pid=11935)\u001b[0m Train data number :  47869\u001b[32m [repeated 3x across cluster]\u001b[0m\n",
      "\u001b[2m\u001b[36m(train_net pid=11935)\u001b[0m The number of classes is :  18\u001b[32m [repeated 3x across cluster]\u001b[0m\n",
      "\u001b[2m\u001b[36m(train_net pid=11935)\u001b[0m The input_length  is :  30\u001b[32m [repeated 3x across cluster]\u001b[0m\n",
      "\u001b[2m\u001b[36m(train_net pid=11935)\u001b[0m The channel_in is :  77\u001b[32m [repeated 3x across cluster]\u001b[0m\n",
      "\u001b[2m\u001b[36m(train_net pid=11935)\u001b[0m Validation data number :  2147\u001b[32m [repeated 3x across cluster]\u001b[0m\n",
      "\u001b[2m\u001b[36m(train_net pid=11935)\u001b[0m Build the DeepConvLSTM model!\u001b[32m [repeated 3x across cluster]\u001b[0m\n",
      "\u001b[2m\u001b[36m(train_net pid=11935)\u001b[0m new best score!!!!\n",
      "\u001b[2m\u001b[36m(train_net pid=11980)\u001b[0m /tmp/ray/session_2023-08-16_19-05-30_904053_8929/runtime_resources/working_dir_files/_ray_pkg_f201ed243ee42fb4\n",
      "\u001b[2m\u001b[36m(train_net pid=11980)\u001b[0m Train data number :  47869\n",
      "\u001b[2m\u001b[36m(train_net pid=11980)\u001b[0m The number of classes is :  18\n",
      "\u001b[2m\u001b[36m(train_net pid=11980)\u001b[0m The input_length  is :  30\n",
      "\u001b[2m\u001b[36m(train_net pid=11980)\u001b[0m The channel_in is :  77\n",
      "\u001b[2m\u001b[36m(train_net pid=11980)\u001b[0m Validation data number :  2147\n",
      "\u001b[2m\u001b[36m(train_net pid=11980)\u001b[0m Build the DeepConvLSTM model!\n",
      "\u001b[2m\u001b[36m(train_net pid=11806)\u001b[0m new best score!!!!\n",
      "\u001b[2m\u001b[36m(train_net pid=11935)\u001b[0m new best score!!!!\n",
      "\u001b[2m\u001b[36m(train_net pid=11892)\u001b[0m new best score!!!!\n",
      "\u001b[2m\u001b[36m(train_net pid=11935)\u001b[0m new best score!!!!\n"
     ]
    },
    {
     "name": "stderr",
     "output_type": "stream",
     "text": [
      "\u001b[2m\u001b[36m(train_net pid=11935)\u001b[0m Restored on 10.10.253.254 from checkpoint: /home/janis/PopulationBasedTraining/RayTuneResults/oppo/pbt/oppo_test_data_as_validation_perturbation_3_1/train_net_1dddc_00005_5_mixup_probability=0.8000,random_aug_first=True,random_augmentation_prob=0.5000_2023-08-16_19-05-35/checkpoint_tmp288d8a\u001b[32m [repeated 2x across cluster]\u001b[0m\n",
      "\u001b[2m\u001b[36m(train_net pid=11935)\u001b[0m Current state after restoring: {'_iteration': 3, '_timesteps_total': None, '_time_total': 323.37286901474, '_episodes_total': None}\u001b[32m [repeated 2x across cluster]\u001b[0m\n"
     ]
    },
    {
     "name": "stdout",
     "output_type": "stream",
     "text": [
      "\u001b[2m\u001b[36m(train_net pid=11935)\u001b[0m /tmp/ray/session_2023-08-16_19-05-30_904053_8929/runtime_resources/working_dir_files/_ray_pkg_f201ed243ee42fb4\n",
      "\u001b[2m\u001b[36m(train_net pid=11935)\u001b[0m Train data number :  47869\n",
      "\u001b[2m\u001b[36m(train_net pid=11935)\u001b[0m The number of classes is :  18\n",
      "\u001b[2m\u001b[36m(train_net pid=11935)\u001b[0m The input_length  is :  30\n",
      "\u001b[2m\u001b[36m(train_net pid=11935)\u001b[0m The channel_in is :  77\n",
      "\u001b[2m\u001b[36m(train_net pid=11935)\u001b[0m Validation data number :  2147\n",
      "\u001b[2m\u001b[36m(train_net pid=11935)\u001b[0m Build the DeepConvLSTM model!\n",
      "\u001b[2m\u001b[36m(train_net pid=11806)\u001b[0m new best score!!!!\u001b[32m [repeated 2x across cluster]\u001b[0m\n",
      "\u001b[2m\u001b[36m(train_net pid=11845)\u001b[0m new best score!!!!\n",
      "\u001b[2m\u001b[36m(train_net pid=11892)\u001b[0m new best score!!!!\n",
      "\u001b[2m\u001b[36m(train_net pid=11806)\u001b[0m new best score!!!!\n"
     ]
    },
    {
     "name": "stderr",
     "output_type": "stream",
     "text": [
      "\u001b[2m\u001b[36m(train_net pid=11806)\u001b[0m Restored on 10.10.253.254 from checkpoint: /home/janis/PopulationBasedTraining/RayTuneResults/oppo/pbt/oppo_test_data_as_validation_perturbation_3_1/train_net_1dddc_00006_6_mixup_probability=0.7000,random_aug_first=True,random_augmentation_prob=1.0000_2023-08-16_19-05-35/checkpoint_tmpcae4a9\n",
      "\u001b[2m\u001b[36m(train_net pid=11806)\u001b[0m Current state after restoring: {'_iteration': 3, '_timesteps_total': None, '_time_total': 30.899439096450806, '_episodes_total': None}\n"
     ]
    },
    {
     "name": "stdout",
     "output_type": "stream",
     "text": [
      "\u001b[2m\u001b[36m(train_net pid=11806)\u001b[0m /tmp/ray/session_2023-08-16_19-05-30_904053_8929/runtime_resources/working_dir_files/_ray_pkg_f201ed243ee42fb4\n",
      "\u001b[2m\u001b[36m(train_net pid=11806)\u001b[0m Train data number :  47869\n",
      "\u001b[2m\u001b[36m(train_net pid=11806)\u001b[0m The number of classes is :  18\n",
      "\u001b[2m\u001b[36m(train_net pid=11806)\u001b[0m The input_length  is :  30\n",
      "\u001b[2m\u001b[36m(train_net pid=11806)\u001b[0m The channel_in is :  77\n",
      "\u001b[2m\u001b[36m(train_net pid=11806)\u001b[0m Validation data number :  2147\n",
      "\u001b[2m\u001b[36m(train_net pid=11806)\u001b[0m Build the DeepConvLSTM model!\n",
      "\u001b[2m\u001b[36m(train_net pid=11806)\u001b[0m new best score!!!!\n",
      "\u001b[2m\u001b[36m(train_net pid=11806)\u001b[0m new best score!!!!\n",
      "\u001b[2m\u001b[36m(train_net pid=11806)\u001b[0m new best score!!!!\n"
     ]
    },
    {
     "name": "stderr",
     "output_type": "stream",
     "text": [
      "\u001b[2m\u001b[36m(train_net pid=11806)\u001b[0m Restored on 10.10.253.254 from checkpoint: /home/janis/PopulationBasedTraining/RayTuneResults/oppo/pbt/oppo_test_data_as_validation_perturbation_3_1/train_net_1dddc_00007_7_mixup_probability=0.3000,random_aug_first=False,random_augmentation_prob=0.1000_2023-08-16_19-05-35/checkpoint_tmpe28d5d\n",
      "\u001b[2m\u001b[36m(train_net pid=11806)\u001b[0m Current state after restoring: {'_iteration': 3, '_timesteps_total': None, '_time_total': 563.9542996883392, '_episodes_total': None}\n"
     ]
    },
    {
     "name": "stdout",
     "output_type": "stream",
     "text": [
      "\u001b[2m\u001b[36m(train_net pid=11806)\u001b[0m /tmp/ray/session_2023-08-16_19-05-30_904053_8929/runtime_resources/working_dir_files/_ray_pkg_f201ed243ee42fb4\n",
      "\u001b[2m\u001b[36m(train_net pid=11806)\u001b[0m Train data number :  47869\n",
      "\u001b[2m\u001b[36m(train_net pid=11806)\u001b[0m The number of classes is :  18\n",
      "\u001b[2m\u001b[36m(train_net pid=11806)\u001b[0m The input_length  is :  30\n",
      "\u001b[2m\u001b[36m(train_net pid=11806)\u001b[0m The channel_in is :  77\n",
      "\u001b[2m\u001b[36m(train_net pid=11806)\u001b[0m Validation data number :  2147\n",
      "\u001b[2m\u001b[36m(train_net pid=11806)\u001b[0m Build the DeepConvLSTM model!\n",
      "\u001b[2m\u001b[36m(train_net pid=11935)\u001b[0m new best score!!!!\u001b[32m [repeated 2x across cluster]\u001b[0m\n",
      "\u001b[2m\u001b[36m(train_net pid=11892)\u001b[0m new best score!!!!\n"
     ]
    },
    {
     "name": "stderr",
     "output_type": "stream",
     "text": [
      "\u001b[2m\u001b[36m(train_net pid=11892)\u001b[0m Restored on 10.10.253.254 from checkpoint: /home/janis/PopulationBasedTraining/RayTuneResults/oppo/pbt/oppo_test_data_as_validation_perturbation_3_1/train_net_1dddc_00008_8_mixup_probability=0.3000,random_aug_first=True,random_augmentation_prob=0.2000_2023-08-16_19-05-35/checkpoint_tmp15cfc5\n",
      "\u001b[2m\u001b[36m(train_net pid=11892)\u001b[0m Current state after restoring: {'_iteration': 3, '_timesteps_total': None, '_time_total': 499.2042155265808, '_episodes_total': None}\n"
     ]
    },
    {
     "name": "stdout",
     "output_type": "stream",
     "text": [
      "\u001b[2m\u001b[36m(train_net pid=11892)\u001b[0m /tmp/ray/session_2023-08-16_19-05-30_904053_8929/runtime_resources/working_dir_files/_ray_pkg_f201ed243ee42fb4\n",
      "\u001b[2m\u001b[36m(train_net pid=11892)\u001b[0m Train data number :  47869\n",
      "\u001b[2m\u001b[36m(train_net pid=11892)\u001b[0m The number of classes is :  18\n",
      "\u001b[2m\u001b[36m(train_net pid=11892)\u001b[0m The input_length  is :  30\n",
      "\u001b[2m\u001b[36m(train_net pid=11892)\u001b[0m The channel_in is :  77\n",
      "\u001b[2m\u001b[36m(train_net pid=11892)\u001b[0m Validation data number :  2147\n",
      "\u001b[2m\u001b[36m(train_net pid=11892)\u001b[0m Build the DeepConvLSTM model!\n",
      "\u001b[2m\u001b[36m(train_net pid=11845)\u001b[0m new best score!!!!\n",
      "\u001b[2m\u001b[36m(train_net pid=11980)\u001b[0m new best score!!!!\n"
     ]
    },
    {
     "name": "stderr",
     "output_type": "stream",
     "text": [
      "\u001b[2m\u001b[36m(train_net pid=11980)\u001b[0m Restored on 10.10.253.254 from checkpoint: /home/janis/PopulationBasedTraining/RayTuneResults/oppo/pbt/oppo_test_data_as_validation_perturbation_3_1/train_net_1dddc_00009_9_mixup_probability=0.6000,random_aug_first=True,random_augmentation_prob=0.2000_2023-08-16_19-05-35/checkpoint_tmp49d888\n",
      "\u001b[2m\u001b[36m(train_net pid=11980)\u001b[0m Current state after restoring: {'_iteration': 3, '_timesteps_total': None, '_time_total': 502.16559505462646, '_episodes_total': None}\n"
     ]
    },
    {
     "name": "stdout",
     "output_type": "stream",
     "text": [
      "\u001b[2m\u001b[36m(train_net pid=11980)\u001b[0m /tmp/ray/session_2023-08-16_19-05-30_904053_8929/runtime_resources/working_dir_files/_ray_pkg_f201ed243ee42fb4\n",
      "\u001b[2m\u001b[36m(train_net pid=11980)\u001b[0m Train data number :  47869\n",
      "\u001b[2m\u001b[36m(train_net pid=11980)\u001b[0m The number of classes is :  18\n",
      "\u001b[2m\u001b[36m(train_net pid=11980)\u001b[0m The input_length  is :  30\n",
      "\u001b[2m\u001b[36m(train_net pid=11980)\u001b[0m The channel_in is :  77\n",
      "\u001b[2m\u001b[36m(train_net pid=11980)\u001b[0m Validation data number :  2147\n",
      "\u001b[2m\u001b[36m(train_net pid=11980)\u001b[0m Build the DeepConvLSTM model!\n",
      "\u001b[2m\u001b[36m(train_net pid=11935)\u001b[0m new best score!!!!\n",
      "\u001b[2m\u001b[36m(train_net pid=11845)\u001b[0m new best score!!!!\n"
     ]
    },
    {
     "name": "stderr",
     "output_type": "stream",
     "text": [
      "\u001b[2m\u001b[36m(train_net pid=11845)\u001b[0m Restored on 10.10.253.254 from checkpoint: /home/janis/PopulationBasedTraining/RayTuneResults/oppo/pbt/oppo_test_data_as_validation_perturbation_3_1/train_net_1dddc_00010_10_mixup_probability=0.2000,random_aug_first=False,random_augmentation_prob=0.4000_2023-08-16_19-05-35/checkpoint_tmpf2a3a3\n",
      "\u001b[2m\u001b[36m(train_net pid=11845)\u001b[0m Current state after restoring: {'_iteration': 3, '_timesteps_total': None, '_time_total': 386.07383155822754, '_episodes_total': None}\n"
     ]
    },
    {
     "name": "stdout",
     "output_type": "stream",
     "text": [
      "\u001b[2m\u001b[36m(train_net pid=11845)\u001b[0m /tmp/ray/session_2023-08-16_19-05-30_904053_8929/runtime_resources/working_dir_files/_ray_pkg_f201ed243ee42fb4\n",
      "\u001b[2m\u001b[36m(train_net pid=11845)\u001b[0m Train data number :  47869\n",
      "\u001b[2m\u001b[36m(train_net pid=11845)\u001b[0m The number of classes is :  18\n",
      "\u001b[2m\u001b[36m(train_net pid=11845)\u001b[0m The input_length  is :  30\n",
      "\u001b[2m\u001b[36m(train_net pid=11845)\u001b[0m The channel_in is :  77\n",
      "\u001b[2m\u001b[36m(train_net pid=11845)\u001b[0m Validation data number :  2147\n",
      "\u001b[2m\u001b[36m(train_net pid=11845)\u001b[0m Build the DeepConvLSTM model!\n",
      "\u001b[2m\u001b[36m(train_net pid=11806)\u001b[0m new best score!!!!\n",
      "\u001b[2m\u001b[36m(train_net pid=11892)\u001b[0m new best score!!!!\n",
      "\u001b[2m\u001b[36m(train_net pid=11935)\u001b[0m new best score!!!!\n"
     ]
    },
    {
     "name": "stderr",
     "output_type": "stream",
     "text": [
      "\u001b[2m\u001b[36m(train_net pid=11935)\u001b[0m Restored on 10.10.253.254 from checkpoint: /home/janis/PopulationBasedTraining/RayTuneResults/oppo/pbt/oppo_test_data_as_validation_perturbation_3_1/train_net_1dddc_00011_11_mixup_probability=1.0000,random_aug_first=True,random_augmentation_prob=0.0000_2023-08-16_19-05-35/checkpoint_tmp547f48\n",
      "\u001b[2m\u001b[36m(train_net pid=11935)\u001b[0m Current state after restoring: {'_iteration': 3, '_timesteps_total': None, '_time_total': 30.899439096450806, '_episodes_total': None}\n"
     ]
    },
    {
     "name": "stdout",
     "output_type": "stream",
     "text": [
      "\u001b[2m\u001b[36m(train_net pid=11935)\u001b[0m /tmp/ray/session_2023-08-16_19-05-30_904053_8929/runtime_resources/working_dir_files/_ray_pkg_f201ed243ee42fb4\n",
      "\u001b[2m\u001b[36m(train_net pid=11935)\u001b[0m Train data number :  47869\n",
      "\u001b[2m\u001b[36m(train_net pid=11935)\u001b[0m The number of classes is :  18\n",
      "\u001b[2m\u001b[36m(train_net pid=11935)\u001b[0m The input_length  is :  30\n",
      "\u001b[2m\u001b[36m(train_net pid=11935)\u001b[0m The channel_in is :  77\n",
      "\u001b[2m\u001b[36m(train_net pid=11935)\u001b[0m Validation data number :  2147\n",
      "\u001b[2m\u001b[36m(train_net pid=11935)\u001b[0m Build the DeepConvLSTM model!\n",
      "\u001b[2m\u001b[36m(train_net pid=11980)\u001b[0m new best score!!!!\n",
      "\u001b[2m\u001b[36m(train_net pid=11845)\u001b[0m new best score!!!!\n",
      "\u001b[2m\u001b[36m(train_net pid=11935)\u001b[0m new best score!!!!\n",
      "\u001b[2m\u001b[36m(train_net pid=11892)\u001b[0m new best score!!!!\n",
      "\u001b[2m\u001b[36m(train_net pid=11806)\u001b[0m new best score!!!!\n",
      "\u001b[2m\u001b[36m(train_net pid=11845)\u001b[0m new best score!!!!\n",
      "\u001b[2m\u001b[36m(train_net pid=11980)\u001b[0m new best score!!!!\n",
      "\u001b[2m\u001b[36m(train_net pid=11935)\u001b[0m new best score!!!!\n",
      "\u001b[2m\u001b[36m(train_net pid=11845)\u001b[0m new best score!!!!\n"
     ]
    },
    {
     "name": "stderr",
     "output_type": "stream",
     "text": [
      "\u001b[2m\u001b[36m(train_net pid=11845)\u001b[0m Restored on 10.10.253.254 from checkpoint: /home/janis/PopulationBasedTraining/RayTuneResults/oppo/pbt/oppo_test_data_as_validation_perturbation_3_1/train_net_1dddc_00012_12_mixup_probability=0.9000,random_aug_first=True,random_augmentation_prob=0.5000_2023-08-16_19-05-35/checkpoint_tmpe11763\n",
      "\u001b[2m\u001b[36m(train_net pid=11845)\u001b[0m Current state after restoring: {'_iteration': 3, '_timesteps_total': None, '_time_total': 315.48796033859253, '_episodes_total': None}\n"
     ]
    },
    {
     "name": "stdout",
     "output_type": "stream",
     "text": [
      "\u001b[2m\u001b[36m(train_net pid=11845)\u001b[0m /tmp/ray/session_2023-08-16_19-05-30_904053_8929/runtime_resources/working_dir_files/_ray_pkg_f201ed243ee42fb4\n",
      "\u001b[2m\u001b[36m(train_net pid=11845)\u001b[0m Train data number :  47869\n",
      "\u001b[2m\u001b[36m(train_net pid=11845)\u001b[0m The number of classes is :  18\n",
      "\u001b[2m\u001b[36m(train_net pid=11845)\u001b[0m The input_length  is :  30\n",
      "\u001b[2m\u001b[36m(train_net pid=11845)\u001b[0m The channel_in is :  77\n",
      "\u001b[2m\u001b[36m(train_net pid=11845)\u001b[0m Validation data number :  2147\n",
      "\u001b[2m\u001b[36m(train_net pid=11845)\u001b[0m Build the DeepConvLSTM model!\n",
      "\u001b[2m\u001b[36m(train_net pid=11892)\u001b[0m new best score!!!!\n"
     ]
    },
    {
     "name": "stderr",
     "output_type": "stream",
     "text": [
      "\u001b[2m\u001b[36m(train_net pid=11892)\u001b[0m Restored on 10.10.253.254 from checkpoint: /home/janis/PopulationBasedTraining/RayTuneResults/oppo/pbt/oppo_test_data_as_validation_perturbation_3_1/train_net_1dddc_00013_13_mixup_probability=0.0000,random_aug_first=False,random_augmentation_prob=0.2000_2023-08-16_19-05-35/checkpoint_tmp5a367d\n",
      "\u001b[2m\u001b[36m(train_net pid=11892)\u001b[0m Current state after restoring: {'_iteration': 3, '_timesteps_total': None, '_time_total': 84.42066669464111, '_episodes_total': None}\n"
     ]
    },
    {
     "name": "stdout",
     "output_type": "stream",
     "text": [
      "\u001b[2m\u001b[36m(train_net pid=11892)\u001b[0m /tmp/ray/session_2023-08-16_19-05-30_904053_8929/runtime_resources/working_dir_files/_ray_pkg_f201ed243ee42fb4\n",
      "\u001b[2m\u001b[36m(train_net pid=11892)\u001b[0m Train data number :  47869\n",
      "\u001b[2m\u001b[36m(train_net pid=11892)\u001b[0m The number of classes is :  18\n",
      "\u001b[2m\u001b[36m(train_net pid=11892)\u001b[0m The input_length  is :  30\n",
      "\u001b[2m\u001b[36m(train_net pid=11892)\u001b[0m The channel_in is :  77\n",
      "\u001b[2m\u001b[36m(train_net pid=11892)\u001b[0m Validation data number :  2147\n",
      "\u001b[2m\u001b[36m(train_net pid=11892)\u001b[0m Build the DeepConvLSTM model!\n",
      "\u001b[2m\u001b[36m(train_net pid=11806)\u001b[0m new best score!!!!\n"
     ]
    },
    {
     "name": "stderr",
     "output_type": "stream",
     "text": [
      "\u001b[2m\u001b[36m(train_net pid=11806)\u001b[0m Restored on 10.10.253.254 from checkpoint: /home/janis/PopulationBasedTraining/RayTuneResults/oppo/pbt/oppo_test_data_as_validation_perturbation_3_1/train_net_1dddc_00014_14_mixup_probability=0.0000,random_aug_first=True,random_augmentation_prob=1.0000_2023-08-16_19-05-35/checkpoint_tmp239b61\n",
      "\u001b[2m\u001b[36m(train_net pid=11806)\u001b[0m Current state after restoring: {'_iteration': 3, '_timesteps_total': None, '_time_total': 262.11722350120544, '_episodes_total': None}\n"
     ]
    },
    {
     "name": "stdout",
     "output_type": "stream",
     "text": [
      "\u001b[2m\u001b[36m(train_net pid=11806)\u001b[0m /tmp/ray/session_2023-08-16_19-05-30_904053_8929/runtime_resources/working_dir_files/_ray_pkg_f201ed243ee42fb4\n",
      "\u001b[2m\u001b[36m(train_net pid=11806)\u001b[0m Train data number :  47869\n",
      "\u001b[2m\u001b[36m(train_net pid=11806)\u001b[0m The number of classes is :  18\n",
      "\u001b[2m\u001b[36m(train_net pid=11806)\u001b[0m The input_length  is :  30\n",
      "\u001b[2m\u001b[36m(train_net pid=11806)\u001b[0m The channel_in is :  77\n",
      "\u001b[2m\u001b[36m(train_net pid=11806)\u001b[0m Validation data number :  2147\n",
      "\u001b[2m\u001b[36m(train_net pid=11806)\u001b[0m Build the DeepConvLSTM model!\n",
      "\u001b[2m\u001b[36m(train_net pid=11892)\u001b[0m new best score!!!!\n",
      "\u001b[2m\u001b[36m(train_net pid=11980)\u001b[0m new best score!!!!\n"
     ]
    },
    {
     "name": "stderr",
     "output_type": "stream",
     "text": [
      "\u001b[2m\u001b[36m(train_net pid=11980)\u001b[0m Restored on 10.10.253.254 from checkpoint: /home/janis/PopulationBasedTraining/RayTuneResults/oppo/pbt/oppo_test_data_as_validation_perturbation_3_1/train_net_1dddc_00015_15_mixup_probability=0.2000,random_aug_first=True,random_augmentation_prob=0.5000_2023-08-16_19-05-35/checkpoint_tmpebe068\n",
      "\u001b[2m\u001b[36m(train_net pid=11980)\u001b[0m Current state after restoring: {'_iteration': 3, '_timesteps_total': None, '_time_total': 309.2543296813965, '_episodes_total': None}\n"
     ]
    },
    {
     "name": "stdout",
     "output_type": "stream",
     "text": [
      "\u001b[2m\u001b[36m(train_net pid=11980)\u001b[0m /tmp/ray/session_2023-08-16_19-05-30_904053_8929/runtime_resources/working_dir_files/_ray_pkg_f201ed243ee42fb4\n",
      "\u001b[2m\u001b[36m(train_net pid=11980)\u001b[0m Train data number :  47869\n",
      "\u001b[2m\u001b[36m(train_net pid=11980)\u001b[0m The number of classes is :  18\n",
      "\u001b[2m\u001b[36m(train_net pid=11980)\u001b[0m The input_length  is :  30\n",
      "\u001b[2m\u001b[36m(train_net pid=11980)\u001b[0m The channel_in is :  77\n",
      "\u001b[2m\u001b[36m(train_net pid=11980)\u001b[0m Validation data number :  2147\n",
      "\u001b[2m\u001b[36m(train_net pid=11980)\u001b[0m Build the DeepConvLSTM model!\n",
      "\u001b[2m\u001b[36m(train_net pid=11935)\u001b[0m new best score!!!!\n",
      "\u001b[2m\u001b[36m(train_net pid=11892)\u001b[0m new best score!!!!\n",
      "\u001b[2m\u001b[36m(train_net pid=11845)\u001b[0m new best score!!!!\n",
      "\u001b[2m\u001b[36m(train_net pid=11806)\u001b[0m new best score!!!!\n",
      "\u001b[2m\u001b[36m(train_net pid=11892)\u001b[0m new best score!!!!\n",
      "\u001b[2m\u001b[36m(train_net pid=11980)\u001b[0m new best score!!!!\n",
      "\u001b[2m\u001b[36m(train_net pid=11845)\u001b[0m new best score!!!!\n",
      "\u001b[2m\u001b[36m(train_net pid=11806)\u001b[0m new best score!!!!\n",
      "\u001b[2m\u001b[36m(train_net pid=11980)\u001b[0m new best score!!!!\n",
      "\u001b[2m\u001b[36m(train_net pid=11845)\u001b[0m new best score!!!!\n",
      "\u001b[2m\u001b[36m(train_net pid=11806)\u001b[0m new best score!!!!\n"
     ]
    },
    {
     "name": "stderr",
     "output_type": "stream",
     "text": [
      "2023-08-16 19:44:40,426\tINFO pbt.py:809 -- \n",
      "\n",
      "[PopulationBasedTraining] [Exploit] Cloning trial 1dddc_00004 (score = 0.875175) into trial 1dddc_00000 (score = 0.842105)\n",
      "\n",
      "2023-08-16 19:44:40,426\tINFO pbt.py:836 -- \n",
      "\n",
      "[PopulationBasedTraining] [Explore] Perturbed the hyperparameter config of trial1dddc_00000:\n",
      "random_augmentation_prob : 0.6000000000000001 --- (shift left) --> 0.5\n",
      "mixup_probability : 1.0 --- (resample) --> 0.1\n",
      "\n",
      "2023-08-16 19:44:40,546\tINFO pbt.py:809 -- \n",
      "\n",
      "[PopulationBasedTraining] [Exploit] Cloning trial 1dddc_00005 (score = 0.878901) into trial 1dddc_00010 (score = 0.850023)\n",
      "\n",
      "2023-08-16 19:44:40,546\tINFO pbt.py:836 -- \n",
      "\n",
      "[PopulationBasedTraining] [Explore] Perturbed the hyperparameter config of trial1dddc_00010:\n",
      "random_augmentation_prob : 0.5 --- (shift left) --> 0.4\n",
      "mixup_probability : 0.8 --- (shift right) --> 0.9\n",
      "\n",
      "2023-08-16 19:44:40,654\tINFO pbt.py:809 -- \n",
      "\n",
      "[PopulationBasedTraining] [Exploit] Cloning trial 1dddc_00004 (score = 0.875175) into trial 1dddc_00015 (score = 0.850489)\n",
      "\n",
      "2023-08-16 19:44:40,655\tINFO pbt.py:836 -- \n",
      "\n",
      "[PopulationBasedTraining] [Explore] Perturbed the hyperparameter config of trial1dddc_00015:\n",
      "random_augmentation_prob : 0.6000000000000001 --- (resample) --> 0.30000000000000004\n",
      "mixup_probability : 1.0 --- (resample) --> 0.0\n",
      "\n"
     ]
    },
    {
     "name": "stdout",
     "output_type": "stream",
     "text": [
      "\u001b[2m\u001b[36m(train_net pid=11980)\u001b[0m new best score!!!!\n"
     ]
    },
    {
     "name": "stderr",
     "output_type": "stream",
     "text": [
      "2023-08-16 19:44:40,891\tINFO pbt.py:809 -- \n",
      "\n",
      "[PopulationBasedTraining] [Exploit] Cloning trial 1dddc_00005 (score = 0.878901) into trial 1dddc_00013 (score = 0.852818)\n",
      "\n",
      "2023-08-16 19:44:40,891\tINFO pbt.py:836 -- \n",
      "\n",
      "[PopulationBasedTraining] [Explore] Perturbed the hyperparameter config of trial1dddc_00013:\n",
      "random_augmentation_prob : 0.5 --- (shift right) --> 0.6000000000000001\n",
      "mixup_probability : 0.8 --- (shift right) --> 0.9\n",
      "\n",
      "2023-08-16 19:44:41,006\tWARNING util.py:315 -- The `scheduler.on_trial_result` operation took 0.580 s, which may be a performance bottleneck.\n",
      "2023-08-16 19:44:41,007\tWARNING util.py:315 -- The `process_trial_result` operation took 0.581 s, which may be a performance bottleneck.\n",
      "2023-08-16 19:44:41,007\tWARNING util.py:315 -- Processing trial results took 0.582 s, which may be a performance bottleneck. Please consider reporting results less frequently to Ray Tune.\n",
      "2023-08-16 19:44:41,008\tWARNING util.py:315 -- The `process_trial_result` operation took 0.583 s, which may be a performance bottleneck.\n",
      "\u001b[2m\u001b[36m(train_net pid=13985)\u001b[0m Restored on 10.10.253.254 from checkpoint: /home/janis/PopulationBasedTraining/RayTuneResults/oppo/pbt/oppo_test_data_as_validation_perturbation_3_1/train_net_1dddc_00000_0_mixup_probability=0.1000,random_aug_first=False,random_augmentation_prob=0.8000_2023-08-16_19-05-35/checkpoint_tmpef424d\n",
      "\u001b[2m\u001b[36m(train_net pid=13985)\u001b[0m Current state after restoring: {'_iteration': 6, '_timesteps_total': None, '_time_total': 525.4279115200043, '_episodes_total': None}\n"
     ]
    },
    {
     "name": "stdout",
     "output_type": "stream",
     "text": [
      "\u001b[2m\u001b[36m(train_net pid=13985)\u001b[0m /tmp/ray/session_2023-08-16_19-05-30_904053_8929/runtime_resources/working_dir_files/_ray_pkg_f201ed243ee42fb4\n",
      "\u001b[2m\u001b[36m(train_net pid=13985)\u001b[0m Train data number :  47869\n",
      "\u001b[2m\u001b[36m(train_net pid=13985)\u001b[0m The number of classes is :  18\n",
      "\u001b[2m\u001b[36m(train_net pid=13985)\u001b[0m The input_length  is :  30\n",
      "\u001b[2m\u001b[36m(train_net pid=13985)\u001b[0m The channel_in is :  77\n",
      "\u001b[2m\u001b[36m(train_net pid=13985)\u001b[0m Validation data number :  2147\n",
      "\u001b[2m\u001b[36m(train_net pid=13985)\u001b[0m Build the DeepConvLSTM model!\n"
     ]
    },
    {
     "name": "stderr",
     "output_type": "stream",
     "text": [
      "\u001b[2m\u001b[36m(train_net pid=14024)\u001b[0m Restored on 10.10.253.254 from checkpoint: /home/janis/PopulationBasedTraining/RayTuneResults/oppo/pbt/oppo_test_data_as_validation_perturbation_3_1/train_net_1dddc_00001_1_mixup_probability=0.7000,random_aug_first=False,random_augmentation_prob=0.5000_2023-08-16_19-05-35/checkpoint_tmp2b087d\n",
      "\u001b[2m\u001b[36m(train_net pid=14024)\u001b[0m Current state after restoring: {'_iteration': 6, '_timesteps_total': None, '_time_total': 652.9837884902954, '_episodes_total': None}\n"
     ]
    },
    {
     "name": "stdout",
     "output_type": "stream",
     "text": [
      "\u001b[2m\u001b[36m(train_net pid=14114)\u001b[0m /tmp/ray/session_2023-08-16_19-05-30_904053_8929/runtime_resources/working_dir_files/_ray_pkg_f201ed243ee42fb4\u001b[32m [repeated 3x across cluster]\u001b[0m\n",
      "\u001b[2m\u001b[36m(train_net pid=14114)\u001b[0m Train data number :  47869\u001b[32m [repeated 3x across cluster]\u001b[0m\n",
      "\u001b[2m\u001b[36m(train_net pid=14114)\u001b[0m The number of classes is :  18\u001b[32m [repeated 3x across cluster]\u001b[0m\n",
      "\u001b[2m\u001b[36m(train_net pid=14114)\u001b[0m The input_length  is :  30\u001b[32m [repeated 3x across cluster]\u001b[0m\n",
      "\u001b[2m\u001b[36m(train_net pid=14114)\u001b[0m The channel_in is :  77\u001b[32m [repeated 3x across cluster]\u001b[0m\n",
      "\u001b[2m\u001b[36m(train_net pid=14114)\u001b[0m Validation data number :  2147\u001b[32m [repeated 3x across cluster]\u001b[0m\n",
      "\u001b[2m\u001b[36m(train_net pid=14114)\u001b[0m Build the DeepConvLSTM model!\u001b[32m [repeated 3x across cluster]\u001b[0m\n"
     ]
    },
    {
     "name": "stderr",
     "output_type": "stream",
     "text": [
      "\u001b[2m\u001b[36m(train_net pid=14159)\u001b[0m Restored on 10.10.253.254 from checkpoint: /home/janis/PopulationBasedTraining/RayTuneResults/oppo/pbt/oppo_test_data_as_validation_perturbation_3_1/train_net_1dddc_00004_4_mixup_probability=1.0000,random_aug_first=True,random_augmentation_prob=0.6000_2023-08-16_19-05-35/checkpoint_tmp6ec593\u001b[32m [repeated 3x across cluster]\u001b[0m\n",
      "\u001b[2m\u001b[36m(train_net pid=14159)\u001b[0m Current state after restoring: {'_iteration': 6, '_timesteps_total': None, '_time_total': 525.4279115200043, '_episodes_total': None}\u001b[32m [repeated 3x across cluster]\u001b[0m\n"
     ]
    },
    {
     "name": "stdout",
     "output_type": "stream",
     "text": [
      "\u001b[2m\u001b[36m(train_net pid=14114)\u001b[0m new best score!!!!\n",
      "\u001b[2m\u001b[36m(train_net pid=14159)\u001b[0m /tmp/ray/session_2023-08-16_19-05-30_904053_8929/runtime_resources/working_dir_files/_ray_pkg_f201ed243ee42fb4\n",
      "\u001b[2m\u001b[36m(train_net pid=14159)\u001b[0m Train data number :  47869\n",
      "\u001b[2m\u001b[36m(train_net pid=14159)\u001b[0m The number of classes is :  18\n",
      "\u001b[2m\u001b[36m(train_net pid=14159)\u001b[0m The input_length  is :  30\n",
      "\u001b[2m\u001b[36m(train_net pid=14159)\u001b[0m The channel_in is :  77\n",
      "\u001b[2m\u001b[36m(train_net pid=14159)\u001b[0m Validation data number :  2147\n",
      "\u001b[2m\u001b[36m(train_net pid=14159)\u001b[0m Build the DeepConvLSTM model!\n",
      "\u001b[2m\u001b[36m(train_net pid=14114)\u001b[0m new best score!!!!\n",
      "\u001b[2m\u001b[36m(train_net pid=14070)\u001b[0m new best score!!!!\n",
      "\u001b[2m\u001b[36m(train_net pid=14114)\u001b[0m new best score!!!!\n"
     ]
    },
    {
     "name": "stderr",
     "output_type": "stream",
     "text": [
      "\u001b[2m\u001b[36m(train_net pid=14114)\u001b[0m Restored on 10.10.253.254 from checkpoint: /home/janis/PopulationBasedTraining/RayTuneResults/oppo/pbt/oppo_test_data_as_validation_perturbation_3_1/train_net_1dddc_00005_5_mixup_probability=0.8000,random_aug_first=True,random_augmentation_prob=0.5000_2023-08-16_19-05-35/checkpoint_tmp7aedbd\n",
      "\u001b[2m\u001b[36m(train_net pid=14114)\u001b[0m Current state after restoring: {'_iteration': 6, '_timesteps_total': None, '_time_total': 645.4810318946838, '_episodes_total': None}\n"
     ]
    },
    {
     "name": "stdout",
     "output_type": "stream",
     "text": [
      "\u001b[2m\u001b[36m(train_net pid=14114)\u001b[0m /tmp/ray/session_2023-08-16_19-05-30_904053_8929/runtime_resources/working_dir_files/_ray_pkg_f201ed243ee42fb4\n",
      "\u001b[2m\u001b[36m(train_net pid=14114)\u001b[0m Train data number :  47869\n",
      "\u001b[2m\u001b[36m(train_net pid=14114)\u001b[0m The number of classes is :  18\n",
      "\u001b[2m\u001b[36m(train_net pid=14114)\u001b[0m The input_length  is :  30\n",
      "\u001b[2m\u001b[36m(train_net pid=14114)\u001b[0m The channel_in is :  77\n",
      "\u001b[2m\u001b[36m(train_net pid=14114)\u001b[0m Validation data number :  2147\n",
      "\u001b[2m\u001b[36m(train_net pid=14114)\u001b[0m Build the DeepConvLSTM model!\n",
      "\u001b[2m\u001b[36m(train_net pid=14159)\u001b[0m new best score!!!!\n",
      "\u001b[2m\u001b[36m(train_net pid=14024)\u001b[0m new best score!!!!\n",
      "\u001b[2m\u001b[36m(train_net pid=13985)\u001b[0m new best score!!!!\n",
      "\u001b[2m\u001b[36m(train_net pid=14070)\u001b[0m new best score!!!!\n",
      "\u001b[2m\u001b[36m(train_net pid=14159)\u001b[0m new best score!!!!\n",
      "\u001b[2m\u001b[36m(train_net pid=14114)\u001b[0m new best score!!!!\n",
      "\u001b[2m\u001b[36m(train_net pid=14070)\u001b[0m new best score!!!!\n"
     ]
    },
    {
     "name": "stderr",
     "output_type": "stream",
     "text": [
      "\u001b[2m\u001b[36m(train_net pid=14070)\u001b[0m Restored on 10.10.253.254 from checkpoint: /home/janis/PopulationBasedTraining/RayTuneResults/oppo/pbt/oppo_test_data_as_validation_perturbation_3_1/train_net_1dddc_00006_6_mixup_probability=0.7000,random_aug_first=True,random_augmentation_prob=1.0000_2023-08-16_19-05-35/checkpoint_tmpfa35fc\n",
      "\u001b[2m\u001b[36m(train_net pid=14070)\u001b[0m Current state after restoring: {'_iteration': 6, '_timesteps_total': None, '_time_total': 63.02294063568115, '_episodes_total': None}\n"
     ]
    },
    {
     "name": "stdout",
     "output_type": "stream",
     "text": [
      "\u001b[2m\u001b[36m(train_net pid=14070)\u001b[0m /tmp/ray/session_2023-08-16_19-05-30_904053_8929/runtime_resources/working_dir_files/_ray_pkg_f201ed243ee42fb4\n",
      "\u001b[2m\u001b[36m(train_net pid=14070)\u001b[0m Train data number :  47869\n",
      "\u001b[2m\u001b[36m(train_net pid=14070)\u001b[0m The number of classes is :  18\n",
      "\u001b[2m\u001b[36m(train_net pid=14070)\u001b[0m The input_length  is :  30\n",
      "\u001b[2m\u001b[36m(train_net pid=14070)\u001b[0m The channel_in is :  77\n",
      "\u001b[2m\u001b[36m(train_net pid=14070)\u001b[0m Validation data number :  2147\n",
      "\u001b[2m\u001b[36m(train_net pid=14070)\u001b[0m Build the DeepConvLSTM model!\n",
      "\u001b[2m\u001b[36m(train_net pid=13985)\u001b[0m Learning rate adjusting counter: 1 out of 5\n",
      "\u001b[2m\u001b[36m(train_net pid=14024)\u001b[0m new best score!!!!\n",
      "\u001b[2m\u001b[36m(train_net pid=14070)\u001b[0m new best score!!!!\n",
      "\u001b[2m\u001b[36m(train_net pid=14070)\u001b[0m Learning rate adjusting counter: 1 out of 5\n",
      "\u001b[2m\u001b[36m(train_net pid=14070)\u001b[0m new best score!!!!\n"
     ]
    },
    {
     "name": "stderr",
     "output_type": "stream",
     "text": [
      "\u001b[2m\u001b[36m(train_net pid=14070)\u001b[0m Restored on 10.10.253.254 from checkpoint: /home/janis/PopulationBasedTraining/RayTuneResults/oppo/pbt/oppo_test_data_as_validation_perturbation_3_1/train_net_1dddc_00007_7_mixup_probability=0.3000,random_aug_first=False,random_augmentation_prob=0.1000_2023-08-16_19-05-35/checkpoint_tmp21c921\n",
      "\u001b[2m\u001b[36m(train_net pid=14070)\u001b[0m Current state after restoring: {'_iteration': 6, '_timesteps_total': None, '_time_total': 1145.306443452835, '_episodes_total': None}\n"
     ]
    },
    {
     "name": "stdout",
     "output_type": "stream",
     "text": [
      "\u001b[2m\u001b[36m(train_net pid=14070)\u001b[0m /tmp/ray/session_2023-08-16_19-05-30_904053_8929/runtime_resources/working_dir_files/_ray_pkg_f201ed243ee42fb4\n",
      "\u001b[2m\u001b[36m(train_net pid=14070)\u001b[0m Train data number :  47869\n",
      "\u001b[2m\u001b[36m(train_net pid=14070)\u001b[0m The number of classes is :  18\n",
      "\u001b[2m\u001b[36m(train_net pid=14070)\u001b[0m The input_length  is :  30\n",
      "\u001b[2m\u001b[36m(train_net pid=14070)\u001b[0m The channel_in is :  77\n",
      "\u001b[2m\u001b[36m(train_net pid=14070)\u001b[0m Validation data number :  2147\n",
      "\u001b[2m\u001b[36m(train_net pid=14070)\u001b[0m Build the DeepConvLSTM model!\n",
      "\u001b[2m\u001b[36m(train_net pid=14159)\u001b[0m new best score!!!!\n"
     ]
    },
    {
     "name": "stderr",
     "output_type": "stream",
     "text": [
      "\u001b[2m\u001b[36m(train_net pid=14159)\u001b[0m Restored on 10.10.253.254 from checkpoint: /home/janis/PopulationBasedTraining/RayTuneResults/oppo/pbt/oppo_test_data_as_validation_perturbation_3_1/train_net_1dddc_00008_8_mixup_probability=0.3000,random_aug_first=True,random_augmentation_prob=0.2000_2023-08-16_19-05-35/checkpoint_tmpde83ff\n",
      "\u001b[2m\u001b[36m(train_net pid=14159)\u001b[0m Current state after restoring: {'_iteration': 6, '_timesteps_total': None, '_time_total': 1020.4205040931702, '_episodes_total': None}\n"
     ]
    },
    {
     "name": "stdout",
     "output_type": "stream",
     "text": [
      "\u001b[2m\u001b[36m(train_net pid=14159)\u001b[0m /tmp/ray/session_2023-08-16_19-05-30_904053_8929/runtime_resources/working_dir_files/_ray_pkg_f201ed243ee42fb4\n",
      "\u001b[2m\u001b[36m(train_net pid=14159)\u001b[0m Train data number :  47869\n",
      "\u001b[2m\u001b[36m(train_net pid=14159)\u001b[0m The number of classes is :  18\n",
      "\u001b[2m\u001b[36m(train_net pid=14159)\u001b[0m The input_length  is :  30\n",
      "\u001b[2m\u001b[36m(train_net pid=14159)\u001b[0m The channel_in is :  77\n",
      "\u001b[2m\u001b[36m(train_net pid=14159)\u001b[0m Validation data number :  2147\n",
      "\u001b[2m\u001b[36m(train_net pid=14159)\u001b[0m Build the DeepConvLSTM model!\n",
      "\u001b[2m\u001b[36m(train_net pid=14114)\u001b[0m new best score!!!!\n",
      "\u001b[2m\u001b[36m(train_net pid=14024)\u001b[0m new best score!!!!\n"
     ]
    },
    {
     "name": "stderr",
     "output_type": "stream",
     "text": [
      "\u001b[2m\u001b[36m(train_net pid=14024)\u001b[0m Restored on 10.10.253.254 from checkpoint: /home/janis/PopulationBasedTraining/RayTuneResults/oppo/pbt/oppo_test_data_as_validation_perturbation_3_1/train_net_1dddc_00009_9_mixup_probability=0.6000,random_aug_first=True,random_augmentation_prob=0.2000_2023-08-16_19-05-35/checkpoint_tmp54dec4\n",
      "\u001b[2m\u001b[36m(train_net pid=14024)\u001b[0m Current state after restoring: {'_iteration': 6, '_timesteps_total': None, '_time_total': 1025.0496921539307, '_episodes_total': None}\n"
     ]
    },
    {
     "name": "stdout",
     "output_type": "stream",
     "text": [
      "\u001b[2m\u001b[36m(train_net pid=14024)\u001b[0m /tmp/ray/session_2023-08-16_19-05-30_904053_8929/runtime_resources/working_dir_files/_ray_pkg_f201ed243ee42fb4\n",
      "\u001b[2m\u001b[36m(train_net pid=14024)\u001b[0m Train data number :  47869\n",
      "\u001b[2m\u001b[36m(train_net pid=14024)\u001b[0m The number of classes is :  18\n",
      "\u001b[2m\u001b[36m(train_net pid=14024)\u001b[0m The input_length  is :  30\n",
      "\u001b[2m\u001b[36m(train_net pid=14024)\u001b[0m The channel_in is :  77\n",
      "\u001b[2m\u001b[36m(train_net pid=14024)\u001b[0m Validation data number :  2147\n",
      "\u001b[2m\u001b[36m(train_net pid=14024)\u001b[0m Build the DeepConvLSTM model!\n",
      "\u001b[2m\u001b[36m(train_net pid=13985)\u001b[0m new best score!!!!\n"
     ]
    },
    {
     "name": "stderr",
     "output_type": "stream",
     "text": [
      "\u001b[2m\u001b[36m(train_net pid=13985)\u001b[0m Restored on 10.10.253.254 from checkpoint: /home/janis/PopulationBasedTraining/RayTuneResults/oppo/pbt/oppo_test_data_as_validation_perturbation_3_1/train_net_1dddc_00010_10_mixup_probability=0.2000,random_aug_first=False,random_augmentation_prob=0.4000_2023-08-16_19-05-35/checkpoint_tmp20c8b3\n",
      "\u001b[2m\u001b[36m(train_net pid=13985)\u001b[0m Current state after restoring: {'_iteration': 6, '_timesteps_total': None, '_time_total': 645.4810318946838, '_episodes_total': None}\n"
     ]
    },
    {
     "name": "stdout",
     "output_type": "stream",
     "text": [
      "\u001b[2m\u001b[36m(train_net pid=13985)\u001b[0m /tmp/ray/session_2023-08-16_19-05-30_904053_8929/runtime_resources/working_dir_files/_ray_pkg_f201ed243ee42fb4\n",
      "\u001b[2m\u001b[36m(train_net pid=13985)\u001b[0m Train data number :  47869\n",
      "\u001b[2m\u001b[36m(train_net pid=13985)\u001b[0m The number of classes is :  18\n",
      "\u001b[2m\u001b[36m(train_net pid=13985)\u001b[0m The input_length  is :  30\n",
      "\u001b[2m\u001b[36m(train_net pid=13985)\u001b[0m The channel_in is :  77\n",
      "\u001b[2m\u001b[36m(train_net pid=13985)\u001b[0m Validation data number :  2147\n",
      "\u001b[2m\u001b[36m(train_net pid=13985)\u001b[0m Build the DeepConvLSTM model!\n",
      "\u001b[2m\u001b[36m(train_net pid=14114)\u001b[0m new best score!!!!\n"
     ]
    },
    {
     "name": "stderr",
     "output_type": "stream",
     "text": [
      "\u001b[2m\u001b[36m(train_net pid=14114)\u001b[0m Restored on 10.10.253.254 from checkpoint: /home/janis/PopulationBasedTraining/RayTuneResults/oppo/pbt/oppo_test_data_as_validation_perturbation_3_1/train_net_1dddc_00011_11_mixup_probability=1.0000,random_aug_first=True,random_augmentation_prob=0.0000_2023-08-16_19-05-35/checkpoint_tmp58c21f\n",
      "\u001b[2m\u001b[36m(train_net pid=14114)\u001b[0m Current state after restoring: {'_iteration': 6, '_timesteps_total': None, '_time_total': 428.49232935905457, '_episodes_total': None}\n"
     ]
    },
    {
     "name": "stdout",
     "output_type": "stream",
     "text": [
      "\u001b[2m\u001b[36m(train_net pid=14114)\u001b[0m /tmp/ray/session_2023-08-16_19-05-30_904053_8929/runtime_resources/working_dir_files/_ray_pkg_f201ed243ee42fb4\n",
      "\u001b[2m\u001b[36m(train_net pid=14114)\u001b[0m Train data number :  47869\n",
      "\u001b[2m\u001b[36m(train_net pid=14114)\u001b[0m The number of classes is :  18\n",
      "\u001b[2m\u001b[36m(train_net pid=14114)\u001b[0m The input_length  is :  30\n",
      "\u001b[2m\u001b[36m(train_net pid=14114)\u001b[0m The channel_in is :  77\n",
      "\u001b[2m\u001b[36m(train_net pid=14114)\u001b[0m Validation data number :  2147\n",
      "\u001b[2m\u001b[36m(train_net pid=14114)\u001b[0m Build the DeepConvLSTM model!\n",
      "\u001b[2m\u001b[36m(train_net pid=14070)\u001b[0m new best score!!!!\n",
      "\u001b[2m\u001b[36m(train_net pid=14159)\u001b[0m new best score!!!!\n",
      "\u001b[2m\u001b[36m(train_net pid=13985)\u001b[0m new best score!!!!\n",
      "\u001b[2m\u001b[36m(train_net pid=14024)\u001b[0m new best score!!!!\n",
      "\u001b[2m\u001b[36m(train_net pid=14114)\u001b[0m new best score!!!!\n",
      "\u001b[2m\u001b[36m(train_net pid=13985)\u001b[0m new best score!!!!\n",
      "\u001b[2m\u001b[36m(train_net pid=14159)\u001b[0m Learning rate adjusting counter: 1 out of 5\n",
      "\u001b[2m\u001b[36m(train_net pid=14070)\u001b[0m new best score!!!!\n",
      "\u001b[2m\u001b[36m(train_net pid=14024)\u001b[0m new best score!!!!\n",
      "\u001b[2m\u001b[36m(train_net pid=14114)\u001b[0m new best score!!!!\n",
      "\u001b[2m\u001b[36m(train_net pid=13985)\u001b[0m new best score!!!!\n"
     ]
    },
    {
     "name": "stderr",
     "output_type": "stream",
     "text": [
      "\u001b[2m\u001b[36m(train_net pid=13985)\u001b[0m Restored on 10.10.253.254 from checkpoint: /home/janis/PopulationBasedTraining/RayTuneResults/oppo/pbt/oppo_test_data_as_validation_perturbation_3_1/train_net_1dddc_00012_12_mixup_probability=0.9000,random_aug_first=True,random_augmentation_prob=0.5000_2023-08-16_19-05-35/checkpoint_tmpb6c086\n",
      "\u001b[2m\u001b[36m(train_net pid=13985)\u001b[0m Current state after restoring: {'_iteration': 6, '_timesteps_total': None, '_time_total': 634.3966629505157, '_episodes_total': None}\n"
     ]
    },
    {
     "name": "stdout",
     "output_type": "stream",
     "text": [
      "\u001b[2m\u001b[36m(train_net pid=13985)\u001b[0m /tmp/ray/session_2023-08-16_19-05-30_904053_8929/runtime_resources/working_dir_files/_ray_pkg_f201ed243ee42fb4\n",
      "\u001b[2m\u001b[36m(train_net pid=13985)\u001b[0m Train data number :  47869\n",
      "\u001b[2m\u001b[36m(train_net pid=13985)\u001b[0m The number of classes is :  18\n",
      "\u001b[2m\u001b[36m(train_net pid=13985)\u001b[0m The input_length  is :  30\n",
      "\u001b[2m\u001b[36m(train_net pid=13985)\u001b[0m The channel_in is :  77\n",
      "\u001b[2m\u001b[36m(train_net pid=13985)\u001b[0m Validation data number :  2147\n",
      "\u001b[2m\u001b[36m(train_net pid=13985)\u001b[0m Build the DeepConvLSTM model!\n",
      "\u001b[2m\u001b[36m(train_net pid=14159)\u001b[0m new best score!!!!\n"
     ]
    },
    {
     "name": "stderr",
     "output_type": "stream",
     "text": [
      "\u001b[2m\u001b[36m(train_net pid=14159)\u001b[0m Restored on 10.10.253.254 from checkpoint: /home/janis/PopulationBasedTraining/RayTuneResults/oppo/pbt/oppo_test_data_as_validation_perturbation_3_1/train_net_1dddc_00013_13_mixup_probability=0.0000,random_aug_first=False,random_augmentation_prob=0.2000_2023-08-16_19-05-35/checkpoint_tmp8728ce\n",
      "\u001b[2m\u001b[36m(train_net pid=14159)\u001b[0m Current state after restoring: {'_iteration': 6, '_timesteps_total': None, '_time_total': 645.4810318946838, '_episodes_total': None}\n"
     ]
    },
    {
     "name": "stdout",
     "output_type": "stream",
     "text": [
      "\u001b[2m\u001b[36m(train_net pid=14159)\u001b[0m /tmp/ray/session_2023-08-16_19-05-30_904053_8929/runtime_resources/working_dir_files/_ray_pkg_f201ed243ee42fb4\n",
      "\u001b[2m\u001b[36m(train_net pid=14159)\u001b[0m Train data number :  47869\n",
      "\u001b[2m\u001b[36m(train_net pid=14159)\u001b[0m The number of classes is :  18\n",
      "\u001b[2m\u001b[36m(train_net pid=14159)\u001b[0m The input_length  is :  30\n",
      "\u001b[2m\u001b[36m(train_net pid=14159)\u001b[0m The channel_in is :  77\n",
      "\u001b[2m\u001b[36m(train_net pid=14159)\u001b[0m Validation data number :  2147\n",
      "\u001b[2m\u001b[36m(train_net pid=14159)\u001b[0m Build the DeepConvLSTM model!\n",
      "\u001b[2m\u001b[36m(train_net pid=14114)\u001b[0m new best score!!!!\n"
     ]
    },
    {
     "name": "stderr",
     "output_type": "stream",
     "text": [
      "\u001b[2m\u001b[36m(train_net pid=14114)\u001b[0m Restored on 10.10.253.254 from checkpoint: /home/janis/PopulationBasedTraining/RayTuneResults/oppo/pbt/oppo_test_data_as_validation_perturbation_3_1/train_net_1dddc_00014_14_mixup_probability=0.0000,random_aug_first=True,random_augmentation_prob=1.0000_2023-08-16_19-05-35/checkpoint_tmp6c6930\n",
      "\u001b[2m\u001b[36m(train_net pid=14114)\u001b[0m Current state after restoring: {'_iteration': 6, '_timesteps_total': None, '_time_total': 574.505028963089, '_episodes_total': None}\n"
     ]
    },
    {
     "name": "stdout",
     "output_type": "stream",
     "text": [
      "\u001b[2m\u001b[36m(train_net pid=14114)\u001b[0m /tmp/ray/session_2023-08-16_19-05-30_904053_8929/runtime_resources/working_dir_files/_ray_pkg_f201ed243ee42fb4\n",
      "\u001b[2m\u001b[36m(train_net pid=14114)\u001b[0m Train data number :  47869\n",
      "\u001b[2m\u001b[36m(train_net pid=14114)\u001b[0m The number of classes is :  18\n",
      "\u001b[2m\u001b[36m(train_net pid=14114)\u001b[0m The input_length  is :  30\n",
      "\u001b[2m\u001b[36m(train_net pid=14114)\u001b[0m The channel_in is :  77\n",
      "\u001b[2m\u001b[36m(train_net pid=14114)\u001b[0m Validation data number :  2147\n",
      "\u001b[2m\u001b[36m(train_net pid=14114)\u001b[0m Build the DeepConvLSTM model!\n",
      "\u001b[2m\u001b[36m(train_net pid=14024)\u001b[0m new best score!!!!\n"
     ]
    },
    {
     "name": "stderr",
     "output_type": "stream",
     "text": [
      "\u001b[2m\u001b[36m(train_net pid=14024)\u001b[0m Restored on 10.10.253.254 from checkpoint: /home/janis/PopulationBasedTraining/RayTuneResults/oppo/pbt/oppo_test_data_as_validation_perturbation_3_1/train_net_1dddc_00015_15_mixup_probability=0.2000,random_aug_first=True,random_augmentation_prob=0.5000_2023-08-16_19-05-35/checkpoint_tmp4807fa\n",
      "\u001b[2m\u001b[36m(train_net pid=14024)\u001b[0m Current state after restoring: {'_iteration': 6, '_timesteps_total': None, '_time_total': 525.4279115200043, '_episodes_total': None}\n"
     ]
    },
    {
     "name": "stdout",
     "output_type": "stream",
     "text": [
      "\u001b[2m\u001b[36m(train_net pid=14024)\u001b[0m /tmp/ray/session_2023-08-16_19-05-30_904053_8929/runtime_resources/working_dir_files/_ray_pkg_f201ed243ee42fb4\n",
      "\u001b[2m\u001b[36m(train_net pid=14024)\u001b[0m Train data number :  47869\n",
      "\u001b[2m\u001b[36m(train_net pid=14024)\u001b[0m The number of classes is :  18\n",
      "\u001b[2m\u001b[36m(train_net pid=14024)\u001b[0m The input_length  is :  30\n",
      "\u001b[2m\u001b[36m(train_net pid=14024)\u001b[0m The channel_in is :  77\n",
      "\u001b[2m\u001b[36m(train_net pid=14024)\u001b[0m Validation data number :  2147\n",
      "\u001b[2m\u001b[36m(train_net pid=14024)\u001b[0m Build the DeepConvLSTM model!\n",
      "\u001b[2m\u001b[36m(train_net pid=13985)\u001b[0m new best score!!!!\u001b[32m [repeated 2x across cluster]\u001b[0m\n",
      "\u001b[2m\u001b[36m(train_net pid=14159)\u001b[0m new best score!!!!\n",
      "\u001b[2m\u001b[36m(train_net pid=14114)\u001b[0m new best score!!!!\n",
      "\u001b[2m\u001b[36m(train_net pid=13985)\u001b[0m new best score!!!!\n",
      "\u001b[2m\u001b[36m(train_net pid=14159)\u001b[0m new best score!!!!\n",
      "\u001b[2m\u001b[36m(train_net pid=14024)\u001b[0m new best score!!!!\n",
      "\u001b[2m\u001b[36m(train_net pid=14114)\u001b[0m new best score!!!!\n",
      "\u001b[2m\u001b[36m(train_net pid=14159)\u001b[0m new best score!!!!\n",
      "\u001b[2m\u001b[36m(train_net pid=13985)\u001b[0m new best score!!!!\n",
      "\u001b[2m\u001b[36m(train_net pid=14024)\u001b[0m new best score!!!!\n",
      "\u001b[2m\u001b[36m(train_net pid=14114)\u001b[0m new best score!!!!\n"
     ]
    },
    {
     "name": "stderr",
     "output_type": "stream",
     "text": [
      "2023-08-16 20:05:52,529\tINFO pbt.py:809 -- \n",
      "\n",
      "[PopulationBasedTraining] [Exploit] Cloning trial 1dddc_00014 (score = 0.881695) into trial 1dddc_00008 (score = 0.855612)\n",
      "\n",
      "2023-08-16 20:05:52,529\tINFO pbt.py:836 -- \n",
      "\n",
      "[PopulationBasedTraining] [Explore] Perturbed the hyperparameter config of trial1dddc_00008:\n",
      "random_augmentation_prob : 0.5 --- (shift right) --> 0.6000000000000001\n",
      "mixup_probability : 0.9 --- (resample) --> 0.0\n",
      "\n",
      "2023-08-16 20:05:52,650\tINFO pbt.py:809 -- \n",
      "\n",
      "[PopulationBasedTraining] [Exploit] Cloning trial 1dddc_00011 (score = 0.881695) into trial 1dddc_00003 (score = 0.858873)\n",
      "\n",
      "2023-08-16 20:05:52,651\tINFO pbt.py:836 -- \n",
      "\n",
      "[PopulationBasedTraining] [Explore] Perturbed the hyperparameter config of trial1dddc_00003:\n",
      "random_augmentation_prob : 0.4 --- (shift right) --> 0.5\n",
      "mixup_probability : 0.8 --- (shift right) --> 0.9\n",
      "\n",
      "2023-08-16 20:05:52,792\tINFO pbt.py:809 -- \n",
      "\n",
      "[PopulationBasedTraining] [Exploit] Cloning trial 1dddc_00009 (score = 0.891011) into trial 1dddc_00007 (score = 0.868654)\n",
      "\n",
      "2023-08-16 20:05:52,792\tINFO pbt.py:836 -- \n",
      "\n",
      "[PopulationBasedTraining] [Explore] Perturbed the hyperparameter config of trial1dddc_00007:\n",
      "random_augmentation_prob : 0.2 --- (shift right) --> 0.30000000000000004\n",
      "mixup_probability : 0.6000000000000001 --- (shift left) --> 0.5\n",
      "\n"
     ]
    },
    {
     "name": "stdout",
     "output_type": "stream",
     "text": [
      "\u001b[2m\u001b[36m(train_net pid=14024)\u001b[0m new best score!!!!\n"
     ]
    },
    {
     "name": "stderr",
     "output_type": "stream",
     "text": [
      "2023-08-16 20:05:52,902\tINFO pbt.py:809 -- \n",
      "\n",
      "[PopulationBasedTraining] [Exploit] Cloning trial 1dddc_00014 (score = 0.881695) into trial 1dddc_00013 (score = 0.872380)\n",
      "\n",
      "2023-08-16 20:05:52,903\tINFO pbt.py:836 -- \n",
      "\n",
      "[PopulationBasedTraining] [Explore] Perturbed the hyperparameter config of trial1dddc_00013:\n",
      "random_augmentation_prob : 0.5 --- (resample) --> 0.8\n",
      "mixup_probability : 0.9 --- (resample) --> 0.30000000000000004\n",
      "\n",
      "\u001b[2m\u001b[36m(train_net pid=14024)\u001b[0m Restored on 10.10.253.254 from checkpoint: /home/janis/PopulationBasedTraining/RayTuneResults/oppo/pbt/oppo_test_data_as_validation_perturbation_3_1/train_net_1dddc_00000_0_mixup_probability=0.1000,random_aug_first=False,random_augmentation_prob=0.8000_2023-08-16_19-05-35/checkpoint_tmp00bd87\n",
      "\u001b[2m\u001b[36m(train_net pid=14024)\u001b[0m Current state after restoring: {'_iteration': 9, '_timesteps_total': None, '_time_total': 869.9925906658173, '_episodes_total': None}\n"
     ]
    },
    {
     "name": "stdout",
     "output_type": "stream",
     "text": [
      "\u001b[2m\u001b[36m(train_net pid=14024)\u001b[0m /tmp/ray/session_2023-08-16_19-05-30_904053_8929/runtime_resources/working_dir_files/_ray_pkg_f201ed243ee42fb4\n",
      "\u001b[2m\u001b[36m(train_net pid=14024)\u001b[0m Train data number :  47869\n",
      "\u001b[2m\u001b[36m(train_net pid=14024)\u001b[0m The number of classes is :  18\n",
      "\u001b[2m\u001b[36m(train_net pid=14024)\u001b[0m The input_length  is :  30\n",
      "\u001b[2m\u001b[36m(train_net pid=14024)\u001b[0m The channel_in is :  77\n",
      "\u001b[2m\u001b[36m(train_net pid=14024)\u001b[0m Validation data number :  2147\n",
      "\u001b[2m\u001b[36m(train_net pid=14024)\u001b[0m Build the DeepConvLSTM model!\n"
     ]
    },
    {
     "name": "stderr",
     "output_type": "stream",
     "text": [
      "\u001b[2m\u001b[36m(train_net pid=17311)\u001b[0m Restored on 10.10.253.254 from checkpoint: /home/janis/PopulationBasedTraining/RayTuneResults/oppo/pbt/oppo_test_data_as_validation_perturbation_3_1/train_net_1dddc_00003_3_mixup_probability=0.2000,random_aug_first=True,random_augmentation_prob=0.9000_2023-08-16_19-05-35/checkpoint_tmp79d4ce\u001b[32m [repeated 3x across cluster]\u001b[0m\n",
      "\u001b[2m\u001b[36m(train_net pid=17311)\u001b[0m Current state after restoring: {'_iteration': 9, '_timesteps_total': None, '_time_total': 827.2742838859558, '_episodes_total': None}\u001b[32m [repeated 3x across cluster]\u001b[0m\n"
     ]
    },
    {
     "name": "stdout",
     "output_type": "stream",
     "text": [
      "\u001b[2m\u001b[36m(train_net pid=17311)\u001b[0m /tmp/ray/session_2023-08-16_19-05-30_904053_8929/runtime_resources/working_dir_files/_ray_pkg_f201ed243ee42fb4\u001b[32m [repeated 3x across cluster]\u001b[0m\n",
      "\u001b[2m\u001b[36m(train_net pid=17311)\u001b[0m Train data number :  47869\u001b[32m [repeated 3x across cluster]\u001b[0m\n",
      "\u001b[2m\u001b[36m(train_net pid=17311)\u001b[0m The number of classes is :  18\u001b[32m [repeated 3x across cluster]\u001b[0m\n",
      "\u001b[2m\u001b[36m(train_net pid=17311)\u001b[0m The input_length  is :  30\u001b[32m [repeated 3x across cluster]\u001b[0m\n",
      "\u001b[2m\u001b[36m(train_net pid=17311)\u001b[0m The channel_in is :  77\u001b[32m [repeated 3x across cluster]\u001b[0m\n",
      "\u001b[2m\u001b[36m(train_net pid=17311)\u001b[0m Validation data number :  2147\u001b[32m [repeated 3x across cluster]\u001b[0m\n",
      "\u001b[2m\u001b[36m(train_net pid=17311)\u001b[0m Build the DeepConvLSTM model!\u001b[32m [repeated 3x across cluster]\u001b[0m\n",
      "\u001b[2m\u001b[36m(train_net pid=17266)\u001b[0m Learning rate adjusting counter: 1 out of 5\n",
      "\u001b[2m\u001b[36m(train_net pid=17354)\u001b[0m /tmp/ray/session_2023-08-16_19-05-30_904053_8929/runtime_resources/working_dir_files/_ray_pkg_f201ed243ee42fb4\n",
      "\u001b[2m\u001b[36m(train_net pid=17354)\u001b[0m Train data number :  47869\n",
      "\u001b[2m\u001b[36m(train_net pid=17354)\u001b[0m The number of classes is :  18\n",
      "\u001b[2m\u001b[36m(train_net pid=17354)\u001b[0m The input_length  is :  30\n",
      "\u001b[2m\u001b[36m(train_net pid=17354)\u001b[0m The channel_in is :  77\n",
      "\u001b[2m\u001b[36m(train_net pid=17354)\u001b[0m Validation data number :  2147\n",
      "\u001b[2m\u001b[36m(train_net pid=17354)\u001b[0m Build the DeepConvLSTM model!\n",
      "\u001b[2m\u001b[36m(train_net pid=17354)\u001b[0m new best score!!!!\n",
      "\u001b[2m\u001b[36m(train_net pid=14024)\u001b[0m Learning rate adjusting counter: 1 out of 5\n",
      "\u001b[2m\u001b[36m(train_net pid=17188)\u001b[0m new best score!!!!\n",
      "\u001b[2m\u001b[36m(train_net pid=17311)\u001b[0m new best score!!!!\n",
      "\u001b[2m\u001b[36m(train_net pid=17266)\u001b[0m new best score!!!!\n",
      "\u001b[2m\u001b[36m(train_net pid=17354)\u001b[0m new best score!!!!\n",
      "\u001b[2m\u001b[36m(train_net pid=17266)\u001b[0m new best score!!!!\n"
     ]
    },
    {
     "name": "stderr",
     "output_type": "stream",
     "text": [
      "\u001b[2m\u001b[36m(train_net pid=17266)\u001b[0m Restored on 10.10.253.254 from checkpoint: /home/janis/PopulationBasedTraining/RayTuneResults/oppo/pbt/oppo_test_data_as_validation_perturbation_3_1/train_net_1dddc_00005_5_mixup_probability=0.8000,random_aug_first=True,random_augmentation_prob=0.5000_2023-08-16_19-05-35/checkpoint_tmp08c478\u001b[32m [repeated 2x across cluster]\u001b[0m\n",
      "\u001b[2m\u001b[36m(train_net pid=17266)\u001b[0m Current state after restoring: {'_iteration': 9, '_timesteps_total': None, '_time_total': 982.1361763477325, '_episodes_total': None}\u001b[32m [repeated 2x across cluster]\u001b[0m\n"
     ]
    },
    {
     "name": "stdout",
     "output_type": "stream",
     "text": [
      "\u001b[2m\u001b[36m(train_net pid=17266)\u001b[0m /tmp/ray/session_2023-08-16_19-05-30_904053_8929/runtime_resources/working_dir_files/_ray_pkg_f201ed243ee42fb4\n",
      "\u001b[2m\u001b[36m(train_net pid=17266)\u001b[0m Train data number :  47869\n",
      "\u001b[2m\u001b[36m(train_net pid=17266)\u001b[0m The number of classes is :  18\n",
      "\u001b[2m\u001b[36m(train_net pid=17266)\u001b[0m The input_length  is :  30\n",
      "\u001b[2m\u001b[36m(train_net pid=17266)\u001b[0m The channel_in is :  77\n",
      "\u001b[2m\u001b[36m(train_net pid=17266)\u001b[0m Validation data number :  2147\n",
      "\u001b[2m\u001b[36m(train_net pid=17266)\u001b[0m Build the DeepConvLSTM model!\n",
      "\u001b[2m\u001b[36m(train_net pid=17188)\u001b[0m Learning rate adjusting counter: 1 out of 5\n",
      "\u001b[2m\u001b[36m(train_net pid=14024)\u001b[0m new best score!!!!\n",
      "\u001b[2m\u001b[36m(train_net pid=17354)\u001b[0m new best score!!!!\n",
      "\u001b[2m\u001b[36m(train_net pid=17311)\u001b[0m Learning rate adjusting counter: 1 out of 5\n"
     ]
    },
    {
     "name": "stderr",
     "output_type": "stream",
     "text": [
      "\u001b[2m\u001b[36m(train_net pid=17354)\u001b[0m Restored on 10.10.253.254 from checkpoint: /home/janis/PopulationBasedTraining/RayTuneResults/oppo/pbt/oppo_test_data_as_validation_perturbation_3_1/train_net_1dddc_00006_6_mixup_probability=0.7000,random_aug_first=True,random_augmentation_prob=1.0000_2023-08-16_19-05-35/checkpoint_tmpa082ff\n",
      "\u001b[2m\u001b[36m(train_net pid=17354)\u001b[0m Current state after restoring: {'_iteration': 9, '_timesteps_total': None, '_time_total': 94.80786943435669, '_episodes_total': None}\n"
     ]
    },
    {
     "name": "stdout",
     "output_type": "stream",
     "text": [
      "\u001b[2m\u001b[36m(train_net pid=17354)\u001b[0m /tmp/ray/session_2023-08-16_19-05-30_904053_8929/runtime_resources/working_dir_files/_ray_pkg_f201ed243ee42fb4\n",
      "\u001b[2m\u001b[36m(train_net pid=17354)\u001b[0m Train data number :  47869\n",
      "\u001b[2m\u001b[36m(train_net pid=17354)\u001b[0m The number of classes is :  18\n",
      "\u001b[2m\u001b[36m(train_net pid=17354)\u001b[0m The input_length  is :  30\n",
      "\u001b[2m\u001b[36m(train_net pid=17354)\u001b[0m The channel_in is :  77\n",
      "\u001b[2m\u001b[36m(train_net pid=17354)\u001b[0m Validation data number :  2147\n",
      "\u001b[2m\u001b[36m(train_net pid=17354)\u001b[0m Build the DeepConvLSTM model!\n",
      "\u001b[2m\u001b[36m(train_net pid=17354)\u001b[0m new best score!!!!\n",
      "\u001b[2m\u001b[36m(train_net pid=17354)\u001b[0m new best score!!!!\n",
      "\u001b[2m\u001b[36m(train_net pid=17354)\u001b[0m new best score!!!!\n"
     ]
    },
    {
     "name": "stderr",
     "output_type": "stream",
     "text": [
      "\u001b[2m\u001b[36m(train_net pid=17354)\u001b[0m Restored on 10.10.253.254 from checkpoint: /home/janis/PopulationBasedTraining/RayTuneResults/oppo/pbt/oppo_test_data_as_validation_perturbation_3_1/train_net_1dddc_00007_7_mixup_probability=0.3000,random_aug_first=False,random_augmentation_prob=0.1000_2023-08-16_19-05-35/checkpoint_tmp5c1993\n",
      "\u001b[2m\u001b[36m(train_net pid=17354)\u001b[0m Current state after restoring: {'_iteration': 9, '_timesteps_total': None, '_time_total': 1539.592376947403, '_episodes_total': None}\n"
     ]
    },
    {
     "name": "stdout",
     "output_type": "stream",
     "text": [
      "\u001b[2m\u001b[36m(train_net pid=17354)\u001b[0m /tmp/ray/session_2023-08-16_19-05-30_904053_8929/runtime_resources/working_dir_files/_ray_pkg_f201ed243ee42fb4\n",
      "\u001b[2m\u001b[36m(train_net pid=17354)\u001b[0m Train data number :  47869\n",
      "\u001b[2m\u001b[36m(train_net pid=17354)\u001b[0m The number of classes is :  18\n",
      "\u001b[2m\u001b[36m(train_net pid=17354)\u001b[0m The input_length  is :  30\n",
      "\u001b[2m\u001b[36m(train_net pid=17354)\u001b[0m The channel_in is :  77\n",
      "\u001b[2m\u001b[36m(train_net pid=17354)\u001b[0m Validation data number :  2147\n",
      "\u001b[2m\u001b[36m(train_net pid=17354)\u001b[0m Build the DeepConvLSTM model!\n",
      "\u001b[2m\u001b[36m(train_net pid=17266)\u001b[0m new best score!!!!\n"
     ]
    },
    {
     "name": "stderr",
     "output_type": "stream",
     "text": [
      "\u001b[2m\u001b[36m(train_net pid=14024)\u001b[0m Restored on 10.10.253.254 from checkpoint: /home/janis/PopulationBasedTraining/RayTuneResults/oppo/pbt/oppo_test_data_as_validation_perturbation_3_1/train_net_1dddc_00008_8_mixup_probability=0.3000,random_aug_first=True,random_augmentation_prob=0.2000_2023-08-16_19-05-35/checkpoint_tmp9282bc\n",
      "\u001b[2m\u001b[36m(train_net pid=14024)\u001b[0m Current state after restoring: {'_iteration': 9, '_timesteps_total': None, '_time_total': 895.1564743518829, '_episodes_total': None}\n"
     ]
    },
    {
     "name": "stdout",
     "output_type": "stream",
     "text": [
      "\u001b[2m\u001b[36m(train_net pid=14024)\u001b[0m /tmp/ray/session_2023-08-16_19-05-30_904053_8929/runtime_resources/working_dir_files/_ray_pkg_f201ed243ee42fb4\n",
      "\u001b[2m\u001b[36m(train_net pid=14024)\u001b[0m Train data number :  47869\n",
      "\u001b[2m\u001b[36m(train_net pid=14024)\u001b[0m The number of classes is :  18\n",
      "\u001b[2m\u001b[36m(train_net pid=14024)\u001b[0m The input_length  is :  30\n",
      "\u001b[2m\u001b[36m(train_net pid=14024)\u001b[0m The channel_in is :  77\n",
      "\u001b[2m\u001b[36m(train_net pid=14024)\u001b[0m Validation data number :  2147\n",
      "\u001b[2m\u001b[36m(train_net pid=14024)\u001b[0m Build the DeepConvLSTM model!\n",
      "\u001b[2m\u001b[36m(train_net pid=17188)\u001b[0m Learning rate adjusting counter: 2 out of 5\n",
      "\u001b[2m\u001b[36m(train_net pid=14024)\u001b[0m new best score!!!!\n"
     ]
    },
    {
     "name": "stderr",
     "output_type": "stream",
     "text": [
      "\u001b[2m\u001b[36m(train_net pid=17188)\u001b[0m Restored on 10.10.253.254 from checkpoint: /home/janis/PopulationBasedTraining/RayTuneResults/oppo/pbt/oppo_test_data_as_validation_perturbation_3_1/train_net_1dddc_00009_9_mixup_probability=0.6000,random_aug_first=True,random_augmentation_prob=0.2000_2023-08-16_19-05-35/checkpoint_tmp62a281\n",
      "\u001b[2m\u001b[36m(train_net pid=17188)\u001b[0m Current state after restoring: {'_iteration': 9, '_timesteps_total': None, '_time_total': 1539.592376947403, '_episodes_total': None}\n"
     ]
    },
    {
     "name": "stdout",
     "output_type": "stream",
     "text": [
      "\u001b[2m\u001b[36m(train_net pid=17311)\u001b[0m new best score!!!!\n",
      "\u001b[2m\u001b[36m(train_net pid=17188)\u001b[0m /tmp/ray/session_2023-08-16_19-05-30_904053_8929/runtime_resources/working_dir_files/_ray_pkg_f201ed243ee42fb4\n",
      "\u001b[2m\u001b[36m(train_net pid=17188)\u001b[0m Train data number :  47869\n",
      "\u001b[2m\u001b[36m(train_net pid=17188)\u001b[0m The number of classes is :  18\n",
      "\u001b[2m\u001b[36m(train_net pid=17188)\u001b[0m The input_length  is :  30\n",
      "\u001b[2m\u001b[36m(train_net pid=17188)\u001b[0m The channel_in is :  77\n",
      "\u001b[2m\u001b[36m(train_net pid=17188)\u001b[0m Validation data number :  2147\n",
      "\u001b[2m\u001b[36m(train_net pid=17188)\u001b[0m Build the DeepConvLSTM model!\n"
     ]
    },
    {
     "name": "stderr",
     "output_type": "stream",
     "text": [
      "\u001b[2m\u001b[36m(train_net pid=17311)\u001b[0m Restored on 10.10.253.254 from checkpoint: /home/janis/PopulationBasedTraining/RayTuneResults/oppo/pbt/oppo_test_data_as_validation_perturbation_3_1/train_net_1dddc_00010_10_mixup_probability=0.2000,random_aug_first=False,random_augmentation_prob=0.4000_2023-08-16_19-05-35/checkpoint_tmpae243a\n",
      "\u001b[2m\u001b[36m(train_net pid=17311)\u001b[0m Current state after restoring: {'_iteration': 9, '_timesteps_total': None, '_time_total': 1053.608303785324, '_episodes_total': None}\n"
     ]
    },
    {
     "name": "stdout",
     "output_type": "stream",
     "text": [
      "\u001b[2m\u001b[36m(train_net pid=17311)\u001b[0m /tmp/ray/session_2023-08-16_19-05-30_904053_8929/runtime_resources/working_dir_files/_ray_pkg_f201ed243ee42fb4\n",
      "\u001b[2m\u001b[36m(train_net pid=17311)\u001b[0m Train data number :  47869\n",
      "\u001b[2m\u001b[36m(train_net pid=17311)\u001b[0m The number of classes is :  18\n",
      "\u001b[2m\u001b[36m(train_net pid=17311)\u001b[0m The input_length  is :  30\n",
      "\u001b[2m\u001b[36m(train_net pid=17311)\u001b[0m The channel_in is :  77\n",
      "\u001b[2m\u001b[36m(train_net pid=17311)\u001b[0m Validation data number :  2147\n",
      "\u001b[2m\u001b[36m(train_net pid=17311)\u001b[0m Build the DeepConvLSTM model!\n",
      "\u001b[2m\u001b[36m(train_net pid=14024)\u001b[0m new best score!!!!\n",
      "\u001b[2m\u001b[36m(train_net pid=17266)\u001b[0m new best score!!!!\n",
      "\u001b[2m\u001b[36m(train_net pid=17354)\u001b[0m Learning rate adjusting counter: 1 out of 5\n",
      "\u001b[2m\u001b[36m(train_net pid=17311)\u001b[0m new best score!!!!\n",
      "\u001b[2m\u001b[36m(train_net pid=17188)\u001b[0m Learning rate adjusting counter: 1 out of 5\n",
      "\u001b[2m\u001b[36m(train_net pid=17266)\u001b[0m new best score!!!!\n",
      "\u001b[2m\u001b[36m(train_net pid=14024)\u001b[0m Learning rate adjusting counter: 1 out of 5\n"
     ]
    },
    {
     "name": "stderr",
     "output_type": "stream",
     "text": [
      "\u001b[2m\u001b[36m(train_net pid=17266)\u001b[0m Restored on 10.10.253.254 from checkpoint: /home/janis/PopulationBasedTraining/RayTuneResults/oppo/pbt/oppo_test_data_as_validation_perturbation_3_1/train_net_1dddc_00011_11_mixup_probability=1.0000,random_aug_first=True,random_augmentation_prob=0.0000_2023-08-16_19-05-35/checkpoint_tmp8ced9a\n",
      "\u001b[2m\u001b[36m(train_net pid=17266)\u001b[0m Current state after restoring: {'_iteration': 9, '_timesteps_total': None, '_time_total': 827.2742838859558, '_episodes_total': None}\n"
     ]
    },
    {
     "name": "stdout",
     "output_type": "stream",
     "text": [
      "\u001b[2m\u001b[36m(train_net pid=17266)\u001b[0m /tmp/ray/session_2023-08-16_19-05-30_904053_8929/runtime_resources/working_dir_files/_ray_pkg_f201ed243ee42fb4\n",
      "\u001b[2m\u001b[36m(train_net pid=17266)\u001b[0m Train data number :  47869\n",
      "\u001b[2m\u001b[36m(train_net pid=17266)\u001b[0m The number of classes is :  18\n",
      "\u001b[2m\u001b[36m(train_net pid=17266)\u001b[0m The input_length  is :  30\n",
      "\u001b[2m\u001b[36m(train_net pid=17266)\u001b[0m The channel_in is :  77\n",
      "\u001b[2m\u001b[36m(train_net pid=17266)\u001b[0m Validation data number :  2147\n",
      "\u001b[2m\u001b[36m(train_net pid=17266)\u001b[0m Build the DeepConvLSTM model!\n",
      "\u001b[2m\u001b[36m(train_net pid=17311)\u001b[0m Learning rate adjusting counter: 1 out of 5\n",
      "\u001b[2m\u001b[36m(train_net pid=14024)\u001b[0m new best score!!!!\n",
      "\u001b[2m\u001b[36m(train_net pid=14024)\u001b[0m /tmp/ray/session_2023-08-16_19-05-30_904053_8929/runtime_resources/working_dir_files/_ray_pkg_f201ed243ee42fb4\n",
      "\u001b[2m\u001b[36m(train_net pid=14024)\u001b[0m Train data number :  47869\n",
      "\u001b[2m\u001b[36m(train_net pid=14024)\u001b[0m The number of classes is :  18\n",
      "\u001b[2m\u001b[36m(train_net pid=14024)\u001b[0m The input_length  is :  30\n",
      "\u001b[2m\u001b[36m(train_net pid=14024)\u001b[0m The channel_in is :  77\n",
      "\u001b[2m\u001b[36m(train_net pid=14024)\u001b[0m Validation data number :  2147\n",
      "\u001b[2m\u001b[36m(train_net pid=14024)\u001b[0m Build the DeepConvLSTM model!\n"
     ]
    },
    {
     "name": "stderr",
     "output_type": "stream",
     "text": [
      "\u001b[2m\u001b[36m(train_net pid=14024)\u001b[0m Restored on 10.10.253.254 from checkpoint: /home/janis/PopulationBasedTraining/RayTuneResults/oppo/pbt/oppo_test_data_as_validation_perturbation_3_1/train_net_1dddc_00012_12_mixup_probability=0.9000,random_aug_first=True,random_augmentation_prob=0.5000_2023-08-16_19-05-35/checkpoint_tmpc553e7\n",
      "\u001b[2m\u001b[36m(train_net pid=14024)\u001b[0m Current state after restoring: {'_iteration': 9, '_timesteps_total': None, '_time_total': 973.1904938220978, '_episodes_total': None}\n"
     ]
    },
    {
     "name": "stdout",
     "output_type": "stream",
     "text": [
      "\u001b[2m\u001b[36m(train_net pid=17354)\u001b[0m new best score!!!!\n",
      "\u001b[2m\u001b[36m(train_net pid=17266)\u001b[0m Learning rate adjusting counter: 1 out of 5\n",
      "\u001b[2m\u001b[36m(train_net pid=17188)\u001b[0m new best score!!!!\n",
      "\u001b[2m\u001b[36m(train_net pid=14024)\u001b[0m new best score!!!!\n",
      "\u001b[2m\u001b[36m(train_net pid=17311)\u001b[0m new best score!!!!\n"
     ]
    },
    {
     "name": "stderr",
     "output_type": "stream",
     "text": [
      "\u001b[2m\u001b[36m(train_net pid=17311)\u001b[0m Restored on 10.10.253.254 from checkpoint: /home/janis/PopulationBasedTraining/RayTuneResults/oppo/pbt/oppo_test_data_as_validation_perturbation_3_1/train_net_1dddc_00013_13_mixup_probability=0.0000,random_aug_first=False,random_augmentation_prob=0.2000_2023-08-16_19-05-35/checkpoint_tmp231416\n",
      "\u001b[2m\u001b[36m(train_net pid=17311)\u001b[0m Current state after restoring: {'_iteration': 9, '_timesteps_total': None, '_time_total': 895.1564743518829, '_episodes_total': None}\n"
     ]
    },
    {
     "name": "stdout",
     "output_type": "stream",
     "text": [
      "\u001b[2m\u001b[36m(train_net pid=17311)\u001b[0m /tmp/ray/session_2023-08-16_19-05-30_904053_8929/runtime_resources/working_dir_files/_ray_pkg_f201ed243ee42fb4\n",
      "\u001b[2m\u001b[36m(train_net pid=17311)\u001b[0m Train data number :  47869\n",
      "\u001b[2m\u001b[36m(train_net pid=17311)\u001b[0m The number of classes is :  18\n",
      "\u001b[2m\u001b[36m(train_net pid=17311)\u001b[0m The input_length  is :  30\n",
      "\u001b[2m\u001b[36m(train_net pid=17311)\u001b[0m The channel_in is :  77\n",
      "\u001b[2m\u001b[36m(train_net pid=17311)\u001b[0m Validation data number :  2147\n",
      "\u001b[2m\u001b[36m(train_net pid=17311)\u001b[0m Build the DeepConvLSTM model!\n",
      "\u001b[2m\u001b[36m(train_net pid=17354)\u001b[0m new best score!!!!\n"
     ]
    },
    {
     "name": "stderr",
     "output_type": "stream",
     "text": [
      "\u001b[2m\u001b[36m(train_net pid=17354)\u001b[0m Restored on 10.10.253.254 from checkpoint: /home/janis/PopulationBasedTraining/RayTuneResults/oppo/pbt/oppo_test_data_as_validation_perturbation_3_1/train_net_1dddc_00014_14_mixup_probability=0.0000,random_aug_first=True,random_augmentation_prob=1.0000_2023-08-16_19-05-35/checkpoint_tmp853573\n",
      "\u001b[2m\u001b[36m(train_net pid=17354)\u001b[0m Current state after restoring: {'_iteration': 9, '_timesteps_total': None, '_time_total': 895.1564743518829, '_episodes_total': None}\n"
     ]
    },
    {
     "name": "stdout",
     "output_type": "stream",
     "text": [
      "\u001b[2m\u001b[36m(train_net pid=17354)\u001b[0m /tmp/ray/session_2023-08-16_19-05-30_904053_8929/runtime_resources/working_dir_files/_ray_pkg_f201ed243ee42fb4\n",
      "\u001b[2m\u001b[36m(train_net pid=17354)\u001b[0m Train data number :  47869\n",
      "\u001b[2m\u001b[36m(train_net pid=17354)\u001b[0m The number of classes is :  18\n",
      "\u001b[2m\u001b[36m(train_net pid=17354)\u001b[0m The input_length  is :  30\n",
      "\u001b[2m\u001b[36m(train_net pid=17354)\u001b[0m The channel_in is :  77\n",
      "\u001b[2m\u001b[36m(train_net pid=17354)\u001b[0m Validation data number :  2147\n",
      "\u001b[2m\u001b[36m(train_net pid=17354)\u001b[0m Build the DeepConvLSTM model!\n",
      "\u001b[2m\u001b[36m(train_net pid=17311)\u001b[0m new best score!!!!\n",
      "\u001b[2m\u001b[36m(train_net pid=17266)\u001b[0m new best score!!!!\n",
      "\u001b[2m\u001b[36m(train_net pid=14024)\u001b[0m Learning rate adjusting counter: 1 out of 5\n",
      "\u001b[2m\u001b[36m(train_net pid=17311)\u001b[0m Learning rate adjusting counter: 1 out of 5\n",
      "\u001b[2m\u001b[36m(train_net pid=17188)\u001b[0m new best score!!!!\n"
     ]
    },
    {
     "name": "stderr",
     "output_type": "stream",
     "text": [
      "\u001b[2m\u001b[36m(train_net pid=17188)\u001b[0m Restored on 10.10.253.254 from checkpoint: /home/janis/PopulationBasedTraining/RayTuneResults/oppo/pbt/oppo_test_data_as_validation_perturbation_3_1/train_net_1dddc_00015_15_mixup_probability=0.2000,random_aug_first=True,random_augmentation_prob=0.5000_2023-08-16_19-05-35/checkpoint_tmp94265b\n",
      "\u001b[2m\u001b[36m(train_net pid=17188)\u001b[0m Current state after restoring: {'_iteration': 9, '_timesteps_total': None, '_time_total': 947.7276425361633, '_episodes_total': None}\n"
     ]
    },
    {
     "name": "stdout",
     "output_type": "stream",
     "text": [
      "\u001b[2m\u001b[36m(train_net pid=17188)\u001b[0m /tmp/ray/session_2023-08-16_19-05-30_904053_8929/runtime_resources/working_dir_files/_ray_pkg_f201ed243ee42fb4\n",
      "\u001b[2m\u001b[36m(train_net pid=17188)\u001b[0m Train data number :  47869\n",
      "\u001b[2m\u001b[36m(train_net pid=17188)\u001b[0m The number of classes is :  18\n",
      "\u001b[2m\u001b[36m(train_net pid=17188)\u001b[0m The input_length  is :  30\n",
      "\u001b[2m\u001b[36m(train_net pid=17188)\u001b[0m The channel_in is :  77\n",
      "\u001b[2m\u001b[36m(train_net pid=17188)\u001b[0m Validation data number :  2147\n",
      "\u001b[2m\u001b[36m(train_net pid=17188)\u001b[0m Build the DeepConvLSTM model!\n",
      "\u001b[2m\u001b[36m(train_net pid=17311)\u001b[0m new best score!!!!\n",
      "\u001b[2m\u001b[36m(train_net pid=17354)\u001b[0m Learning rate adjusting counter: 1 out of 5\n",
      "\u001b[2m\u001b[36m(train_net pid=14024)\u001b[0m new best score!!!!\n",
      "\u001b[2m\u001b[36m(train_net pid=17266)\u001b[0m new best score!!!!\n",
      "\u001b[2m\u001b[36m(train_net pid=17354)\u001b[0m new best score!!!!\n",
      "\u001b[2m\u001b[36m(train_net pid=17188)\u001b[0m new best score!!!!\n",
      "\u001b[2m\u001b[36m(train_net pid=17354)\u001b[0m Learning rate adjusting counter: 1 out of 5\n",
      "\u001b[2m\u001b[36m(train_net pid=17188)\u001b[0m new best score!!!!\n"
     ]
    },
    {
     "name": "stderr",
     "output_type": "stream",
     "text": [
      "2023-08-16 20:26:46,343\tINFO pbt.py:809 -- \n",
      "\n",
      "[PopulationBasedTraining] [Exploit] Cloning trial 1dddc_00004 (score = 0.890079) into trial 1dddc_00005 (score = 0.871914)\n",
      "\n",
      "2023-08-16 20:26:46,343\tINFO pbt.py:836 -- \n",
      "\n",
      "[PopulationBasedTraining] [Explore] Perturbed the hyperparameter config of trial1dddc_00005:\n",
      "random_augmentation_prob : 0.6000000000000001 --- (resample) --> 0.1\n",
      "mixup_probability : 1.0 --- (shift right (noop)) --> 1.0\n",
      "\n",
      "2023-08-16 20:26:46,454\tINFO pbt.py:809 -- \n",
      "\n",
      "[PopulationBasedTraining] [Exploit] Cloning trial 1dddc_00007 (score = 0.888216) into trial 1dddc_00015 (score = 0.876572)\n",
      "\n",
      "2023-08-16 20:26:46,454\tINFO pbt.py:836 -- \n",
      "\n",
      "[PopulationBasedTraining] [Explore] Perturbed the hyperparameter config of trial1dddc_00015:\n",
      "random_augmentation_prob : 0.30000000000000004 --- (shift left) --> 0.2\n",
      "mixup_probability : 0.5 --- (shift left) --> 0.4\n",
      "\n"
     ]
    },
    {
     "name": "stdout",
     "output_type": "stream",
     "text": [
      "\u001b[2m\u001b[36m(train_net pid=17188)\u001b[0m new best score!!!!\n"
     ]
    },
    {
     "name": "stderr",
     "output_type": "stream",
     "text": [
      "2023-08-16 20:26:46,677\tINFO pbt.py:809 -- \n",
      "\n",
      "[PopulationBasedTraining] [Exploit] Cloning trial 1dddc_00000 (score = 0.889613) into trial 1dddc_00006 (score = 0.877038)\n",
      "\n",
      "2023-08-16 20:26:46,678\tINFO pbt.py:836 -- \n",
      "\n",
      "[PopulationBasedTraining] [Explore] Perturbed the hyperparameter config of trial1dddc_00006:\n",
      "random_augmentation_prob : 0.5 --- (shift right) --> 0.6000000000000001\n",
      "mixup_probability : 0.1 --- (shift left) --> 0.0\n",
      "\n",
      "2023-08-16 20:26:46,785\tINFO pbt.py:809 -- \n",
      "\n",
      "[PopulationBasedTraining] [Exploit] Cloning trial 1dddc_00000 (score = 0.889613) into trial 1dddc_00011 (score = 0.880298)\n",
      "\n",
      "2023-08-16 20:26:46,786\tINFO pbt.py:836 -- \n",
      "\n",
      "[PopulationBasedTraining] [Explore] Perturbed the hyperparameter config of trial1dddc_00011:\n",
      "random_augmentation_prob : 0.5 --- (shift right) --> 0.6000000000000001\n",
      "mixup_probability : 0.1 --- (shift right) --> 0.2\n",
      "\n",
      "2023-08-16 20:26:46,892\tWARNING util.py:315 -- The `scheduler.on_trial_result` operation took 0.549 s, which may be a performance bottleneck.\n",
      "2023-08-16 20:26:46,893\tWARNING util.py:315 -- The `process_trial_result` operation took 0.550 s, which may be a performance bottleneck.\n",
      "2023-08-16 20:26:46,893\tWARNING util.py:315 -- Processing trial results took 0.550 s, which may be a performance bottleneck. Please consider reporting results less frequently to Ray Tune.\n",
      "2023-08-16 20:26:46,893\tWARNING util.py:315 -- The `process_trial_result` operation took 0.551 s, which may be a performance bottleneck.\n",
      "\u001b[2m\u001b[36m(train_net pid=19558)\u001b[0m Restored on 10.10.253.254 from checkpoint: /home/janis/PopulationBasedTraining/RayTuneResults/oppo/pbt/oppo_test_data_as_validation_perturbation_3_1/train_net_1dddc_00000_0_mixup_probability=0.1000,random_aug_first=False,random_augmentation_prob=0.8000_2023-08-16_19-05-35/checkpoint_tmpce34b4\n",
      "\u001b[2m\u001b[36m(train_net pid=19558)\u001b[0m Current state after restoring: {'_iteration': 12, '_timesteps_total': None, '_time_total': 1197.0483951568604, '_episodes_total': None}\n"
     ]
    },
    {
     "name": "stdout",
     "output_type": "stream",
     "text": [
      "\u001b[2m\u001b[36m(train_net pid=19558)\u001b[0m /tmp/ray/session_2023-08-16_19-05-30_904053_8929/runtime_resources/working_dir_files/_ray_pkg_f201ed243ee42fb4\n",
      "\u001b[2m\u001b[36m(train_net pid=19558)\u001b[0m Train data number :  47869\n",
      "\u001b[2m\u001b[36m(train_net pid=19558)\u001b[0m The number of classes is :  18\n",
      "\u001b[2m\u001b[36m(train_net pid=19558)\u001b[0m The input_length  is :  30\n",
      "\u001b[2m\u001b[36m(train_net pid=19558)\u001b[0m The channel_in is :  77\n",
      "\u001b[2m\u001b[36m(train_net pid=19558)\u001b[0m Validation data number :  2147\n",
      "\u001b[2m\u001b[36m(train_net pid=19558)\u001b[0m Build the DeepConvLSTM model!\n"
     ]
    },
    {
     "name": "stderr",
     "output_type": "stream",
     "text": [
      "\u001b[2m\u001b[36m(train_net pid=19598)\u001b[0m Restored on 10.10.253.254 from checkpoint: /home/janis/PopulationBasedTraining/RayTuneResults/oppo/pbt/oppo_test_data_as_validation_perturbation_3_1/train_net_1dddc_00001_1_mixup_probability=0.7000,random_aug_first=False,random_augmentation_prob=0.5000_2023-08-16_19-05-35/checkpoint_tmpcc2765\n",
      "\u001b[2m\u001b[36m(train_net pid=19598)\u001b[0m Current state after restoring: {'_iteration': 12, '_timesteps_total': None, '_time_total': 1312.9827551841736, '_episodes_total': None}\n"
     ]
    },
    {
     "name": "stdout",
     "output_type": "stream",
     "text": [
      "\u001b[2m\u001b[36m(train_net pid=19685)\u001b[0m /tmp/ray/session_2023-08-16_19-05-30_904053_8929/runtime_resources/working_dir_files/_ray_pkg_f201ed243ee42fb4\u001b[32m [repeated 3x across cluster]\u001b[0m\n",
      "\u001b[2m\u001b[36m(train_net pid=19685)\u001b[0m Train data number :  47869\u001b[32m [repeated 3x across cluster]\u001b[0m\n",
      "\u001b[2m\u001b[36m(train_net pid=19685)\u001b[0m The number of classes is :  18\u001b[32m [repeated 3x across cluster]\u001b[0m\n",
      "\u001b[2m\u001b[36m(train_net pid=19685)\u001b[0m The input_length  is :  30\u001b[32m [repeated 3x across cluster]\u001b[0m\n",
      "\u001b[2m\u001b[36m(train_net pid=19685)\u001b[0m The channel_in is :  77\u001b[32m [repeated 3x across cluster]\u001b[0m\n",
      "\u001b[2m\u001b[36m(train_net pid=19685)\u001b[0m Validation data number :  2147\u001b[32m [repeated 3x across cluster]\u001b[0m\n",
      "\u001b[2m\u001b[36m(train_net pid=19685)\u001b[0m Build the DeepConvLSTM model!\u001b[32m [repeated 3x across cluster]\u001b[0m\n"
     ]
    },
    {
     "name": "stderr",
     "output_type": "stream",
     "text": [
      "\u001b[2m\u001b[36m(train_net pid=19730)\u001b[0m Restored on 10.10.253.254 from checkpoint: /home/janis/PopulationBasedTraining/RayTuneResults/oppo/pbt/oppo_test_data_as_validation_perturbation_3_1/train_net_1dddc_00004_4_mixup_probability=1.0000,random_aug_first=True,random_augmentation_prob=0.6000_2023-08-16_19-05-35/checkpoint_tmpffbbb0\u001b[32m [repeated 3x across cluster]\u001b[0m\n",
      "\u001b[2m\u001b[36m(train_net pid=19730)\u001b[0m Current state after restoring: {'_iteration': 12, '_timesteps_total': None, '_time_total': 1070.7959280014038, '_episodes_total': None}\u001b[32m [repeated 3x across cluster]\u001b[0m\n"
     ]
    },
    {
     "name": "stdout",
     "output_type": "stream",
     "text": [
      "\u001b[2m\u001b[36m(train_net pid=19641)\u001b[0m new best score!!!!\n",
      "\u001b[2m\u001b[36m(train_net pid=19730)\u001b[0m /tmp/ray/session_2023-08-16_19-05-30_904053_8929/runtime_resources/working_dir_files/_ray_pkg_f201ed243ee42fb4\n",
      "\u001b[2m\u001b[36m(train_net pid=19730)\u001b[0m Train data number :  47869\n",
      "\u001b[2m\u001b[36m(train_net pid=19730)\u001b[0m The number of classes is :  18\n",
      "\u001b[2m\u001b[36m(train_net pid=19730)\u001b[0m The input_length  is :  30\n",
      "\u001b[2m\u001b[36m(train_net pid=19730)\u001b[0m The channel_in is :  77\n",
      "\u001b[2m\u001b[36m(train_net pid=19730)\u001b[0m Validation data number :  2147\n",
      "\u001b[2m\u001b[36m(train_net pid=19730)\u001b[0m Build the DeepConvLSTM model!\n",
      "\u001b[2m\u001b[36m(train_net pid=19730)\u001b[0m Learning rate adjusting counter: 1 out of 5\n",
      "\u001b[2m\u001b[36m(train_net pid=19558)\u001b[0m new best score!!!!\n",
      "\u001b[2m\u001b[36m(train_net pid=19598)\u001b[0m Learning rate adjusting counter: 3 out of 5\n",
      "\u001b[2m\u001b[36m(train_net pid=19685)\u001b[0m new best score!!!!\n",
      "\u001b[2m\u001b[36m(train_net pid=19641)\u001b[0m Learning rate adjusting counter: 1 out of 5\n",
      "\u001b[2m\u001b[36m(train_net pid=19730)\u001b[0m new best score!!!!\n",
      "\u001b[2m\u001b[36m(train_net pid=19641)\u001b[0m new best score!!!!\n"
     ]
    },
    {
     "name": "stderr",
     "output_type": "stream",
     "text": [
      "\u001b[2m\u001b[36m(train_net pid=19641)\u001b[0m Restored on 10.10.253.254 from checkpoint: /home/janis/PopulationBasedTraining/RayTuneResults/oppo/pbt/oppo_test_data_as_validation_perturbation_3_1/train_net_1dddc_00005_5_mixup_probability=0.8000,random_aug_first=True,random_augmentation_prob=0.5000_2023-08-16_19-05-35/checkpoint_tmp2f2052\n",
      "\u001b[2m\u001b[36m(train_net pid=19641)\u001b[0m Current state after restoring: {'_iteration': 12, '_timesteps_total': None, '_time_total': 1070.7959280014038, '_episodes_total': None}\n"
     ]
    },
    {
     "name": "stdout",
     "output_type": "stream",
     "text": [
      "\u001b[2m\u001b[36m(train_net pid=19641)\u001b[0m /tmp/ray/session_2023-08-16_19-05-30_904053_8929/runtime_resources/working_dir_files/_ray_pkg_f201ed243ee42fb4\n",
      "\u001b[2m\u001b[36m(train_net pid=19641)\u001b[0m Train data number :  47869\n",
      "\u001b[2m\u001b[36m(train_net pid=19641)\u001b[0m The number of classes is :  18\n",
      "\u001b[2m\u001b[36m(train_net pid=19641)\u001b[0m The input_length  is :  30\n",
      "\u001b[2m\u001b[36m(train_net pid=19641)\u001b[0m The channel_in is :  77\n",
      "\u001b[2m\u001b[36m(train_net pid=19641)\u001b[0m Validation data number :  2147\n",
      "\u001b[2m\u001b[36m(train_net pid=19641)\u001b[0m Build the DeepConvLSTM model!\n",
      "\u001b[2m\u001b[36m(train_net pid=19558)\u001b[0m new best score!!!!\n",
      "\u001b[2m\u001b[36m(train_net pid=19598)\u001b[0m new best score!!!!\n",
      "\u001b[2m\u001b[36m(train_net pid=19685)\u001b[0m Learning rate adjusting counter: 1 out of 5\n",
      "\u001b[2m\u001b[36m(train_net pid=19730)\u001b[0m Learning rate adjusting counter: 1 out of 5\n"
     ]
    },
    {
     "name": "stderr",
     "output_type": "stream",
     "text": [
      "\u001b[2m\u001b[36m(train_net pid=19730)\u001b[0m Restored on 10.10.253.254 from checkpoint: /home/janis/PopulationBasedTraining/RayTuneResults/oppo/pbt/oppo_test_data_as_validation_perturbation_3_1/train_net_1dddc_00006_6_mixup_probability=0.7000,random_aug_first=True,random_augmentation_prob=1.0000_2023-08-16_19-05-35/checkpoint_tmpb4e1b0\n",
      "\u001b[2m\u001b[36m(train_net pid=19730)\u001b[0m Current state after restoring: {'_iteration': 12, '_timesteps_total': None, '_time_total': 1197.0483951568604, '_episodes_total': None}\n"
     ]
    },
    {
     "name": "stdout",
     "output_type": "stream",
     "text": [
      "\u001b[2m\u001b[36m(train_net pid=19730)\u001b[0m /tmp/ray/session_2023-08-16_19-05-30_904053_8929/runtime_resources/working_dir_files/_ray_pkg_f201ed243ee42fb4\n",
      "\u001b[2m\u001b[36m(train_net pid=19730)\u001b[0m Train data number :  47869\n",
      "\u001b[2m\u001b[36m(train_net pid=19730)\u001b[0m The number of classes is :  18\n",
      "\u001b[2m\u001b[36m(train_net pid=19730)\u001b[0m The input_length  is :  30\n",
      "\u001b[2m\u001b[36m(train_net pid=19730)\u001b[0m The channel_in is :  77\n",
      "\u001b[2m\u001b[36m(train_net pid=19730)\u001b[0m Validation data number :  2147\n",
      "\u001b[2m\u001b[36m(train_net pid=19730)\u001b[0m Build the DeepConvLSTM model!\n",
      "\u001b[2m\u001b[36m(train_net pid=19558)\u001b[0m Learning rate adjusting counter: 1 out of 5\n"
     ]
    },
    {
     "name": "stderr",
     "output_type": "stream",
     "text": [
      "\u001b[2m\u001b[36m(train_net pid=19558)\u001b[0m Restored on 10.10.253.254 from checkpoint: /home/janis/PopulationBasedTraining/RayTuneResults/oppo/pbt/oppo_test_data_as_validation_perturbation_3_1/train_net_1dddc_00007_7_mixup_probability=0.3000,random_aug_first=False,random_augmentation_prob=0.1000_2023-08-16_19-05-35/checkpoint_tmpdfdc74\n",
      "\u001b[2m\u001b[36m(train_net pid=19558)\u001b[0m Current state after restoring: {'_iteration': 12, '_timesteps_total': None, '_time_total': 1994.926472902298, '_episodes_total': None}\n"
     ]
    },
    {
     "name": "stdout",
     "output_type": "stream",
     "text": [
      "\u001b[2m\u001b[36m(train_net pid=19558)\u001b[0m /tmp/ray/session_2023-08-16_19-05-30_904053_8929/runtime_resources/working_dir_files/_ray_pkg_f201ed243ee42fb4\n",
      "\u001b[2m\u001b[36m(train_net pid=19558)\u001b[0m Train data number :  47869\n",
      "\u001b[2m\u001b[36m(train_net pid=19558)\u001b[0m The number of classes is :  18\n",
      "\u001b[2m\u001b[36m(train_net pid=19558)\u001b[0m The input_length  is :  30\n",
      "\u001b[2m\u001b[36m(train_net pid=19558)\u001b[0m The channel_in is :  77\n",
      "\u001b[2m\u001b[36m(train_net pid=19558)\u001b[0m Validation data number :  2147\n",
      "\u001b[2m\u001b[36m(train_net pid=19558)\u001b[0m Build the DeepConvLSTM model!\n",
      "\u001b[2m\u001b[36m(train_net pid=19685)\u001b[0m Learning rate adjusting counter: 2 out of 5\n"
     ]
    },
    {
     "name": "stderr",
     "output_type": "stream",
     "text": [
      "\u001b[2m\u001b[36m(train_net pid=19685)\u001b[0m Restored on 10.10.253.254 from checkpoint: /home/janis/PopulationBasedTraining/RayTuneResults/oppo/pbt/oppo_test_data_as_validation_perturbation_3_1/train_net_1dddc_00008_8_mixup_probability=0.3000,random_aug_first=True,random_augmentation_prob=0.2000_2023-08-16_19-05-35/checkpoint_tmp6f2338\n",
      "\u001b[2m\u001b[36m(train_net pid=19685)\u001b[0m Current state after restoring: {'_iteration': 12, '_timesteps_total': None, '_time_total': 1164.054884672165, '_episodes_total': None}\n"
     ]
    },
    {
     "name": "stdout",
     "output_type": "stream",
     "text": [
      "\u001b[2m\u001b[36m(train_net pid=19685)\u001b[0m /tmp/ray/session_2023-08-16_19-05-30_904053_8929/runtime_resources/working_dir_files/_ray_pkg_f201ed243ee42fb4\n",
      "\u001b[2m\u001b[36m(train_net pid=19685)\u001b[0m Train data number :  47869\n",
      "\u001b[2m\u001b[36m(train_net pid=19685)\u001b[0m The number of classes is :  18\n",
      "\u001b[2m\u001b[36m(train_net pid=19685)\u001b[0m The input_length  is :  30\n",
      "\u001b[2m\u001b[36m(train_net pid=19685)\u001b[0m The channel_in is :  77\n",
      "\u001b[2m\u001b[36m(train_net pid=19685)\u001b[0m Validation data number :  2147\n",
      "\u001b[2m\u001b[36m(train_net pid=19685)\u001b[0m Build the DeepConvLSTM model!\n",
      "\u001b[2m\u001b[36m(train_net pid=19598)\u001b[0m Learning rate adjusting counter: 1 out of 5\n",
      "\u001b[2m\u001b[36m(train_net pid=19598)\u001b[0m /tmp/ray/session_2023-08-16_19-05-30_904053_8929/runtime_resources/working_dir_files/_ray_pkg_f201ed243ee42fb4\n",
      "\u001b[2m\u001b[36m(train_net pid=19598)\u001b[0m Train data number :  47869\n",
      "\u001b[2m\u001b[36m(train_net pid=19598)\u001b[0m The number of classes is :  18\n",
      "\u001b[2m\u001b[36m(train_net pid=19598)\u001b[0m The input_length  is :  30\n",
      "\u001b[2m\u001b[36m(train_net pid=19598)\u001b[0m The channel_in is :  77\n",
      "\u001b[2m\u001b[36m(train_net pid=19598)\u001b[0m Validation data number :  2147\n",
      "\u001b[2m\u001b[36m(train_net pid=19598)\u001b[0m Build the DeepConvLSTM model!\n",
      "\u001b[2m\u001b[36m(train_net pid=19730)\u001b[0m Learning rate adjusting counter: 1 out of 5\n",
      "\u001b[2m\u001b[36m(train_net pid=19641)\u001b[0m Learning rate adjusting counter: 1 out of 5\n",
      "\u001b[2m\u001b[36m(train_net pid=19685)\u001b[0m new best score!!!!\n",
      "\u001b[2m\u001b[36m(train_net pid=19730)\u001b[0m new best score!!!!\n",
      "\u001b[2m\u001b[36m(train_net pid=19558)\u001b[0m new best score!!!!\n",
      "\u001b[2m\u001b[36m(train_net pid=19598)\u001b[0m new best score!!!!\n",
      "\u001b[2m\u001b[36m(train_net pid=19685)\u001b[0m new best score!!!!\n",
      "\u001b[2m\u001b[36m(train_net pid=19730)\u001b[0m new best score!!!!\n"
     ]
    },
    {
     "name": "stderr",
     "output_type": "stream",
     "text": [
      "\u001b[2m\u001b[36m(train_net pid=19730)\u001b[0m Restored on 10.10.253.254 from checkpoint: /home/janis/PopulationBasedTraining/RayTuneResults/oppo/pbt/oppo_test_data_as_validation_perturbation_3_1/train_net_1dddc_00010_10_mixup_probability=0.2000,random_aug_first=False,random_augmentation_prob=0.4000_2023-08-16_19-05-35/checkpoint_tmpaa0cdf\u001b[32m [repeated 2x across cluster]\u001b[0m\n",
      "\u001b[2m\u001b[36m(train_net pid=19730)\u001b[0m Current state after restoring: {'_iteration': 12, '_timesteps_total': None, '_time_total': 1442.2355632781982, '_episodes_total': None}\u001b[32m [repeated 2x across cluster]\u001b[0m\n"
     ]
    },
    {
     "name": "stdout",
     "output_type": "stream",
     "text": [
      "\u001b[2m\u001b[36m(train_net pid=19730)\u001b[0m /tmp/ray/session_2023-08-16_19-05-30_904053_8929/runtime_resources/working_dir_files/_ray_pkg_f201ed243ee42fb4\n",
      "\u001b[2m\u001b[36m(train_net pid=19730)\u001b[0m Train data number :  47869\n",
      "\u001b[2m\u001b[36m(train_net pid=19730)\u001b[0m The number of classes is :  18\n",
      "\u001b[2m\u001b[36m(train_net pid=19730)\u001b[0m The input_length  is :  30\n",
      "\u001b[2m\u001b[36m(train_net pid=19730)\u001b[0m The channel_in is :  77\n",
      "\u001b[2m\u001b[36m(train_net pid=19730)\u001b[0m Validation data number :  2147\n",
      "\u001b[2m\u001b[36m(train_net pid=19730)\u001b[0m Build the DeepConvLSTM model!\n",
      "\u001b[2m\u001b[36m(train_net pid=19641)\u001b[0m new best score!!!!\n",
      "\u001b[2m\u001b[36m(train_net pid=19685)\u001b[0m new best score!!!!\n"
     ]
    },
    {
     "name": "stderr",
     "output_type": "stream",
     "text": [
      "\u001b[2m\u001b[36m(train_net pid=19685)\u001b[0m Restored on 10.10.253.254 from checkpoint: /home/janis/PopulationBasedTraining/RayTuneResults/oppo/pbt/oppo_test_data_as_validation_perturbation_3_1/train_net_1dddc_00011_11_mixup_probability=1.0000,random_aug_first=True,random_augmentation_prob=0.0000_2023-08-16_19-05-35/checkpoint_tmpfd3955\n",
      "\u001b[2m\u001b[36m(train_net pid=19685)\u001b[0m Current state after restoring: {'_iteration': 12, '_timesteps_total': None, '_time_total': 1197.0483951568604, '_episodes_total': None}\n"
     ]
    },
    {
     "name": "stdout",
     "output_type": "stream",
     "text": [
      "\u001b[2m\u001b[36m(train_net pid=19685)\u001b[0m /tmp/ray/session_2023-08-16_19-05-30_904053_8929/runtime_resources/working_dir_files/_ray_pkg_f201ed243ee42fb4\n",
      "\u001b[2m\u001b[36m(train_net pid=19685)\u001b[0m Train data number :  47869\n",
      "\u001b[2m\u001b[36m(train_net pid=19685)\u001b[0m The number of classes is :  18\n",
      "\u001b[2m\u001b[36m(train_net pid=19685)\u001b[0m The input_length  is :  30\n",
      "\u001b[2m\u001b[36m(train_net pid=19685)\u001b[0m The channel_in is :  77\n",
      "\u001b[2m\u001b[36m(train_net pid=19685)\u001b[0m Validation data number :  2147\n",
      "\u001b[2m\u001b[36m(train_net pid=19685)\u001b[0m Build the DeepConvLSTM model!\n",
      "\u001b[2m\u001b[36m(train_net pid=19558)\u001b[0m new best score!!!!\n",
      "\u001b[2m\u001b[36m(train_net pid=19730)\u001b[0m Learning rate adjusting counter: 1 out of 5\n",
      "\u001b[2m\u001b[36m(train_net pid=19598)\u001b[0m Learning rate adjusting counter: 1 out of 5\n",
      "\u001b[2m\u001b[36m(train_net pid=19685)\u001b[0m Learning rate adjusting counter: 1 out of 5\n",
      "\u001b[2m\u001b[36m(train_net pid=19641)\u001b[0m new best score!!!!\n"
     ]
    },
    {
     "name": "stderr",
     "output_type": "stream",
     "text": [
      "\u001b[2m\u001b[36m(train_net pid=19641)\u001b[0m Restored on 10.10.253.254 from checkpoint: /home/janis/PopulationBasedTraining/RayTuneResults/oppo/pbt/oppo_test_data_as_validation_perturbation_3_1/train_net_1dddc_00012_12_mixup_probability=0.9000,random_aug_first=True,random_augmentation_prob=0.5000_2023-08-16_19-05-35/checkpoint_tmp645f90\n",
      "\u001b[2m\u001b[36m(train_net pid=19641)\u001b[0m Current state after restoring: {'_iteration': 12, '_timesteps_total': None, '_time_total': 1301.4110386371613, '_episodes_total': None}\n"
     ]
    },
    {
     "name": "stdout",
     "output_type": "stream",
     "text": [
      "\u001b[2m\u001b[36m(train_net pid=19641)\u001b[0m /tmp/ray/session_2023-08-16_19-05-30_904053_8929/runtime_resources/working_dir_files/_ray_pkg_f201ed243ee42fb4\n",
      "\u001b[2m\u001b[36m(train_net pid=19641)\u001b[0m Train data number :  47869\n",
      "\u001b[2m\u001b[36m(train_net pid=19641)\u001b[0m The number of classes is :  18\n",
      "\u001b[2m\u001b[36m(train_net pid=19641)\u001b[0m The input_length  is :  30\n",
      "\u001b[2m\u001b[36m(train_net pid=19641)\u001b[0m The channel_in is :  77\n",
      "\u001b[2m\u001b[36m(train_net pid=19641)\u001b[0m Validation data number :  2147\n",
      "\u001b[2m\u001b[36m(train_net pid=19641)\u001b[0m Build the DeepConvLSTM model!\n",
      "\u001b[2m\u001b[36m(train_net pid=19558)\u001b[0m Learning rate adjusting counter: 1 out of 5\n",
      "\u001b[2m\u001b[36m(train_net pid=19685)\u001b[0m new best score!!!!\n",
      "\u001b[2m\u001b[36m(train_net pid=19558)\u001b[0m /tmp/ray/session_2023-08-16_19-05-30_904053_8929/runtime_resources/working_dir_files/_ray_pkg_f201ed243ee42fb4\n",
      "\u001b[2m\u001b[36m(train_net pid=19558)\u001b[0m Train data number :  47869\n",
      "\u001b[2m\u001b[36m(train_net pid=19558)\u001b[0m The number of classes is :  18\n",
      "\u001b[2m\u001b[36m(train_net pid=19558)\u001b[0m The input_length  is :  30\n",
      "\u001b[2m\u001b[36m(train_net pid=19558)\u001b[0m The channel_in is :  77\n",
      "\u001b[2m\u001b[36m(train_net pid=19558)\u001b[0m Validation data number :  2147\n",
      "\u001b[2m\u001b[36m(train_net pid=19558)\u001b[0m Build the DeepConvLSTM model!\n",
      "\u001b[2m\u001b[36m(train_net pid=19730)\u001b[0m new best score!!!!\n",
      "\u001b[2m\u001b[36m(train_net pid=19558)\u001b[0m new best score!!!!\n",
      "\u001b[2m\u001b[36m(train_net pid=19598)\u001b[0m new best score!!!!\n"
     ]
    },
    {
     "name": "stderr",
     "output_type": "stream",
     "text": [
      "\u001b[2m\u001b[36m(train_net pid=19598)\u001b[0m Restored on 10.10.253.254 from checkpoint: /home/janis/PopulationBasedTraining/RayTuneResults/oppo/pbt/oppo_test_data_as_validation_perturbation_3_1/train_net_1dddc_00014_14_mixup_probability=0.0000,random_aug_first=True,random_augmentation_prob=1.0000_2023-08-16_19-05-35/checkpoint_tmp7e7433\u001b[32m [repeated 2x across cluster]\u001b[0m\n",
      "\u001b[2m\u001b[36m(train_net pid=19558)\u001b[0m Current state after restoring: {'_iteration': 12, '_timesteps_total': None, '_time_total': 1042.3131504058838, '_episodes_total': None}\n",
      "\u001b[2m\u001b[36m(train_net pid=19598)\u001b[0m Current state after restoring: {'_iteration': 12, '_timesteps_total': None, '_time_total': 1205.9170343875885, '_episodes_total': None}\n"
     ]
    },
    {
     "name": "stdout",
     "output_type": "stream",
     "text": [
      "\u001b[2m\u001b[36m(train_net pid=19598)\u001b[0m /tmp/ray/session_2023-08-16_19-05-30_904053_8929/runtime_resources/working_dir_files/_ray_pkg_f201ed243ee42fb4\n",
      "\u001b[2m\u001b[36m(train_net pid=19598)\u001b[0m Train data number :  47869\n",
      "\u001b[2m\u001b[36m(train_net pid=19598)\u001b[0m The number of classes is :  18\n",
      "\u001b[2m\u001b[36m(train_net pid=19598)\u001b[0m The input_length  is :  30\n",
      "\u001b[2m\u001b[36m(train_net pid=19598)\u001b[0m The channel_in is :  77\n",
      "\u001b[2m\u001b[36m(train_net pid=19598)\u001b[0m Validation data number :  2147\n",
      "\u001b[2m\u001b[36m(train_net pid=19598)\u001b[0m Build the DeepConvLSTM model!\n",
      "\u001b[2m\u001b[36m(train_net pid=19558)\u001b[0m new best score!!!!\n",
      "\u001b[2m\u001b[36m(train_net pid=19685)\u001b[0m Learning rate adjusting counter: 1 out of 5\n"
     ]
    },
    {
     "name": "stderr",
     "output_type": "stream",
     "text": [
      "\u001b[2m\u001b[36m(train_net pid=19685)\u001b[0m Restored on 10.10.253.254 from checkpoint: /home/janis/PopulationBasedTraining/RayTuneResults/oppo/pbt/oppo_test_data_as_validation_perturbation_3_1/train_net_1dddc_00015_15_mixup_probability=0.2000,random_aug_first=True,random_augmentation_prob=0.5000_2023-08-16_19-05-35/checkpoint_tmpa3850d\n",
      "\u001b[2m\u001b[36m(train_net pid=19685)\u001b[0m Current state after restoring: {'_iteration': 12, '_timesteps_total': None, '_time_total': 1994.926472902298, '_episodes_total': None}\n"
     ]
    },
    {
     "name": "stdout",
     "output_type": "stream",
     "text": [
      "\u001b[2m\u001b[36m(train_net pid=19685)\u001b[0m /tmp/ray/session_2023-08-16_19-05-30_904053_8929/runtime_resources/working_dir_files/_ray_pkg_f201ed243ee42fb4\n",
      "\u001b[2m\u001b[36m(train_net pid=19685)\u001b[0m Train data number :  47869\n",
      "\u001b[2m\u001b[36m(train_net pid=19685)\u001b[0m The number of classes is :  18\n",
      "\u001b[2m\u001b[36m(train_net pid=19685)\u001b[0m The input_length  is :  30\n",
      "\u001b[2m\u001b[36m(train_net pid=19685)\u001b[0m The channel_in is :  77\n",
      "\u001b[2m\u001b[36m(train_net pid=19685)\u001b[0m Validation data number :  2147\n",
      "\u001b[2m\u001b[36m(train_net pid=19685)\u001b[0m Build the DeepConvLSTM model!\n",
      "\u001b[2m\u001b[36m(train_net pid=19641)\u001b[0m new best score!!!!\n",
      "\u001b[2m\u001b[36m(train_net pid=19558)\u001b[0m new best score!!!!\n",
      "\u001b[2m\u001b[36m(train_net pid=19730)\u001b[0m new best score!!!!\n",
      "\u001b[2m\u001b[36m(train_net pid=19598)\u001b[0m new best score!!!!\n",
      "\u001b[2m\u001b[36m(train_net pid=19641)\u001b[0m new best score!!!!\n",
      "\u001b[2m\u001b[36m(train_net pid=19685)\u001b[0m new best score!!!!\n",
      "\u001b[2m\u001b[36m(train_net pid=19598)\u001b[0m Learning rate adjusting counter: 1 out of 5\n",
      "\u001b[2m\u001b[36m(train_net pid=19641)\u001b[0m new best score!!!!\n",
      "\u001b[2m\u001b[36m(train_net pid=19598)\u001b[0m Learning rate adjusting counter: 2 out of 5\n",
      "\u001b[2m\u001b[36m(train_net pid=19685)\u001b[0m new best score!!!!\n"
     ]
    },
    {
     "name": "stderr",
     "output_type": "stream",
     "text": [
      "2023-08-16 20:49:22,982\tINFO pbt.py:809 -- \n",
      "\n",
      "[PopulationBasedTraining] [Exploit] Cloning trial 1dddc_00005 (score = 0.895203) into trial 1dddc_00001 (score = 0.878901)\n",
      "\n",
      "2023-08-16 20:49:22,983\tINFO pbt.py:836 -- \n",
      "\n",
      "[PopulationBasedTraining] [Explore] Perturbed the hyperparameter config of trial1dddc_00001:\n",
      "random_augmentation_prob : 0.1 --- (shift left) --> 0.0\n",
      "mixup_probability : 1.0 --- (shift left) --> 0.9\n",
      "\n",
      "2023-08-16 20:49:23,093\tINFO pbt.py:809 -- \n",
      "\n",
      "[PopulationBasedTraining] [Exploit] Cloning trial 1dddc_00012 (score = 0.891476) into trial 1dddc_00010 (score = 0.879832)\n",
      "\n",
      "2023-08-16 20:49:23,093\tINFO pbt.py:836 -- \n",
      "\n",
      "[PopulationBasedTraining] [Explore] Perturbed the hyperparameter config of trial1dddc_00010:\n",
      "random_augmentation_prob : 0.5 --- (shift right) --> 0.6000000000000001\n",
      "mixup_probability : 0.9 --- (shift left) --> 0.8\n",
      "\n",
      "2023-08-16 20:49:23,204\tINFO pbt.py:809 -- \n",
      "\n",
      "[PopulationBasedTraining] [Exploit] Cloning trial 1dddc_00005 (score = 0.895203) into trial 1dddc_00003 (score = 0.882627)\n",
      "\n",
      "2023-08-16 20:49:23,205\tINFO pbt.py:836 -- \n",
      "\n",
      "[PopulationBasedTraining] [Explore] Perturbed the hyperparameter config of trial1dddc_00003:\n",
      "random_augmentation_prob : 0.1 --- (shift left) --> 0.0\n",
      "mixup_probability : 1.0 --- (shift left) --> 0.9\n",
      "\n"
     ]
    },
    {
     "name": "stdout",
     "output_type": "stream",
     "text": [
      "\u001b[2m\u001b[36m(train_net pid=19685)\u001b[0m new best score!!!!\n"
     ]
    },
    {
     "name": "stderr",
     "output_type": "stream",
     "text": [
      "2023-08-16 20:49:23,311\tINFO pbt.py:809 -- \n",
      "\n",
      "[PopulationBasedTraining] [Exploit] Cloning trial 1dddc_00009 (score = 0.894737) into trial 1dddc_00008 (score = 0.882627)\n",
      "\n",
      "2023-08-16 20:49:23,311\tINFO pbt.py:836 -- \n",
      "\n",
      "[PopulationBasedTraining] [Explore] Perturbed the hyperparameter config of trial1dddc_00008:\n",
      "random_augmentation_prob : 0.2 --- (shift right) --> 0.30000000000000004\n",
      "mixup_probability : 0.6000000000000001 --- (shift right) --> 0.7000000000000001\n",
      "\n",
      "\u001b[2m\u001b[36m(train_net pid=19685)\u001b[0m Restored on 10.10.253.254 from checkpoint: /home/janis/PopulationBasedTraining/RayTuneResults/oppo/pbt/oppo_test_data_as_validation_perturbation_3_1/train_net_1dddc_00000_0_mixup_probability=0.1000,random_aug_first=False,random_augmentation_prob=0.8000_2023-08-16_19-05-35/checkpoint_tmpfea6c9\n",
      "\u001b[2m\u001b[36m(train_net pid=19685)\u001b[0m Current state after restoring: {'_iteration': 15, '_timesteps_total': None, '_time_total': 1524.3956940174103, '_episodes_total': None}\n"
     ]
    },
    {
     "name": "stdout",
     "output_type": "stream",
     "text": [
      "\u001b[2m\u001b[36m(train_net pid=19685)\u001b[0m /tmp/ray/session_2023-08-16_19-05-30_904053_8929/runtime_resources/working_dir_files/_ray_pkg_f201ed243ee42fb4\n",
      "\u001b[2m\u001b[36m(train_net pid=19685)\u001b[0m Train data number :  47869\n",
      "\u001b[2m\u001b[36m(train_net pid=19685)\u001b[0m The number of classes is :  18\n",
      "\u001b[2m\u001b[36m(train_net pid=19685)\u001b[0m The input_length  is :  30\n",
      "\u001b[2m\u001b[36m(train_net pid=19685)\u001b[0m The channel_in is :  77\n",
      "\u001b[2m\u001b[36m(train_net pid=19685)\u001b[0m Validation data number :  2147\n",
      "\u001b[2m\u001b[36m(train_net pid=19685)\u001b[0m Build the DeepConvLSTM model!\n"
     ]
    },
    {
     "name": "stderr",
     "output_type": "stream",
     "text": [
      "\u001b[2m\u001b[36m(train_net pid=21324)\u001b[0m Restored on 10.10.253.254 from checkpoint: /home/janis/PopulationBasedTraining/RayTuneResults/oppo/pbt/oppo_test_data_as_validation_perturbation_3_1/train_net_1dddc_00003_3_mixup_probability=0.2000,random_aug_first=True,random_augmentation_prob=0.9000_2023-08-16_19-05-35/checkpoint_tmpc51c8a\u001b[32m [repeated 3x across cluster]\u001b[0m\n",
      "\u001b[2m\u001b[36m(train_net pid=21324)\u001b[0m Current state after restoring: {'_iteration': 15, '_timesteps_total': None, '_time_total': 1642.5402507781982, '_episodes_total': None}\u001b[32m [repeated 3x across cluster]\u001b[0m\n"
     ]
    },
    {
     "name": "stdout",
     "output_type": "stream",
     "text": [
      "\u001b[2m\u001b[36m(train_net pid=21324)\u001b[0m /tmp/ray/session_2023-08-16_19-05-30_904053_8929/runtime_resources/working_dir_files/_ray_pkg_f201ed243ee42fb4\u001b[32m [repeated 3x across cluster]\u001b[0m\n",
      "\u001b[2m\u001b[36m(train_net pid=21324)\u001b[0m Train data number :  47869\u001b[32m [repeated 3x across cluster]\u001b[0m\n",
      "\u001b[2m\u001b[36m(train_net pid=21282)\u001b[0m The number of classes is :  18\u001b[32m [repeated 2x across cluster]\u001b[0m\n",
      "\u001b[2m\u001b[36m(train_net pid=21282)\u001b[0m The input_length  is :  30\u001b[32m [repeated 2x across cluster]\u001b[0m\n",
      "\u001b[2m\u001b[36m(train_net pid=21282)\u001b[0m The channel_in is :  77\u001b[32m [repeated 2x across cluster]\u001b[0m\n",
      "\u001b[2m\u001b[36m(train_net pid=21282)\u001b[0m Validation data number :  2147\u001b[32m [repeated 2x across cluster]\u001b[0m\n",
      "\u001b[2m\u001b[36m(train_net pid=21282)\u001b[0m Build the DeepConvLSTM model!\u001b[32m [repeated 2x across cluster]\u001b[0m\n",
      "\u001b[2m\u001b[36m(train_net pid=21282)\u001b[0m new best score!!!!\n",
      "\u001b[2m\u001b[36m(train_net pid=21371)\u001b[0m /tmp/ray/session_2023-08-16_19-05-30_904053_8929/runtime_resources/working_dir_files/_ray_pkg_f201ed243ee42fb4\n",
      "\u001b[2m\u001b[36m(train_net pid=21371)\u001b[0m Train data number :  47869\n",
      "\u001b[2m\u001b[36m(train_net pid=21371)\u001b[0m The number of classes is :  18\u001b[32m [repeated 2x across cluster]\u001b[0m\n",
      "\u001b[2m\u001b[36m(train_net pid=21371)\u001b[0m The input_length  is :  30\u001b[32m [repeated 2x across cluster]\u001b[0m\n",
      "\u001b[2m\u001b[36m(train_net pid=21371)\u001b[0m The channel_in is :  77\u001b[32m [repeated 2x across cluster]\u001b[0m\n",
      "\u001b[2m\u001b[36m(train_net pid=21371)\u001b[0m Validation data number :  2147\u001b[32m [repeated 2x across cluster]\u001b[0m\n",
      "\u001b[2m\u001b[36m(train_net pid=21371)\u001b[0m Build the DeepConvLSTM model!\u001b[32m [repeated 2x across cluster]\u001b[0m\n",
      "\u001b[2m\u001b[36m(train_net pid=21371)\u001b[0m new best score!!!!\n",
      "\u001b[2m\u001b[36m(train_net pid=19685)\u001b[0m Learning rate adjusting counter: 2 out of 5\n",
      "\u001b[2m\u001b[36m(train_net pid=21282)\u001b[0m new best score!!!!\n",
      "\u001b[2m\u001b[36m(train_net pid=21371)\u001b[0m Learning rate adjusting counter: 1 out of 5\n",
      "\u001b[2m\u001b[36m(train_net pid=21282)\u001b[0m Learning rate adjusting counter: 1 out of 5\n"
     ]
    },
    {
     "name": "stderr",
     "output_type": "stream",
     "text": [
      "\u001b[2m\u001b[36m(train_net pid=21282)\u001b[0m Restored on 10.10.253.254 from checkpoint: /home/janis/PopulationBasedTraining/RayTuneResults/oppo/pbt/oppo_test_data_as_validation_perturbation_3_1/train_net_1dddc_00005_5_mixup_probability=0.8000,random_aug_first=True,random_augmentation_prob=0.5000_2023-08-16_19-05-35/checkpoint_tmpe9df6b\u001b[32m [repeated 2x across cluster]\u001b[0m\n",
      "\u001b[2m\u001b[36m(train_net pid=21282)\u001b[0m Current state after restoring: {'_iteration': 15, '_timesteps_total': None, '_time_total': 1642.5402507781982, '_episodes_total': None}\u001b[32m [repeated 2x across cluster]\u001b[0m\n"
     ]
    },
    {
     "name": "stdout",
     "output_type": "stream",
     "text": [
      "\u001b[2m\u001b[36m(train_net pid=21282)\u001b[0m /tmp/ray/session_2023-08-16_19-05-30_904053_8929/runtime_resources/working_dir_files/_ray_pkg_f201ed243ee42fb4\n",
      "\u001b[2m\u001b[36m(train_net pid=21282)\u001b[0m Train data number :  47869\n",
      "\u001b[2m\u001b[36m(train_net pid=21282)\u001b[0m The number of classes is :  18\n",
      "\u001b[2m\u001b[36m(train_net pid=21282)\u001b[0m The input_length  is :  30\n",
      "\u001b[2m\u001b[36m(train_net pid=21282)\u001b[0m The channel_in is :  77\n",
      "\u001b[2m\u001b[36m(train_net pid=21282)\u001b[0m Validation data number :  2147\n",
      "\u001b[2m\u001b[36m(train_net pid=21282)\u001b[0m Build the DeepConvLSTM model!\n",
      "\u001b[2m\u001b[36m(train_net pid=21204)\u001b[0m new best score!!!!\n",
      "\u001b[2m\u001b[36m(train_net pid=19685)\u001b[0m Learning rate adjusting counter: 3 out of 5\n",
      "\u001b[2m\u001b[36m(train_net pid=21324)\u001b[0m new best score!!!!\n",
      "\u001b[2m\u001b[36m(train_net pid=21371)\u001b[0m Learning rate adjusting counter: 2 out of 5\n"
     ]
    },
    {
     "name": "stderr",
     "output_type": "stream",
     "text": [
      "\u001b[2m\u001b[36m(train_net pid=21371)\u001b[0m Restored on 10.10.253.254 from checkpoint: /home/janis/PopulationBasedTraining/RayTuneResults/oppo/pbt/oppo_test_data_as_validation_perturbation_3_1/train_net_1dddc_00006_6_mixup_probability=0.7000,random_aug_first=True,random_augmentation_prob=1.0000_2023-08-16_19-05-35/checkpoint_tmpf779c6\n",
      "\u001b[2m\u001b[36m(train_net pid=21371)\u001b[0m Current state after restoring: {'_iteration': 15, '_timesteps_total': None, '_time_total': 1470.8353939056396, '_episodes_total': None}\n"
     ]
    },
    {
     "name": "stdout",
     "output_type": "stream",
     "text": [
      "\u001b[2m\u001b[36m(train_net pid=21371)\u001b[0m /tmp/ray/session_2023-08-16_19-05-30_904053_8929/runtime_resources/working_dir_files/_ray_pkg_f201ed243ee42fb4\n",
      "\u001b[2m\u001b[36m(train_net pid=21371)\u001b[0m Train data number :  47869\n",
      "\u001b[2m\u001b[36m(train_net pid=21371)\u001b[0m The number of classes is :  18\n",
      "\u001b[2m\u001b[36m(train_net pid=21371)\u001b[0m The input_length  is :  30\n",
      "\u001b[2m\u001b[36m(train_net pid=21371)\u001b[0m The channel_in is :  77\n",
      "\u001b[2m\u001b[36m(train_net pid=21371)\u001b[0m Validation data number :  2147\n",
      "\u001b[2m\u001b[36m(train_net pid=21371)\u001b[0m Build the DeepConvLSTM model!\n",
      "\u001b[2m\u001b[36m(train_net pid=19685)\u001b[0m Learning rate adjusting counter: 4 out of 5\n"
     ]
    },
    {
     "name": "stderr",
     "output_type": "stream",
     "text": [
      "\u001b[2m\u001b[36m(train_net pid=19685)\u001b[0m Restored on 10.10.253.254 from checkpoint: /home/janis/PopulationBasedTraining/RayTuneResults/oppo/pbt/oppo_test_data_as_validation_perturbation_3_1/train_net_1dddc_00007_7_mixup_probability=0.3000,random_aug_first=False,random_augmentation_prob=0.1000_2023-08-16_19-05-35/checkpoint_tmpe32eb0\n",
      "\u001b[2m\u001b[36m(train_net pid=19685)\u001b[0m Current state after restoring: {'_iteration': 15, '_timesteps_total': None, '_time_total': 2448.8182396888733, '_episodes_total': None}\n"
     ]
    },
    {
     "name": "stdout",
     "output_type": "stream",
     "text": [
      "\u001b[2m\u001b[36m(train_net pid=19685)\u001b[0m /tmp/ray/session_2023-08-16_19-05-30_904053_8929/runtime_resources/working_dir_files/_ray_pkg_f201ed243ee42fb4\n",
      "\u001b[2m\u001b[36m(train_net pid=19685)\u001b[0m Train data number :  47869\n",
      "\u001b[2m\u001b[36m(train_net pid=19685)\u001b[0m The number of classes is :  18\n",
      "\u001b[2m\u001b[36m(train_net pid=19685)\u001b[0m The input_length  is :  30\n",
      "\u001b[2m\u001b[36m(train_net pid=19685)\u001b[0m The channel_in is :  77\n",
      "\u001b[2m\u001b[36m(train_net pid=19685)\u001b[0m Validation data number :  2147\n",
      "\u001b[2m\u001b[36m(train_net pid=19685)\u001b[0m Build the DeepConvLSTM model!\n",
      "\u001b[2m\u001b[36m(train_net pid=21371)\u001b[0m Learning rate adjusting counter: 1 out of 5\n",
      "\u001b[2m\u001b[36m(train_net pid=21282)\u001b[0m new best score!!!!\n",
      "\u001b[2m\u001b[36m(train_net pid=21204)\u001b[0m new best score!!!!\n",
      "\u001b[2m\u001b[36m(train_net pid=21324)\u001b[0m Learning rate adjusting counter: 1 out of 5\n",
      "\u001b[2m\u001b[36m(train_net pid=21371)\u001b[0m new best score!!!!\n",
      "\u001b[2m\u001b[36m(train_net pid=19685)\u001b[0m Learning rate adjusting counter: 2 out of 5\n",
      "\u001b[2m\u001b[36m(train_net pid=21371)\u001b[0m new best score!!!!\n"
     ]
    },
    {
     "name": "stderr",
     "output_type": "stream",
     "text": [
      "\u001b[2m\u001b[36m(train_net pid=21371)\u001b[0m Restored on 10.10.253.254 from checkpoint: /home/janis/PopulationBasedTraining/RayTuneResults/oppo/pbt/oppo_test_data_as_validation_perturbation_3_1/train_net_1dddc_00008_8_mixup_probability=0.3000,random_aug_first=True,random_augmentation_prob=0.2000_2023-08-16_19-05-35/checkpoint_tmpa16c35\n",
      "\u001b[2m\u001b[36m(train_net pid=21371)\u001b[0m Current state after restoring: {'_iteration': 15, '_timesteps_total': None, '_time_total': 2595.496989250183, '_episodes_total': None}\n"
     ]
    },
    {
     "name": "stdout",
     "output_type": "stream",
     "text": [
      "\u001b[2m\u001b[36m(train_net pid=21371)\u001b[0m /tmp/ray/session_2023-08-16_19-05-30_904053_8929/runtime_resources/working_dir_files/_ray_pkg_f201ed243ee42fb4\n",
      "\u001b[2m\u001b[36m(train_net pid=21371)\u001b[0m Train data number :  47869\n",
      "\u001b[2m\u001b[36m(train_net pid=21371)\u001b[0m The number of classes is :  18\n",
      "\u001b[2m\u001b[36m(train_net pid=21371)\u001b[0m The input_length  is :  30\n",
      "\u001b[2m\u001b[36m(train_net pid=21371)\u001b[0m The channel_in is :  77\n",
      "\u001b[2m\u001b[36m(train_net pid=21371)\u001b[0m Validation data number :  2147\n",
      "\u001b[2m\u001b[36m(train_net pid=21371)\u001b[0m Build the DeepConvLSTM model!\n",
      "\u001b[2m\u001b[36m(train_net pid=21282)\u001b[0m Learning rate adjusting counter: 1 out of 5\n",
      "\u001b[2m\u001b[36m(train_net pid=19685)\u001b[0m Learning rate adjusting counter: 3 out of 5\n",
      "\u001b[2m\u001b[36m(train_net pid=21204)\u001b[0m Learning rate adjusting counter: 1 out of 5\n"
     ]
    },
    {
     "name": "stderr",
     "output_type": "stream",
     "text": [
      "\u001b[2m\u001b[36m(train_net pid=21204)\u001b[0m Restored on 10.10.253.254 from checkpoint: /home/janis/PopulationBasedTraining/RayTuneResults/oppo/pbt/oppo_test_data_as_validation_perturbation_3_1/train_net_1dddc_00009_9_mixup_probability=0.6000,random_aug_first=True,random_augmentation_prob=0.2000_2023-08-16_19-05-35/checkpoint_tmp354f7f\n",
      "\u001b[2m\u001b[36m(train_net pid=21204)\u001b[0m Current state after restoring: {'_iteration': 15, '_timesteps_total': None, '_time_total': 2595.496989250183, '_episodes_total': None}\n"
     ]
    },
    {
     "name": "stdout",
     "output_type": "stream",
     "text": [
      "\u001b[2m\u001b[36m(train_net pid=21204)\u001b[0m /tmp/ray/session_2023-08-16_19-05-30_904053_8929/runtime_resources/working_dir_files/_ray_pkg_f201ed243ee42fb4\n",
      "\u001b[2m\u001b[36m(train_net pid=21204)\u001b[0m Train data number :  47869\n",
      "\u001b[2m\u001b[36m(train_net pid=21204)\u001b[0m The number of classes is :  18\n",
      "\u001b[2m\u001b[36m(train_net pid=21204)\u001b[0m The input_length  is :  30\n",
      "\u001b[2m\u001b[36m(train_net pid=21204)\u001b[0m The channel_in is :  77\n",
      "\u001b[2m\u001b[36m(train_net pid=21204)\u001b[0m Validation data number :  2147\n",
      "\u001b[2m\u001b[36m(train_net pid=21204)\u001b[0m Build the DeepConvLSTM model!\n",
      "\u001b[2m\u001b[36m(train_net pid=21324)\u001b[0m new best score!!!!\n"
     ]
    },
    {
     "name": "stderr",
     "output_type": "stream",
     "text": [
      "\u001b[2m\u001b[36m(train_net pid=21324)\u001b[0m Restored on 10.10.253.254 from checkpoint: /home/janis/PopulationBasedTraining/RayTuneResults/oppo/pbt/oppo_test_data_as_validation_perturbation_3_1/train_net_1dddc_00010_10_mixup_probability=0.2000,random_aug_first=False,random_augmentation_prob=0.4000_2023-08-16_19-05-35/checkpoint_tmpdfeac1\n",
      "\u001b[2m\u001b[36m(train_net pid=21324)\u001b[0m Current state after restoring: {'_iteration': 15, '_timesteps_total': None, '_time_total': 1616.9523854255676, '_episodes_total': None}\n"
     ]
    },
    {
     "name": "stdout",
     "output_type": "stream",
     "text": [
      "\u001b[2m\u001b[36m(train_net pid=21324)\u001b[0m /tmp/ray/session_2023-08-16_19-05-30_904053_8929/runtime_resources/working_dir_files/_ray_pkg_f201ed243ee42fb4\n",
      "\u001b[2m\u001b[36m(train_net pid=21324)\u001b[0m Train data number :  47869\n",
      "\u001b[2m\u001b[36m(train_net pid=21324)\u001b[0m The number of classes is :  18\n",
      "\u001b[2m\u001b[36m(train_net pid=21324)\u001b[0m The input_length  is :  30\n",
      "\u001b[2m\u001b[36m(train_net pid=21324)\u001b[0m The channel_in is :  77\n",
      "\u001b[2m\u001b[36m(train_net pid=21324)\u001b[0m Validation data number :  2147\n",
      "\u001b[2m\u001b[36m(train_net pid=21324)\u001b[0m Build the DeepConvLSTM model!\n",
      "\u001b[2m\u001b[36m(train_net pid=21371)\u001b[0m Learning rate adjusting counter: 1 out of 5\n",
      "\u001b[2m\u001b[36m(train_net pid=21324)\u001b[0m new best score!!!!\n",
      "\u001b[2m\u001b[36m(train_net pid=21282)\u001b[0m Learning rate adjusting counter: 2 out of 5\n"
     ]
    },
    {
     "name": "stderr",
     "output_type": "stream",
     "text": [
      "\u001b[2m\u001b[36m(train_net pid=21282)\u001b[0m Restored on 10.10.253.254 from checkpoint: /home/janis/PopulationBasedTraining/RayTuneResults/oppo/pbt/oppo_test_data_as_validation_perturbation_3_1/train_net_1dddc_00011_11_mixup_probability=1.0000,random_aug_first=True,random_augmentation_prob=0.0000_2023-08-16_19-05-35/checkpoint_tmpec2aa7\n",
      "\u001b[2m\u001b[36m(train_net pid=21282)\u001b[0m Current state after restoring: {'_iteration': 15, '_timesteps_total': None, '_time_total': 1472.2930099964142, '_episodes_total': None}\n"
     ]
    },
    {
     "name": "stdout",
     "output_type": "stream",
     "text": [
      "\u001b[2m\u001b[36m(train_net pid=21282)\u001b[0m /tmp/ray/session_2023-08-16_19-05-30_904053_8929/runtime_resources/working_dir_files/_ray_pkg_f201ed243ee42fb4\n",
      "\u001b[2m\u001b[36m(train_net pid=21282)\u001b[0m Train data number :  47869\n",
      "\u001b[2m\u001b[36m(train_net pid=21282)\u001b[0m The number of classes is :  18\n",
      "\u001b[2m\u001b[36m(train_net pid=21282)\u001b[0m The input_length  is :  30\n",
      "\u001b[2m\u001b[36m(train_net pid=21282)\u001b[0m The channel_in is :  77\n",
      "\u001b[2m\u001b[36m(train_net pid=21282)\u001b[0m Validation data number :  2147\n",
      "\u001b[2m\u001b[36m(train_net pid=21282)\u001b[0m Build the DeepConvLSTM model!\n",
      "\u001b[2m\u001b[36m(train_net pid=19685)\u001b[0m new best score!!!!\n"
     ]
    },
    {
     "name": "stderr",
     "output_type": "stream",
     "text": [
      "\u001b[2m\u001b[36m(train_net pid=19685)\u001b[0m Restored on 10.10.253.254 from checkpoint: /home/janis/PopulationBasedTraining/RayTuneResults/oppo/pbt/oppo_test_data_as_validation_perturbation_3_1/train_net_1dddc_00012_12_mixup_probability=0.9000,random_aug_first=True,random_augmentation_prob=0.5000_2023-08-16_19-05-35/checkpoint_tmpa5f558\n",
      "\u001b[2m\u001b[36m(train_net pid=19685)\u001b[0m Current state after restoring: {'_iteration': 15, '_timesteps_total': None, '_time_total': 1616.9523854255676, '_episodes_total': None}\n"
     ]
    },
    {
     "name": "stdout",
     "output_type": "stream",
     "text": [
      "\u001b[2m\u001b[36m(train_net pid=19685)\u001b[0m /tmp/ray/session_2023-08-16_19-05-30_904053_8929/runtime_resources/working_dir_files/_ray_pkg_f201ed243ee42fb4\n",
      "\u001b[2m\u001b[36m(train_net pid=19685)\u001b[0m Train data number :  47869\n",
      "\u001b[2m\u001b[36m(train_net pid=19685)\u001b[0m The number of classes is :  18\n",
      "\u001b[2m\u001b[36m(train_net pid=19685)\u001b[0m The input_length  is :  30\n",
      "\u001b[2m\u001b[36m(train_net pid=19685)\u001b[0m The channel_in is :  77\n",
      "\u001b[2m\u001b[36m(train_net pid=19685)\u001b[0m Validation data number :  2147\n",
      "\u001b[2m\u001b[36m(train_net pid=19685)\u001b[0m Build the DeepConvLSTM model!\n",
      "\u001b[2m\u001b[36m(train_net pid=21204)\u001b[0m new best score!!!!\n",
      "\u001b[2m\u001b[36m(train_net pid=21324)\u001b[0m Learning rate adjusting counter: 1 out of 5\n",
      "\u001b[2m\u001b[36m(train_net pid=21371)\u001b[0m Learning rate adjusting counter: 2 out of 5\n",
      "\u001b[2m\u001b[36m(train_net pid=21282)\u001b[0m new best score!!!!\n",
      "\u001b[2m\u001b[36m(train_net pid=19685)\u001b[0m new best score!!!!\n",
      "\u001b[2m\u001b[36m(train_net pid=21324)\u001b[0m new best score!!!!\n"
     ]
    },
    {
     "name": "stderr",
     "output_type": "stream",
     "text": [
      "\u001b[2m\u001b[36m(train_net pid=21324)\u001b[0m Restored on 10.10.253.254 from checkpoint: /home/janis/PopulationBasedTraining/RayTuneResults/oppo/pbt/oppo_test_data_as_validation_perturbation_3_1/train_net_1dddc_00013_13_mixup_probability=0.0000,random_aug_first=False,random_augmentation_prob=0.2000_2023-08-16_19-05-35/checkpoint_tmpda7157\n",
      "\u001b[2m\u001b[36m(train_net pid=21324)\u001b[0m Current state after restoring: {'_iteration': 15, '_timesteps_total': None, '_time_total': 1191.0329566001892, '_episodes_total': None}\n"
     ]
    },
    {
     "name": "stdout",
     "output_type": "stream",
     "text": [
      "\u001b[2m\u001b[36m(train_net pid=21324)\u001b[0m /tmp/ray/session_2023-08-16_19-05-30_904053_8929/runtime_resources/working_dir_files/_ray_pkg_f201ed243ee42fb4\n",
      "\u001b[2m\u001b[36m(train_net pid=21324)\u001b[0m Train data number :  47869\n",
      "\u001b[2m\u001b[36m(train_net pid=21324)\u001b[0m The number of classes is :  18\n",
      "\u001b[2m\u001b[36m(train_net pid=21324)\u001b[0m The input_length  is :  30\n",
      "\u001b[2m\u001b[36m(train_net pid=21324)\u001b[0m The channel_in is :  77\n",
      "\u001b[2m\u001b[36m(train_net pid=21324)\u001b[0m Validation data number :  2147\n",
      "\u001b[2m\u001b[36m(train_net pid=21324)\u001b[0m Build the DeepConvLSTM model!\n",
      "\u001b[2m\u001b[36m(train_net pid=21282)\u001b[0m Learning rate adjusting counter: 1 out of 5\n",
      "\u001b[2m\u001b[36m(train_net pid=21324)\u001b[0m Learning rate adjusting counter: 1 out of 5\n",
      "\u001b[2m\u001b[36m(train_net pid=21204)\u001b[0m new best score!!!!\n",
      "\u001b[2m\u001b[36m(train_net pid=21371)\u001b[0m new best score!!!!\n"
     ]
    },
    {
     "name": "stderr",
     "output_type": "stream",
     "text": [
      "\u001b[2m\u001b[36m(train_net pid=21371)\u001b[0m Restored on 10.10.253.254 from checkpoint: /home/janis/PopulationBasedTraining/RayTuneResults/oppo/pbt/oppo_test_data_as_validation_perturbation_3_1/train_net_1dddc_00014_14_mixup_probability=0.0000,random_aug_first=True,random_augmentation_prob=1.0000_2023-08-16_19-05-35/checkpoint_tmpc2ccfb\n",
      "\u001b[2m\u001b[36m(train_net pid=21371)\u001b[0m Current state after restoring: {'_iteration': 15, '_timesteps_total': None, '_time_total': 1522.1293303966522, '_episodes_total': None}\n"
     ]
    },
    {
     "name": "stdout",
     "output_type": "stream",
     "text": [
      "\u001b[2m\u001b[36m(train_net pid=21371)\u001b[0m /tmp/ray/session_2023-08-16_19-05-30_904053_8929/runtime_resources/working_dir_files/_ray_pkg_f201ed243ee42fb4\n",
      "\u001b[2m\u001b[36m(train_net pid=21371)\u001b[0m Train data number :  47869\n",
      "\u001b[2m\u001b[36m(train_net pid=21371)\u001b[0m The number of classes is :  18\n",
      "\u001b[2m\u001b[36m(train_net pid=21371)\u001b[0m The input_length  is :  30\n",
      "\u001b[2m\u001b[36m(train_net pid=21371)\u001b[0m The channel_in is :  77\n",
      "\u001b[2m\u001b[36m(train_net pid=21371)\u001b[0m Validation data number :  2147\n",
      "\u001b[2m\u001b[36m(train_net pid=21371)\u001b[0m Build the DeepConvLSTM model!\n",
      "\u001b[2m\u001b[36m(train_net pid=19685)\u001b[0m new best score!!!!\n",
      "\u001b[2m\u001b[36m(train_net pid=21282)\u001b[0m Learning rate adjusting counter: 2 out of 5\n",
      "\u001b[2m\u001b[36m(train_net pid=21324)\u001b[0m new best score!!!!\n"
     ]
    },
    {
     "name": "stderr",
     "output_type": "stream",
     "text": [
      "\u001b[2m\u001b[36m(train_net pid=21282)\u001b[0m Restored on 10.10.253.254 from checkpoint: /home/janis/PopulationBasedTraining/RayTuneResults/oppo/pbt/oppo_test_data_as_validation_perturbation_3_1/train_net_1dddc_00015_15_mixup_probability=0.2000,random_aug_first=True,random_augmentation_prob=0.5000_2023-08-16_19-05-35/checkpoint_tmp5300d1\n",
      "\u001b[2m\u001b[36m(train_net pid=21282)\u001b[0m Current state after restoring: {'_iteration': 15, '_timesteps_total': None, '_time_total': 2461.904479265213, '_episodes_total': None}\n"
     ]
    },
    {
     "name": "stdout",
     "output_type": "stream",
     "text": [
      "\u001b[2m\u001b[36m(train_net pid=21282)\u001b[0m /tmp/ray/session_2023-08-16_19-05-30_904053_8929/runtime_resources/working_dir_files/_ray_pkg_f201ed243ee42fb4\n",
      "\u001b[2m\u001b[36m(train_net pid=21282)\u001b[0m Train data number :  47869\n",
      "\u001b[2m\u001b[36m(train_net pid=21282)\u001b[0m The number of classes is :  18\n",
      "\u001b[2m\u001b[36m(train_net pid=21282)\u001b[0m The input_length  is :  30\n",
      "\u001b[2m\u001b[36m(train_net pid=21282)\u001b[0m The channel_in is :  77\n",
      "\u001b[2m\u001b[36m(train_net pid=21282)\u001b[0m Validation data number :  2147\n",
      "\u001b[2m\u001b[36m(train_net pid=21282)\u001b[0m Build the DeepConvLSTM model!\n",
      "\u001b[2m\u001b[36m(train_net pid=21324)\u001b[0m new best score!!!!\n",
      "\u001b[2m\u001b[36m(train_net pid=21371)\u001b[0m new best score!!!!\n",
      "\u001b[2m\u001b[36m(train_net pid=19685)\u001b[0m Learning rate adjusting counter: 1 out of 5\n",
      "\u001b[2m\u001b[36m(train_net pid=21204)\u001b[0m new best score!!!!\n",
      "\u001b[2m\u001b[36m(train_net pid=21371)\u001b[0m Learning rate adjusting counter: 1 out of 5\n",
      "\u001b[2m\u001b[36m(train_net pid=21371)\u001b[0m new best score!!!!\n",
      "\u001b[2m\u001b[36m(train_net pid=21282)\u001b[0m Learning rate adjusting counter: 1 out of 5\n",
      "\u001b[2m\u001b[36m(train_net pid=21282)\u001b[0m new best score!!!!\n"
     ]
    },
    {
     "name": "stderr",
     "output_type": "stream",
     "text": [
      "2023-08-16 21:14:41,803\tINFO pbt.py:809 -- \n",
      "\n",
      "[PopulationBasedTraining] [Exploit] Cloning trial 1dddc_00015 (score = 0.893340) into trial 1dddc_00002 (score = 0.882627)\n",
      "\n",
      "2023-08-16 21:14:41,804\tINFO pbt.py:836 -- \n",
      "\n",
      "[PopulationBasedTraining] [Explore] Perturbed the hyperparameter config of trial1dddc_00002:\n",
      "random_augmentation_prob : 0.2 --- (shift right) --> 0.30000000000000004\n",
      "mixup_probability : 0.4 --- (shift left) --> 0.30000000000000004\n",
      "\n",
      "2023-08-16 21:14:41,915\tINFO pbt.py:809 -- \n",
      "\n",
      "[PopulationBasedTraining] [Exploit] Cloning trial 1dddc_00015 (score = 0.893340) into trial 1dddc_00011 (score = 0.882627)\n",
      "\n",
      "2023-08-16 21:14:41,916\tINFO pbt.py:836 -- \n",
      "\n",
      "[PopulationBasedTraining] [Explore] Perturbed the hyperparameter config of trial1dddc_00011:\n",
      "random_augmentation_prob : 0.2 --- (resample) --> 0.6000000000000001\n",
      "mixup_probability : 0.4 --- (shift right) --> 0.5\n",
      "\n"
     ]
    },
    {
     "name": "stdout",
     "output_type": "stream",
     "text": [
      "\u001b[2m\u001b[36m(train_net pid=21282)\u001b[0m new best score!!!!\n"
     ]
    },
    {
     "name": "stderr",
     "output_type": "stream",
     "text": [
      "2023-08-16 21:14:42,031\tINFO pbt.py:809 -- \n",
      "\n",
      "[PopulationBasedTraining] [Exploit] Cloning trial 1dddc_00010 (score = 0.893805) into trial 1dddc_00006 (score = 0.886353)\n",
      "\n",
      "2023-08-16 21:14:42,031\tINFO pbt.py:836 -- \n",
      "\n",
      "[PopulationBasedTraining] [Explore] Perturbed the hyperparameter config of trial1dddc_00006:\n",
      "random_augmentation_prob : 0.6000000000000001 --- (shift left) --> 0.5\n",
      "mixup_probability : 0.8 --- (shift right) --> 0.9\n",
      "\n",
      "2023-08-16 21:14:42,139\tINFO pbt.py:809 -- \n",
      "\n",
      "[PopulationBasedTraining] [Exploit] Cloning trial 1dddc_00003 (score = 0.896134) into trial 1dddc_00008 (score = 0.886353)\n",
      "\n",
      "2023-08-16 21:14:42,139\tINFO pbt.py:836 -- \n",
      "\n",
      "[PopulationBasedTraining] [Explore] Perturbed the hyperparameter config of trial1dddc_00008:\n",
      "random_augmentation_prob : 0.0 --- (shift right) --> 0.1\n",
      "mixup_probability : 0.9 --- (shift left) --> 0.8\n",
      "\n",
      "2023-08-16 21:14:42,246\tWARNING util.py:315 -- The `scheduler.on_trial_result` operation took 0.553 s, which may be a performance bottleneck.\n",
      "2023-08-16 21:14:42,247\tWARNING util.py:315 -- The `process_trial_result` operation took 0.554 s, which may be a performance bottleneck.\n",
      "2023-08-16 21:14:42,248\tWARNING util.py:315 -- Processing trial results took 0.555 s, which may be a performance bottleneck. Please consider reporting results less frequently to Ray Tune.\n",
      "2023-08-16 21:14:42,248\tWARNING util.py:315 -- The `process_trial_result` operation took 0.555 s, which may be a performance bottleneck.\n",
      "\u001b[2m\u001b[36m(train_net pid=21282)\u001b[0m Restored on 10.10.253.254 from checkpoint: /home/janis/PopulationBasedTraining/RayTuneResults/oppo/pbt/oppo_test_data_as_validation_perturbation_3_1/train_net_1dddc_00000_0_mixup_probability=0.1000,random_aug_first=False,random_augmentation_prob=0.8000_2023-08-16_19-05-35/checkpoint_tmp92fd37\n",
      "\u001b[2m\u001b[36m(train_net pid=21282)\u001b[0m Current state after restoring: {'_iteration': 18, '_timesteps_total': None, '_time_total': 1856.5823817253113, '_episodes_total': None}\n"
     ]
    },
    {
     "name": "stdout",
     "output_type": "stream",
     "text": [
      "\u001b[2m\u001b[36m(train_net pid=21282)\u001b[0m /tmp/ray/session_2023-08-16_19-05-30_904053_8929/runtime_resources/working_dir_files/_ray_pkg_f201ed243ee42fb4\n",
      "\u001b[2m\u001b[36m(train_net pid=21282)\u001b[0m Train data number :  47869\n",
      "\u001b[2m\u001b[36m(train_net pid=21282)\u001b[0m The number of classes is :  18\n",
      "\u001b[2m\u001b[36m(train_net pid=21282)\u001b[0m The input_length  is :  30\n",
      "\u001b[2m\u001b[36m(train_net pid=21282)\u001b[0m The channel_in is :  77\n",
      "\u001b[2m\u001b[36m(train_net pid=21282)\u001b[0m Validation data number :  2147\n",
      "\u001b[2m\u001b[36m(train_net pid=21282)\u001b[0m Build the DeepConvLSTM model!\n"
     ]
    },
    {
     "name": "stderr",
     "output_type": "stream",
     "text": [
      "\u001b[2m\u001b[36m(train_net pid=23225)\u001b[0m Restored on 10.10.253.254 from checkpoint: /home/janis/PopulationBasedTraining/RayTuneResults/oppo/pbt/oppo_test_data_as_validation_perturbation_3_1/train_net_1dddc_00001_1_mixup_probability=0.7000,random_aug_first=False,random_augmentation_prob=0.5000_2023-08-16_19-05-35/checkpoint_tmpab6a55\n",
      "\u001b[2m\u001b[36m(train_net pid=23225)\u001b[0m Current state after restoring: {'_iteration': 18, '_timesteps_total': None, '_time_total': 2289.8954060077667, '_episodes_total': None}\n"
     ]
    },
    {
     "name": "stdout",
     "output_type": "stream",
     "text": [
      "\u001b[2m\u001b[36m(train_net pid=23346)\u001b[0m /tmp/ray/session_2023-08-16_19-05-30_904053_8929/runtime_resources/working_dir_files/_ray_pkg_f201ed243ee42fb4\u001b[32m [repeated 3x across cluster]\u001b[0m\n",
      "\u001b[2m\u001b[36m(train_net pid=23346)\u001b[0m Train data number :  47869\u001b[32m [repeated 3x across cluster]\u001b[0m\n",
      "\u001b[2m\u001b[36m(train_net pid=23346)\u001b[0m The number of classes is :  18\u001b[32m [repeated 3x across cluster]\u001b[0m\n",
      "\u001b[2m\u001b[36m(train_net pid=23346)\u001b[0m The input_length  is :  30\u001b[32m [repeated 3x across cluster]\u001b[0m\n",
      "\u001b[2m\u001b[36m(train_net pid=23346)\u001b[0m The channel_in is :  77\u001b[32m [repeated 3x across cluster]\u001b[0m\n",
      "\u001b[2m\u001b[36m(train_net pid=23346)\u001b[0m Validation data number :  2147\u001b[32m [repeated 3x across cluster]\u001b[0m\n",
      "\u001b[2m\u001b[36m(train_net pid=23346)\u001b[0m Build the DeepConvLSTM model!\u001b[32m [repeated 3x across cluster]\u001b[0m\n"
     ]
    },
    {
     "name": "stderr",
     "output_type": "stream",
     "text": [
      "\u001b[2m\u001b[36m(train_net pid=23390)\u001b[0m Restored on 10.10.253.254 from checkpoint: /home/janis/PopulationBasedTraining/RayTuneResults/oppo/pbt/oppo_test_data_as_validation_perturbation_3_1/train_net_1dddc_00004_4_mixup_probability=1.0000,random_aug_first=True,random_augmentation_prob=0.6000_2023-08-16_19-05-35/checkpoint_tmpc53b77\u001b[32m [repeated 3x across cluster]\u001b[0m\n",
      "\u001b[2m\u001b[36m(train_net pid=23390)\u001b[0m Current state after restoring: {'_iteration': 18, '_timesteps_total': None, '_time_total': 1606.2537825107574, '_episodes_total': None}\u001b[32m [repeated 3x across cluster]\u001b[0m\n"
     ]
    },
    {
     "name": "stdout",
     "output_type": "stream",
     "text": [
      "\u001b[2m\u001b[36m(train_net pid=23390)\u001b[0m new best score!!!!\n",
      "\u001b[2m\u001b[36m(train_net pid=23390)\u001b[0m /tmp/ray/session_2023-08-16_19-05-30_904053_8929/runtime_resources/working_dir_files/_ray_pkg_f201ed243ee42fb4\n",
      "\u001b[2m\u001b[36m(train_net pid=23390)\u001b[0m Train data number :  47869\n",
      "\u001b[2m\u001b[36m(train_net pid=23390)\u001b[0m The number of classes is :  18\n",
      "\u001b[2m\u001b[36m(train_net pid=23390)\u001b[0m The input_length  is :  30\n",
      "\u001b[2m\u001b[36m(train_net pid=23390)\u001b[0m The channel_in is :  77\n",
      "\u001b[2m\u001b[36m(train_net pid=23390)\u001b[0m Validation data number :  2147\n",
      "\u001b[2m\u001b[36m(train_net pid=23390)\u001b[0m Build the DeepConvLSTM model!\n",
      "\u001b[2m\u001b[36m(train_net pid=21282)\u001b[0m Learning rate adjusting counter: 5 out of 5\n",
      "\u001b[2m\u001b[36m(train_net pid=21282)\u001b[0m Updating learning rate to 0.0001\n",
      "\u001b[2m\u001b[36m(train_net pid=23305)\u001b[0m new best score!!!!\n",
      "\u001b[2m\u001b[36m(train_net pid=23390)\u001b[0m new best score!!!!\n",
      "\u001b[2m\u001b[36m(train_net pid=23225)\u001b[0m new best score!!!!\n",
      "\u001b[2m\u001b[36m(train_net pid=23390)\u001b[0m Learning rate adjusting counter: 1 out of 5\n",
      "\u001b[2m\u001b[36m(train_net pid=21282)\u001b[0m new best score!!!!\u001b[32m [repeated 2x across cluster]\u001b[0m\n"
     ]
    },
    {
     "name": "stderr",
     "output_type": "stream",
     "text": [
      "\u001b[2m\u001b[36m(train_net pid=23390)\u001b[0m Restored on 10.10.253.254 from checkpoint: /home/janis/PopulationBasedTraining/RayTuneResults/oppo/pbt/oppo_test_data_as_validation_perturbation_3_1/train_net_1dddc_00005_5_mixup_probability=0.8000,random_aug_first=True,random_augmentation_prob=0.5000_2023-08-16_19-05-35/checkpoint_tmpff0f0c\n",
      "\u001b[2m\u001b[36m(train_net pid=23390)\u001b[0m Current state after restoring: {'_iteration': 18, '_timesteps_total': None, '_time_total': 2228.8431148529053, '_episodes_total': None}\n"
     ]
    },
    {
     "name": "stdout",
     "output_type": "stream",
     "text": [
      "\u001b[2m\u001b[36m(train_net pid=23390)\u001b[0m /tmp/ray/session_2023-08-16_19-05-30_904053_8929/runtime_resources/working_dir_files/_ray_pkg_f201ed243ee42fb4\n",
      "\u001b[2m\u001b[36m(train_net pid=23390)\u001b[0m Train data number :  47869\n",
      "\u001b[2m\u001b[36m(train_net pid=23390)\u001b[0m The number of classes is :  18\n",
      "\u001b[2m\u001b[36m(train_net pid=23390)\u001b[0m The input_length  is :  30\n",
      "\u001b[2m\u001b[36m(train_net pid=23390)\u001b[0m The channel_in is :  77\n",
      "\u001b[2m\u001b[36m(train_net pid=23390)\u001b[0m Validation data number :  2147\n",
      "\u001b[2m\u001b[36m(train_net pid=23390)\u001b[0m Build the DeepConvLSTM model!\n",
      "\u001b[2m\u001b[36m(train_net pid=23305)\u001b[0m Learning rate adjusting counter: 1 out of 5\n",
      "\u001b[2m\u001b[36m(train_net pid=21282)\u001b[0m Learning rate adjusting counter: 1 out of 5\n"
     ]
    },
    {
     "name": "stderr",
     "output_type": "stream",
     "text": [
      "\u001b[2m\u001b[36m(train_net pid=21282)\u001b[0m Restored on 10.10.253.254 from checkpoint: /home/janis/PopulationBasedTraining/RayTuneResults/oppo/pbt/oppo_test_data_as_validation_perturbation_3_1/train_net_1dddc_00006_6_mixup_probability=0.7000,random_aug_first=True,random_augmentation_prob=1.0000_2023-08-16_19-05-35/checkpoint_tmpa0dc97\n",
      "\u001b[2m\u001b[36m(train_net pid=21282)\u001b[0m Current state after restoring: {'_iteration': 18, '_timesteps_total': None, '_time_total': 1894.9059495925903, '_episodes_total': None}\n"
     ]
    },
    {
     "name": "stdout",
     "output_type": "stream",
     "text": [
      "\u001b[2m\u001b[36m(train_net pid=21282)\u001b[0m /tmp/ray/session_2023-08-16_19-05-30_904053_8929/runtime_resources/working_dir_files/_ray_pkg_f201ed243ee42fb4\n",
      "\u001b[2m\u001b[36m(train_net pid=21282)\u001b[0m Train data number :  47869\n",
      "\u001b[2m\u001b[36m(train_net pid=21282)\u001b[0m The number of classes is :  18\n",
      "\u001b[2m\u001b[36m(train_net pid=21282)\u001b[0m The input_length  is :  30\n",
      "\u001b[2m\u001b[36m(train_net pid=21282)\u001b[0m The channel_in is :  77\n",
      "\u001b[2m\u001b[36m(train_net pid=21282)\u001b[0m Validation data number :  2147\n",
      "\u001b[2m\u001b[36m(train_net pid=21282)\u001b[0m Build the DeepConvLSTM model!\n",
      "\u001b[2m\u001b[36m(train_net pid=23225)\u001b[0m new best score!!!!\n",
      "\u001b[2m\u001b[36m(train_net pid=23346)\u001b[0m Learning rate adjusting counter: 1 out of 5\n",
      "\u001b[2m\u001b[36m(train_net pid=21282)\u001b[0m new best score!!!!\n",
      "\u001b[2m\u001b[36m(train_net pid=23305)\u001b[0m new best score!!!!\n"
     ]
    },
    {
     "name": "stderr",
     "output_type": "stream",
     "text": [
      "\u001b[2m\u001b[36m(train_net pid=23305)\u001b[0m Restored on 10.10.253.254 from checkpoint: /home/janis/PopulationBasedTraining/RayTuneResults/oppo/pbt/oppo_test_data_as_validation_perturbation_3_1/train_net_1dddc_00007_7_mixup_probability=0.3000,random_aug_first=False,random_augmentation_prob=0.1000_2023-08-16_19-05-35/checkpoint_tmp8fa2af\n",
      "\u001b[2m\u001b[36m(train_net pid=23305)\u001b[0m Current state after restoring: {'_iteration': 18, '_timesteps_total': None, '_time_total': 2919.103046655655, '_episodes_total': None}\n"
     ]
    },
    {
     "name": "stdout",
     "output_type": "stream",
     "text": [
      "\u001b[2m\u001b[36m(train_net pid=23305)\u001b[0m /tmp/ray/session_2023-08-16_19-05-30_904053_8929/runtime_resources/working_dir_files/_ray_pkg_f201ed243ee42fb4\n",
      "\u001b[2m\u001b[36m(train_net pid=23305)\u001b[0m Train data number :  47869\n",
      "\u001b[2m\u001b[36m(train_net pid=23305)\u001b[0m The number of classes is :  18\n",
      "\u001b[2m\u001b[36m(train_net pid=23305)\u001b[0m The input_length  is :  30\n",
      "\u001b[2m\u001b[36m(train_net pid=23305)\u001b[0m The channel_in is :  77\n",
      "\u001b[2m\u001b[36m(train_net pid=23305)\u001b[0m Validation data number :  2147\n",
      "\u001b[2m\u001b[36m(train_net pid=23305)\u001b[0m Build the DeepConvLSTM model!\n",
      "\u001b[2m\u001b[36m(train_net pid=23390)\u001b[0m Learning rate adjusting counter: 3 out of 5\n",
      "\u001b[2m\u001b[36m(train_net pid=21282)\u001b[0m Learning rate adjusting counter: 1 out of 5\n",
      "\u001b[2m\u001b[36m(train_net pid=23305)\u001b[0m new best score!!!!\n",
      "\u001b[2m\u001b[36m(train_net pid=23225)\u001b[0m Learning rate adjusting counter: 1 out of 5\n"
     ]
    },
    {
     "name": "stderr",
     "output_type": "stream",
     "text": [
      "\u001b[2m\u001b[36m(train_net pid=23225)\u001b[0m Restored on 10.10.253.254 from checkpoint: /home/janis/PopulationBasedTraining/RayTuneResults/oppo/pbt/oppo_test_data_as_validation_perturbation_3_1/train_net_1dddc_00008_8_mixup_probability=0.3000,random_aug_first=True,random_augmentation_prob=0.2000_2023-08-16_19-05-35/checkpoint_tmpffab89\n",
      "\u001b[2m\u001b[36m(train_net pid=23225)\u001b[0m Current state after restoring: {'_iteration': 18, '_timesteps_total': None, '_time_total': 2294.7245333194733, '_episodes_total': None}\n"
     ]
    },
    {
     "name": "stdout",
     "output_type": "stream",
     "text": [
      "\u001b[2m\u001b[36m(train_net pid=23225)\u001b[0m /tmp/ray/session_2023-08-16_19-05-30_904053_8929/runtime_resources/working_dir_files/_ray_pkg_f201ed243ee42fb4\n",
      "\u001b[2m\u001b[36m(train_net pid=23225)\u001b[0m Train data number :  47869\n",
      "\u001b[2m\u001b[36m(train_net pid=23225)\u001b[0m The number of classes is :  18\n",
      "\u001b[2m\u001b[36m(train_net pid=23225)\u001b[0m The input_length  is :  30\n",
      "\u001b[2m\u001b[36m(train_net pid=23225)\u001b[0m The channel_in is :  77\n",
      "\u001b[2m\u001b[36m(train_net pid=23225)\u001b[0m Validation data number :  2147\n",
      "\u001b[2m\u001b[36m(train_net pid=23225)\u001b[0m Build the DeepConvLSTM model!\n",
      "\u001b[2m\u001b[36m(train_net pid=23346)\u001b[0m new best score!!!!\n",
      "\u001b[2m\u001b[36m(train_net pid=23346)\u001b[0m /tmp/ray/session_2023-08-16_19-05-30_904053_8929/runtime_resources/working_dir_files/_ray_pkg_f201ed243ee42fb4\n",
      "\u001b[2m\u001b[36m(train_net pid=23346)\u001b[0m Train data number :  47869\n",
      "\u001b[2m\u001b[36m(train_net pid=23346)\u001b[0m The number of classes is :  18\n",
      "\u001b[2m\u001b[36m(train_net pid=23346)\u001b[0m The input_length  is :  30\n",
      "\u001b[2m\u001b[36m(train_net pid=23346)\u001b[0m The channel_in is :  77\n",
      "\u001b[2m\u001b[36m(train_net pid=23346)\u001b[0m Validation data number :  2147\n",
      "\u001b[2m\u001b[36m(train_net pid=23346)\u001b[0m Build the DeepConvLSTM model!\n",
      "\u001b[2m\u001b[36m(train_net pid=23390)\u001b[0m new best score!!!!\n",
      "\u001b[2m\u001b[36m(train_net pid=21282)\u001b[0m new best score!!!!\n"
     ]
    },
    {
     "name": "stderr",
     "output_type": "stream",
     "text": [
      "\u001b[2m\u001b[36m(train_net pid=21282)\u001b[0m Restored on 10.10.253.254 from checkpoint: /home/janis/PopulationBasedTraining/RayTuneResults/oppo/pbt/oppo_test_data_as_validation_perturbation_3_1/train_net_1dddc_00010_10_mixup_probability=0.2000,random_aug_first=False,random_augmentation_prob=0.4000_2023-08-16_19-05-35/checkpoint_tmpa2cdf9\u001b[32m [repeated 2x across cluster]\u001b[0m\n",
      "\u001b[2m\u001b[36m(train_net pid=21282)\u001b[0m Current state after restoring: {'_iteration': 18, '_timesteps_total': None, '_time_total': 1894.9059495925903, '_episodes_total': None}\u001b[32m [repeated 2x across cluster]\u001b[0m\n"
     ]
    },
    {
     "name": "stdout",
     "output_type": "stream",
     "text": [
      "\u001b[2m\u001b[36m(train_net pid=21282)\u001b[0m /tmp/ray/session_2023-08-16_19-05-30_904053_8929/runtime_resources/working_dir_files/_ray_pkg_f201ed243ee42fb4\n",
      "\u001b[2m\u001b[36m(train_net pid=21282)\u001b[0m Train data number :  47869\n",
      "\u001b[2m\u001b[36m(train_net pid=21282)\u001b[0m The number of classes is :  18\n",
      "\u001b[2m\u001b[36m(train_net pid=21282)\u001b[0m The input_length  is :  30\n",
      "\u001b[2m\u001b[36m(train_net pid=21282)\u001b[0m The channel_in is :  77\n",
      "\u001b[2m\u001b[36m(train_net pid=21282)\u001b[0m Validation data number :  2147\n",
      "\u001b[2m\u001b[36m(train_net pid=21282)\u001b[0m Build the DeepConvLSTM model!\n",
      "\u001b[2m\u001b[36m(train_net pid=21282)\u001b[0m new best score!!!!\n",
      "\u001b[2m\u001b[36m(train_net pid=23305)\u001b[0m new best score!!!!\n",
      "\u001b[2m\u001b[36m(train_net pid=23346)\u001b[0m Learning rate adjusting counter: 1 out of 5\n",
      "\u001b[2m\u001b[36m(train_net pid=23225)\u001b[0m Learning rate adjusting counter: 1 out of 5\n",
      "\u001b[2m\u001b[36m(train_net pid=21282)\u001b[0m new best score!!!!\n",
      "\u001b[2m\u001b[36m(train_net pid=23390)\u001b[0m new best score!!!!\n"
     ]
    },
    {
     "name": "stderr",
     "output_type": "stream",
     "text": [
      "\u001b[2m\u001b[36m(train_net pid=23390)\u001b[0m Restored on 10.10.253.254 from checkpoint: /home/janis/PopulationBasedTraining/RayTuneResults/oppo/pbt/oppo_test_data_as_validation_perturbation_3_1/train_net_1dddc_00011_11_mixup_probability=1.0000,random_aug_first=True,random_augmentation_prob=0.0000_2023-08-16_19-05-35/checkpoint_tmp92ad46\n",
      "\u001b[2m\u001b[36m(train_net pid=23390)\u001b[0m Current state after restoring: {'_iteration': 18, '_timesteps_total': None, '_time_total': 2918.2959699630737, '_episodes_total': None}\n"
     ]
    },
    {
     "name": "stdout",
     "output_type": "stream",
     "text": [
      "\u001b[2m\u001b[36m(train_net pid=23390)\u001b[0m /tmp/ray/session_2023-08-16_19-05-30_904053_8929/runtime_resources/working_dir_files/_ray_pkg_f201ed243ee42fb4\n",
      "\u001b[2m\u001b[36m(train_net pid=23390)\u001b[0m Train data number :  47869\n",
      "\u001b[2m\u001b[36m(train_net pid=23390)\u001b[0m The number of classes is :  18\n",
      "\u001b[2m\u001b[36m(train_net pid=23390)\u001b[0m The input_length  is :  30\n",
      "\u001b[2m\u001b[36m(train_net pid=23390)\u001b[0m The channel_in is :  77\n",
      "\u001b[2m\u001b[36m(train_net pid=23390)\u001b[0m Validation data number :  2147\n",
      "\u001b[2m\u001b[36m(train_net pid=23390)\u001b[0m Build the DeepConvLSTM model!\n",
      "\u001b[2m\u001b[36m(train_net pid=23305)\u001b[0m Learning rate adjusting counter: 1 out of 5\n"
     ]
    },
    {
     "name": "stderr",
     "output_type": "stream",
     "text": [
      "\u001b[2m\u001b[36m(train_net pid=23305)\u001b[0m Restored on 10.10.253.254 from checkpoint: /home/janis/PopulationBasedTraining/RayTuneResults/oppo/pbt/oppo_test_data_as_validation_perturbation_3_1/train_net_1dddc_00012_12_mixup_probability=0.9000,random_aug_first=True,random_augmentation_prob=0.5000_2023-08-16_19-05-35/checkpoint_tmp3a5526\n",
      "\u001b[2m\u001b[36m(train_net pid=23305)\u001b[0m Current state after restoring: {'_iteration': 18, '_timesteps_total': None, '_time_total': 1949.4122998714447, '_episodes_total': None}\n"
     ]
    },
    {
     "name": "stdout",
     "output_type": "stream",
     "text": [
      "\u001b[2m\u001b[36m(train_net pid=23305)\u001b[0m /tmp/ray/session_2023-08-16_19-05-30_904053_8929/runtime_resources/working_dir_files/_ray_pkg_f201ed243ee42fb4\n",
      "\u001b[2m\u001b[36m(train_net pid=23305)\u001b[0m Train data number :  47869\n",
      "\u001b[2m\u001b[36m(train_net pid=23305)\u001b[0m The number of classes is :  18\n",
      "\u001b[2m\u001b[36m(train_net pid=23305)\u001b[0m The input_length  is :  30\n",
      "\u001b[2m\u001b[36m(train_net pid=23305)\u001b[0m The channel_in is :  77\n",
      "\u001b[2m\u001b[36m(train_net pid=23305)\u001b[0m Validation data number :  2147\n",
      "\u001b[2m\u001b[36m(train_net pid=23305)\u001b[0m Build the DeepConvLSTM model!\n",
      "\u001b[2m\u001b[36m(train_net pid=21282)\u001b[0m Learning rate adjusting counter: 1 out of 5\n"
     ]
    },
    {
     "name": "stderr",
     "output_type": "stream",
     "text": [
      "\u001b[2m\u001b[36m(train_net pid=21282)\u001b[0m Restored on 10.10.253.254 from checkpoint: /home/janis/PopulationBasedTraining/RayTuneResults/oppo/pbt/oppo_test_data_as_validation_perturbation_3_1/train_net_1dddc_00013_13_mixup_probability=0.0000,random_aug_first=False,random_augmentation_prob=0.2000_2023-08-16_19-05-35/checkpoint_tmp4127af\n",
      "\u001b[2m\u001b[36m(train_net pid=21282)\u001b[0m Current state after restoring: {'_iteration': 18, '_timesteps_total': None, '_time_total': 1333.3804895877838, '_episodes_total': None}\n"
     ]
    },
    {
     "name": "stdout",
     "output_type": "stream",
     "text": [
      "\u001b[2m\u001b[36m(train_net pid=21282)\u001b[0m /tmp/ray/session_2023-08-16_19-05-30_904053_8929/runtime_resources/working_dir_files/_ray_pkg_f201ed243ee42fb4\n",
      "\u001b[2m\u001b[36m(train_net pid=21282)\u001b[0m Train data number :  47869\n",
      "\u001b[2m\u001b[36m(train_net pid=21282)\u001b[0m The number of classes is :  18\n",
      "\u001b[2m\u001b[36m(train_net pid=21282)\u001b[0m The input_length  is :  30\n",
      "\u001b[2m\u001b[36m(train_net pid=21282)\u001b[0m The channel_in is :  77\n",
      "\u001b[2m\u001b[36m(train_net pid=21282)\u001b[0m Validation data number :  2147\n",
      "\u001b[2m\u001b[36m(train_net pid=21282)\u001b[0m Build the DeepConvLSTM model!\n",
      "\u001b[2m\u001b[36m(train_net pid=23390)\u001b[0m new best score!!!!\n",
      "\u001b[2m\u001b[36m(train_net pid=21282)\u001b[0m Learning rate adjusting counter: 1 out of 5\n",
      "\u001b[2m\u001b[36m(train_net pid=23346)\u001b[0m Learning rate adjusting counter: 2 out of 5\n",
      "\u001b[2m\u001b[36m(train_net pid=23305)\u001b[0m Learning rate adjusting counter: 2 out of 5\n",
      "\u001b[2m\u001b[36m(train_net pid=21282)\u001b[0m Learning rate adjusting counter: 2 out of 5\n",
      "\u001b[2m\u001b[36m(train_net pid=23390)\u001b[0m Learning rate adjusting counter: 1 out of 5\n",
      "\u001b[2m\u001b[36m(train_net pid=23225)\u001b[0m new best score!!!!\n",
      "\u001b[2m\u001b[36m(train_net pid=21282)\u001b[0m Learning rate adjusting counter: 3 out of 5\n"
     ]
    },
    {
     "name": "stderr",
     "output_type": "stream",
     "text": [
      "\u001b[2m\u001b[36m(train_net pid=21282)\u001b[0m Restored on 10.10.253.254 from checkpoint: /home/janis/PopulationBasedTraining/RayTuneResults/oppo/pbt/oppo_test_data_as_validation_perturbation_3_1/train_net_1dddc_00014_14_mixup_probability=0.0000,random_aug_first=True,random_augmentation_prob=1.0000_2023-08-16_19-05-35/checkpoint_tmp32a637\n",
      "\u001b[2m\u001b[36m(train_net pid=21282)\u001b[0m Current state after restoring: {'_iteration': 18, '_timesteps_total': None, '_time_total': 1829.74898147583, '_episodes_total': None}\n"
     ]
    },
    {
     "name": "stdout",
     "output_type": "stream",
     "text": [
      "\u001b[2m\u001b[36m(train_net pid=21282)\u001b[0m /tmp/ray/session_2023-08-16_19-05-30_904053_8929/runtime_resources/working_dir_files/_ray_pkg_f201ed243ee42fb4\n",
      "\u001b[2m\u001b[36m(train_net pid=21282)\u001b[0m Train data number :  47869\n",
      "\u001b[2m\u001b[36m(train_net pid=21282)\u001b[0m The number of classes is :  18\n",
      "\u001b[2m\u001b[36m(train_net pid=21282)\u001b[0m The input_length  is :  30\n",
      "\u001b[2m\u001b[36m(train_net pid=21282)\u001b[0m The channel_in is :  77\n",
      "\u001b[2m\u001b[36m(train_net pid=21282)\u001b[0m Validation data number :  2147\n",
      "\u001b[2m\u001b[36m(train_net pid=21282)\u001b[0m Build the DeepConvLSTM model!\n",
      "\u001b[2m\u001b[36m(train_net pid=23390)\u001b[0m Learning rate adjusting counter: 2 out of 5\n"
     ]
    },
    {
     "name": "stderr",
     "output_type": "stream",
     "text": [
      "\u001b[2m\u001b[36m(train_net pid=23390)\u001b[0m Restored on 10.10.253.254 from checkpoint: /home/janis/PopulationBasedTraining/RayTuneResults/oppo/pbt/oppo_test_data_as_validation_perturbation_3_1/train_net_1dddc_00015_15_mixup_probability=0.2000,random_aug_first=True,random_augmentation_prob=0.5000_2023-08-16_19-05-35/checkpoint_tmp3cfd44\n",
      "\u001b[2m\u001b[36m(train_net pid=23390)\u001b[0m Current state after restoring: {'_iteration': 18, '_timesteps_total': None, '_time_total': 2918.2959699630737, '_episodes_total': None}\n"
     ]
    },
    {
     "name": "stdout",
     "output_type": "stream",
     "text": [
      "\u001b[2m\u001b[36m(train_net pid=23390)\u001b[0m /tmp/ray/session_2023-08-16_19-05-30_904053_8929/runtime_resources/working_dir_files/_ray_pkg_f201ed243ee42fb4\n",
      "\u001b[2m\u001b[36m(train_net pid=23390)\u001b[0m Train data number :  47869\n",
      "\u001b[2m\u001b[36m(train_net pid=23390)\u001b[0m The number of classes is :  18\n",
      "\u001b[2m\u001b[36m(train_net pid=23390)\u001b[0m The input_length  is :  30\n",
      "\u001b[2m\u001b[36m(train_net pid=23390)\u001b[0m The channel_in is :  77\n",
      "\u001b[2m\u001b[36m(train_net pid=23390)\u001b[0m Validation data number :  2147\n",
      "\u001b[2m\u001b[36m(train_net pid=23390)\u001b[0m Build the DeepConvLSTM model!\n",
      "\u001b[2m\u001b[36m(train_net pid=23305)\u001b[0m new best score!!!!\n",
      "\u001b[2m\u001b[36m(train_net pid=23346)\u001b[0m new best score!!!!\n",
      "\u001b[2m\u001b[36m(train_net pid=21282)\u001b[0m new best score!!!!\n",
      "\u001b[2m\u001b[36m(train_net pid=23225)\u001b[0m new best score!!!!\n",
      "\u001b[2m\u001b[36m(train_net pid=23305)\u001b[0m new best score!!!!\n",
      "\u001b[2m\u001b[36m(train_net pid=23390)\u001b[0m Learning rate adjusting counter: 1 out of 5\n",
      "\u001b[2m\u001b[36m(train_net pid=21282)\u001b[0m new best score!!!!\n",
      "\u001b[2m\u001b[36m(train_net pid=21282)\u001b[0m Learning rate adjusting counter: 1 out of 5\n",
      "\u001b[2m\u001b[36m(train_net pid=23390)\u001b[0m Learning rate adjusting counter: 2 out of 5\n"
     ]
    },
    {
     "name": "stderr",
     "output_type": "stream",
     "text": [
      "2023-08-16 21:41:11,488\tINFO pbt.py:809 -- \n",
      "\n",
      "[PopulationBasedTraining] [Exploit] Cloning trial 1dddc_00012 (score = 0.896134) into trial 1dddc_00011 (score = 0.881230)\n",
      "\n",
      "2023-08-16 21:41:11,489\tINFO pbt.py:836 -- \n",
      "\n",
      "[PopulationBasedTraining] [Explore] Perturbed the hyperparameter config of trial1dddc_00011:\n",
      "random_augmentation_prob : 0.5 --- (shift left) --> 0.4\n",
      "mixup_probability : 0.9 --- (shift right) --> 1.0\n",
      "\n",
      "2023-08-16 21:41:11,614\tINFO pbt.py:809 -- \n",
      "\n",
      "[PopulationBasedTraining] [Exploit] Cloning trial 1dddc_00012 (score = 0.896134) into trial 1dddc_00010 (score = 0.882627)\n",
      "\n",
      "2023-08-16 21:41:11,615\tINFO pbt.py:836 -- \n",
      "\n",
      "[PopulationBasedTraining] [Explore] Perturbed the hyperparameter config of trial1dddc_00010:\n",
      "random_augmentation_prob : 0.5 --- (shift left) --> 0.4\n",
      "mixup_probability : 0.9 --- (shift left) --> 0.8\n",
      "\n",
      "2023-08-16 21:41:11,722\tINFO pbt.py:809 -- \n",
      "\n",
      "[PopulationBasedTraining] [Exploit] Cloning trial 1dddc_00008 (score = 0.896600) into trial 1dddc_00007 (score = 0.887750)\n",
      "\n",
      "2023-08-16 21:41:11,723\tINFO pbt.py:836 -- \n",
      "\n",
      "[PopulationBasedTraining] [Explore] Perturbed the hyperparameter config of trial1dddc_00007:\n",
      "random_augmentation_prob : 0.1 --- (shift left) --> 0.0\n",
      "mixup_probability : 0.8 --- (shift left) --> 0.7000000000000001\n",
      "\n"
     ]
    },
    {
     "name": "stdout",
     "output_type": "stream",
     "text": [
      "\u001b[2m\u001b[36m(train_net pid=23390)\u001b[0m new best score!!!!\n"
     ]
    },
    {
     "name": "stderr",
     "output_type": "stream",
     "text": [
      "2023-08-16 21:41:11,828\tINFO pbt.py:809 -- \n",
      "\n",
      "[PopulationBasedTraining] [Exploit] Cloning trial 1dddc_00001 (score = 0.896134) into trial 1dddc_00000 (score = 0.889148)\n",
      "\n",
      "2023-08-16 21:41:11,829\tINFO pbt.py:836 -- \n",
      "\n",
      "[PopulationBasedTraining] [Explore] Perturbed the hyperparameter config of trial1dddc_00000:\n",
      "random_augmentation_prob : 0.0 --- (shift left (noop)) --> 0.0\n",
      "mixup_probability : 0.9 --- (resample) --> 0.5\n",
      "\n",
      "\u001b[2m\u001b[36m(train_net pid=23390)\u001b[0m Restored on 10.10.253.254 from checkpoint: /home/janis/PopulationBasedTraining/RayTuneResults/oppo/pbt/oppo_test_data_as_validation_perturbation_3_1/train_net_1dddc_00000_0_mixup_probability=0.1000,random_aug_first=False,random_augmentation_prob=0.8000_2023-08-16_19-05-35/checkpoint_tmp52a315\n",
      "\u001b[2m\u001b[36m(train_net pid=23390)\u001b[0m Current state after restoring: {'_iteration': 21, '_timesteps_total': None, '_time_total': 2937.1635286808014, '_episodes_total': None}\n"
     ]
    },
    {
     "name": "stdout",
     "output_type": "stream",
     "text": [
      "\u001b[2m\u001b[36m(train_net pid=23390)\u001b[0m /tmp/ray/session_2023-08-16_19-05-30_904053_8929/runtime_resources/working_dir_files/_ray_pkg_f201ed243ee42fb4\n",
      "\u001b[2m\u001b[36m(train_net pid=23390)\u001b[0m Train data number :  47869\n",
      "\u001b[2m\u001b[36m(train_net pid=23390)\u001b[0m The number of classes is :  18\n",
      "\u001b[2m\u001b[36m(train_net pid=23390)\u001b[0m The input_length  is :  30\n",
      "\u001b[2m\u001b[36m(train_net pid=23390)\u001b[0m The channel_in is :  77\n",
      "\u001b[2m\u001b[36m(train_net pid=23390)\u001b[0m Validation data number :  2147\n",
      "\u001b[2m\u001b[36m(train_net pid=23390)\u001b[0m Build the DeepConvLSTM model!\n"
     ]
    },
    {
     "name": "stderr",
     "output_type": "stream",
     "text": [
      "\u001b[2m\u001b[36m(train_net pid=26724)\u001b[0m Restored on 10.10.253.254 from checkpoint: /home/janis/PopulationBasedTraining/RayTuneResults/oppo/pbt/oppo_test_data_as_validation_perturbation_3_1/train_net_1dddc_00003_3_mixup_probability=0.2000,random_aug_first=True,random_augmentation_prob=0.9000_2023-08-16_19-05-35/checkpoint_tmp34b400\u001b[32m [repeated 3x across cluster]\u001b[0m\n",
      "\u001b[2m\u001b[36m(train_net pid=26724)\u001b[0m Current state after restoring: {'_iteration': 21, '_timesteps_total': None, '_time_total': 2941.9854760169983, '_episodes_total': None}\u001b[32m [repeated 3x across cluster]\u001b[0m\n"
     ]
    },
    {
     "name": "stdout",
     "output_type": "stream",
     "text": [
      "\u001b[2m\u001b[36m(train_net pid=26724)\u001b[0m /tmp/ray/session_2023-08-16_19-05-30_904053_8929/runtime_resources/working_dir_files/_ray_pkg_f201ed243ee42fb4\u001b[32m [repeated 3x across cluster]\u001b[0m\n",
      "\u001b[2m\u001b[36m(train_net pid=26724)\u001b[0m Train data number :  47869\u001b[32m [repeated 3x across cluster]\u001b[0m\n",
      "\u001b[2m\u001b[36m(train_net pid=26724)\u001b[0m The number of classes is :  18\u001b[32m [repeated 3x across cluster]\u001b[0m\n",
      "\u001b[2m\u001b[36m(train_net pid=26724)\u001b[0m The input_length  is :  30\u001b[32m [repeated 3x across cluster]\u001b[0m\n",
      "\u001b[2m\u001b[36m(train_net pid=26724)\u001b[0m The channel_in is :  77\u001b[32m [repeated 3x across cluster]\u001b[0m\n",
      "\u001b[2m\u001b[36m(train_net pid=26724)\u001b[0m Validation data number :  2147\u001b[32m [repeated 3x across cluster]\u001b[0m\n",
      "\u001b[2m\u001b[36m(train_net pid=26724)\u001b[0m Build the DeepConvLSTM model!\u001b[32m [repeated 3x across cluster]\u001b[0m\n",
      "\u001b[2m\u001b[36m(train_net pid=26768)\u001b[0m Learning rate adjusting counter: 2 out of 5\n",
      "\u001b[2m\u001b[36m(train_net pid=26768)\u001b[0m /tmp/ray/session_2023-08-16_19-05-30_904053_8929/runtime_resources/working_dir_files/_ray_pkg_f201ed243ee42fb4\n",
      "\u001b[2m\u001b[36m(train_net pid=26768)\u001b[0m Train data number :  47869\n",
      "\u001b[2m\u001b[36m(train_net pid=26768)\u001b[0m The number of classes is :  18\n",
      "\u001b[2m\u001b[36m(train_net pid=26768)\u001b[0m The input_length  is :  30\n",
      "\u001b[2m\u001b[36m(train_net pid=26768)\u001b[0m The channel_in is :  77\n",
      "\u001b[2m\u001b[36m(train_net pid=26768)\u001b[0m Validation data number :  2147\n",
      "\u001b[2m\u001b[36m(train_net pid=26768)\u001b[0m Build the DeepConvLSTM model!\n",
      "\u001b[2m\u001b[36m(train_net pid=26676)\u001b[0m new best score!!!!\n",
      "\u001b[2m\u001b[36m(train_net pid=26768)\u001b[0m Learning rate adjusting counter: 3 out of 5\n",
      "\u001b[2m\u001b[36m(train_net pid=23390)\u001b[0m new best score!!!!\n",
      "\u001b[2m\u001b[36m(train_net pid=26724)\u001b[0m Learning rate adjusting counter: 1 out of 5\n",
      "\u001b[2m\u001b[36m(train_net pid=26598)\u001b[0m new best score!!!!\n",
      "\u001b[2m\u001b[36m(train_net pid=26768)\u001b[0m Learning rate adjusting counter: 4 out of 5\n"
     ]
    },
    {
     "name": "stderr",
     "output_type": "stream",
     "text": [
      "\u001b[2m\u001b[36m(train_net pid=26768)\u001b[0m Restored on 10.10.253.254 from checkpoint: /home/janis/PopulationBasedTraining/RayTuneResults/oppo/pbt/oppo_test_data_as_validation_perturbation_3_1/train_net_1dddc_00005_5_mixup_probability=0.8000,random_aug_first=True,random_augmentation_prob=0.5000_2023-08-16_19-05-35/checkpoint_tmpb0e03b\u001b[32m [repeated 2x across cluster]\u001b[0m\n",
      "\u001b[2m\u001b[36m(train_net pid=26768)\u001b[0m Current state after restoring: {'_iteration': 21, '_timesteps_total': None, '_time_total': 2809.7798326015472, '_episodes_total': None}\u001b[32m [repeated 2x across cluster]\u001b[0m\n"
     ]
    },
    {
     "name": "stdout",
     "output_type": "stream",
     "text": [
      "\u001b[2m\u001b[36m(train_net pid=26768)\u001b[0m /tmp/ray/session_2023-08-16_19-05-30_904053_8929/runtime_resources/working_dir_files/_ray_pkg_f201ed243ee42fb4\n",
      "\u001b[2m\u001b[36m(train_net pid=26768)\u001b[0m Train data number :  47869\n",
      "\u001b[2m\u001b[36m(train_net pid=26768)\u001b[0m The number of classes is :  18\n",
      "\u001b[2m\u001b[36m(train_net pid=26768)\u001b[0m The input_length  is :  30\n",
      "\u001b[2m\u001b[36m(train_net pid=26768)\u001b[0m The channel_in is :  77\n",
      "\u001b[2m\u001b[36m(train_net pid=26768)\u001b[0m Validation data number :  2147\n",
      "\u001b[2m\u001b[36m(train_net pid=26768)\u001b[0m Build the DeepConvLSTM model!\n",
      "\u001b[2m\u001b[36m(train_net pid=26676)\u001b[0m new best score!!!!\n",
      "\u001b[2m\u001b[36m(train_net pid=23390)\u001b[0m Learning rate adjusting counter: 1 out of 5\n",
      "\u001b[2m\u001b[36m(train_net pid=26724)\u001b[0m Learning rate adjusting counter: 2 out of 5\n",
      "\u001b[2m\u001b[36m(train_net pid=26598)\u001b[0m Learning rate adjusting counter: 1 out of 5\n",
      "\u001b[2m\u001b[36m(train_net pid=26676)\u001b[0m new best score!!!!\n"
     ]
    },
    {
     "name": "stderr",
     "output_type": "stream",
     "text": [
      "\u001b[2m\u001b[36m(train_net pid=26676)\u001b[0m Restored on 10.10.253.254 from checkpoint: /home/janis/PopulationBasedTraining/RayTuneResults/oppo/pbt/oppo_test_data_as_validation_perturbation_3_1/train_net_1dddc_00006_6_mixup_probability=0.7000,random_aug_first=True,random_augmentation_prob=1.0000_2023-08-16_19-05-35/checkpoint_tmp60a6ce\n",
      "\u001b[2m\u001b[36m(train_net pid=26676)\u001b[0m Current state after restoring: {'_iteration': 21, '_timesteps_total': None, '_time_total': 2231.352998971939, '_episodes_total': None}\n"
     ]
    },
    {
     "name": "stdout",
     "output_type": "stream",
     "text": [
      "\u001b[2m\u001b[36m(train_net pid=26676)\u001b[0m /tmp/ray/session_2023-08-16_19-05-30_904053_8929/runtime_resources/working_dir_files/_ray_pkg_f201ed243ee42fb4\n",
      "\u001b[2m\u001b[36m(train_net pid=26676)\u001b[0m Train data number :  47869\n",
      "\u001b[2m\u001b[36m(train_net pid=26676)\u001b[0m The number of classes is :  18\n",
      "\u001b[2m\u001b[36m(train_net pid=26676)\u001b[0m The input_length  is :  30\n",
      "\u001b[2m\u001b[36m(train_net pid=26676)\u001b[0m The channel_in is :  77\n",
      "\u001b[2m\u001b[36m(train_net pid=26676)\u001b[0m Validation data number :  2147\n",
      "\u001b[2m\u001b[36m(train_net pid=26676)\u001b[0m Build the DeepConvLSTM model!\n",
      "\u001b[2m\u001b[36m(train_net pid=26768)\u001b[0m Learning rate adjusting counter: 1 out of 5\n",
      "\u001b[2m\u001b[36m(train_net pid=26676)\u001b[0m Learning rate adjusting counter: 1 out of 5\n",
      "\u001b[2m\u001b[36m(train_net pid=23390)\u001b[0m Learning rate adjusting counter: 2 out of 5\n"
     ]
    },
    {
     "name": "stderr",
     "output_type": "stream",
     "text": [
      "\u001b[2m\u001b[36m(train_net pid=23390)\u001b[0m Restored on 10.10.253.254 from checkpoint: /home/janis/PopulationBasedTraining/RayTuneResults/oppo/pbt/oppo_test_data_as_validation_perturbation_3_1/train_net_1dddc_00007_7_mixup_probability=0.3000,random_aug_first=False,random_augmentation_prob=0.1000_2023-08-16_19-05-35/checkpoint_tmpdbacad\n",
      "\u001b[2m\u001b[36m(train_net pid=23390)\u001b[0m Current state after restoring: {'_iteration': 21, '_timesteps_total': None, '_time_total': 2880.057362794876, '_episodes_total': None}\n"
     ]
    },
    {
     "name": "stdout",
     "output_type": "stream",
     "text": [
      "\u001b[2m\u001b[36m(train_net pid=23390)\u001b[0m /tmp/ray/session_2023-08-16_19-05-30_904053_8929/runtime_resources/working_dir_files/_ray_pkg_f201ed243ee42fb4\n",
      "\u001b[2m\u001b[36m(train_net pid=23390)\u001b[0m Train data number :  47869\n",
      "\u001b[2m\u001b[36m(train_net pid=23390)\u001b[0m The number of classes is :  18\n",
      "\u001b[2m\u001b[36m(train_net pid=23390)\u001b[0m The input_length  is :  30\n",
      "\u001b[2m\u001b[36m(train_net pid=23390)\u001b[0m The channel_in is :  77\n",
      "\u001b[2m\u001b[36m(train_net pid=23390)\u001b[0m Validation data number :  2147\n",
      "\u001b[2m\u001b[36m(train_net pid=23390)\u001b[0m Build the DeepConvLSTM model!\n",
      "\u001b[2m\u001b[36m(train_net pid=26724)\u001b[0m new best score!!!!\n"
     ]
    },
    {
     "name": "stderr",
     "output_type": "stream",
     "text": [
      "\u001b[2m\u001b[36m(train_net pid=26724)\u001b[0m Restored on 10.10.253.254 from checkpoint: /home/janis/PopulationBasedTraining/RayTuneResults/oppo/pbt/oppo_test_data_as_validation_perturbation_3_1/train_net_1dddc_00008_8_mixup_probability=0.3000,random_aug_first=True,random_augmentation_prob=0.2000_2023-08-16_19-05-35/checkpoint_tmpb1a50a\n",
      "\u001b[2m\u001b[36m(train_net pid=26724)\u001b[0m Current state after restoring: {'_iteration': 21, '_timesteps_total': None, '_time_total': 2880.057362794876, '_episodes_total': None}\n"
     ]
    },
    {
     "name": "stdout",
     "output_type": "stream",
     "text": [
      "\u001b[2m\u001b[36m(train_net pid=26724)\u001b[0m /tmp/ray/session_2023-08-16_19-05-30_904053_8929/runtime_resources/working_dir_files/_ray_pkg_f201ed243ee42fb4\n",
      "\u001b[2m\u001b[36m(train_net pid=26724)\u001b[0m Train data number :  47869\n",
      "\u001b[2m\u001b[36m(train_net pid=26724)\u001b[0m The number of classes is :  18\n",
      "\u001b[2m\u001b[36m(train_net pid=26724)\u001b[0m The input_length  is :  30\n",
      "\u001b[2m\u001b[36m(train_net pid=26724)\u001b[0m The channel_in is :  77\n",
      "\u001b[2m\u001b[36m(train_net pid=26724)\u001b[0m Validation data number :  2147\n",
      "\u001b[2m\u001b[36m(train_net pid=26724)\u001b[0m Build the DeepConvLSTM model!\n",
      "\u001b[2m\u001b[36m(train_net pid=26598)\u001b[0m Learning rate adjusting counter: 2 out of 5\n"
     ]
    },
    {
     "name": "stderr",
     "output_type": "stream",
     "text": [
      "\u001b[2m\u001b[36m(train_net pid=26598)\u001b[0m Restored on 10.10.253.254 from checkpoint: /home/janis/PopulationBasedTraining/RayTuneResults/oppo/pbt/oppo_test_data_as_validation_perturbation_3_1/train_net_1dddc_00009_9_mixup_probability=0.6000,random_aug_first=True,random_augmentation_prob=0.2000_2023-08-16_19-05-35/checkpoint_tmpe24c35\n",
      "\u001b[2m\u001b[36m(train_net pid=26598)\u001b[0m Current state after restoring: {'_iteration': 21, '_timesteps_total': None, '_time_total': 3634.813393831253, '_episodes_total': None}\n"
     ]
    },
    {
     "name": "stdout",
     "output_type": "stream",
     "text": [
      "\u001b[2m\u001b[36m(train_net pid=26598)\u001b[0m /tmp/ray/session_2023-08-16_19-05-30_904053_8929/runtime_resources/working_dir_files/_ray_pkg_f201ed243ee42fb4\n",
      "\u001b[2m\u001b[36m(train_net pid=26598)\u001b[0m Train data number :  47869\n",
      "\u001b[2m\u001b[36m(train_net pid=26598)\u001b[0m The number of classes is :  18\n",
      "\u001b[2m\u001b[36m(train_net pid=26598)\u001b[0m The input_length  is :  30\n",
      "\u001b[2m\u001b[36m(train_net pid=26598)\u001b[0m The channel_in is :  77\n",
      "\u001b[2m\u001b[36m(train_net pid=26598)\u001b[0m Validation data number :  2147\n",
      "\u001b[2m\u001b[36m(train_net pid=26598)\u001b[0m Build the DeepConvLSTM model!\n",
      "\u001b[2m\u001b[36m(train_net pid=26768)\u001b[0m Learning rate adjusting counter: 2 out of 5\n",
      "\u001b[2m\u001b[36m(train_net pid=26676)\u001b[0m Learning rate adjusting counter: 2 out of 5\n",
      "\u001b[2m\u001b[36m(train_net pid=26676)\u001b[0m Learning rate adjusting counter: 3 out of 5\n"
     ]
    },
    {
     "name": "stderr",
     "output_type": "stream",
     "text": [
      "\u001b[2m\u001b[36m(train_net pid=26676)\u001b[0m Restored on 10.10.253.254 from checkpoint: /home/janis/PopulationBasedTraining/RayTuneResults/oppo/pbt/oppo_test_data_as_validation_perturbation_3_1/train_net_1dddc_00010_10_mixup_probability=0.2000,random_aug_first=False,random_augmentation_prob=0.4000_2023-08-16_19-05-35/checkpoint_tmpd34363\n",
      "\u001b[2m\u001b[36m(train_net pid=26676)\u001b[0m Current state after restoring: {'_iteration': 21, '_timesteps_total': None, '_time_total': 2278.1859228610992, '_episodes_total': None}\n"
     ]
    },
    {
     "name": "stdout",
     "output_type": "stream",
     "text": [
      "\u001b[2m\u001b[36m(train_net pid=26676)\u001b[0m /tmp/ray/session_2023-08-16_19-05-30_904053_8929/runtime_resources/working_dir_files/_ray_pkg_f201ed243ee42fb4\n",
      "\u001b[2m\u001b[36m(train_net pid=26676)\u001b[0m Train data number :  47869\n",
      "\u001b[2m\u001b[36m(train_net pid=26676)\u001b[0m The number of classes is :  18\n",
      "\u001b[2m\u001b[36m(train_net pid=26676)\u001b[0m The input_length  is :  30\n",
      "\u001b[2m\u001b[36m(train_net pid=26676)\u001b[0m The channel_in is :  77\n",
      "\u001b[2m\u001b[36m(train_net pid=26676)\u001b[0m Validation data number :  2147\n",
      "\u001b[2m\u001b[36m(train_net pid=26676)\u001b[0m Build the DeepConvLSTM model!\n",
      "\u001b[2m\u001b[36m(train_net pid=26598)\u001b[0m Learning rate adjusting counter: 1 out of 5\n",
      "\u001b[2m\u001b[36m(train_net pid=26724)\u001b[0m Learning rate adjusting counter: 1 out of 5\n",
      "\u001b[2m\u001b[36m(train_net pid=23390)\u001b[0m new best score!!!!\n",
      "\u001b[2m\u001b[36m(train_net pid=26768)\u001b[0m Learning rate adjusting counter: 3 out of 5\n"
     ]
    },
    {
     "name": "stderr",
     "output_type": "stream",
     "text": [
      "\u001b[2m\u001b[36m(train_net pid=26768)\u001b[0m Restored on 10.10.253.254 from checkpoint: /home/janis/PopulationBasedTraining/RayTuneResults/oppo/pbt/oppo_test_data_as_validation_perturbation_3_1/train_net_1dddc_00011_11_mixup_probability=1.0000,random_aug_first=True,random_augmentation_prob=0.0000_2023-08-16_19-05-35/checkpoint_tmp153318\n",
      "\u001b[2m\u001b[36m(train_net pid=26768)\u001b[0m Current state after restoring: {'_iteration': 21, '_timesteps_total': None, '_time_total': 2278.1859228610992, '_episodes_total': None}\n"
     ]
    },
    {
     "name": "stdout",
     "output_type": "stream",
     "text": [
      "\u001b[2m\u001b[36m(train_net pid=26768)\u001b[0m /tmp/ray/session_2023-08-16_19-05-30_904053_8929/runtime_resources/working_dir_files/_ray_pkg_f201ed243ee42fb4\n",
      "\u001b[2m\u001b[36m(train_net pid=26768)\u001b[0m Train data number :  47869\n",
      "\u001b[2m\u001b[36m(train_net pid=26768)\u001b[0m The number of classes is :  18\n",
      "\u001b[2m\u001b[36m(train_net pid=26768)\u001b[0m The input_length  is :  30\n",
      "\u001b[2m\u001b[36m(train_net pid=26768)\u001b[0m The channel_in is :  77\n",
      "\u001b[2m\u001b[36m(train_net pid=26768)\u001b[0m Validation data number :  2147\n",
      "\u001b[2m\u001b[36m(train_net pid=26768)\u001b[0m Build the DeepConvLSTM model!\n",
      "\u001b[2m\u001b[36m(train_net pid=26676)\u001b[0m new best score!!!!\n"
     ]
    }
   ],
   "source": [
    "args = get_args()\n",
    "result_grid = train(args)"
   ]
  },
  {
   "cell_type": "code",
   "execution_count": null,
   "metadata": {},
   "outputs": [],
   "source": [
    "best_result = result_grid.get_best_result(mode=\"max\", metric=\"mean_accuracy\")\n",
    "best_checkpoint = best_result.checkpoint\n",
    "checkpoint_dict = best_checkpoint.to_dict()\n",
    "\n",
    "device = torch.device(\"cuda\" if torch.cuda.is_available() else \"cpu\")\n",
    "\n",
    "total_loss,  acc, f_w,  f_macro, f_micro = cal_test_accuracy(args, device, checkpoint_dict)\n",
    "\n",
    "print(total_loss)\n",
    "print(acc)"
   ]
  }
 ],
 "metadata": {
  "kernelspec": {
   "display_name": "Python 3",
   "language": "python",
   "name": "python3"
  },
  "language_info": {
   "codemirror_mode": {
    "name": "ipython",
    "version": 3
   },
   "file_extension": ".py",
   "mimetype": "text/x-python",
   "name": "python",
   "nbconvert_exporter": "python",
   "pygments_lexer": "ipython3",
   "version": "3.10.12"
  },
  "orig_nbformat": 4
 },
 "nbformat": 4,
 "nbformat_minor": 2
}
